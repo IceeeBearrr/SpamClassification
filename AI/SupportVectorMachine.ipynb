{
 "cells": [
  {
   "cell_type": "markdown",
   "metadata": {},
   "source": [
    "Install Essential Libraries"
   ]
  },
  {
   "cell_type": "code",
   "execution_count": 1,
   "metadata": {},
   "outputs": [
    {
     "name": "stdout",
     "output_type": "stream",
     "text": [
      "\u001b[2m\u001b[1m\u001b[32m\n",
      "NECESSARY LIBRARIES WERE SUCCESFULLY IMPORTED...\u001b[0m\n"
     ]
    },
    {
     "name": "stderr",
     "output_type": "stream",
     "text": [
      "[nltk_data] Downloading package stopwords to\n",
      "[nltk_data]     C:\\Users\\Janice\\AppData\\Roaming\\nltk_data...\n",
      "[nltk_data]   Package stopwords is already up-to-date!\n",
      "[nltk_data] Downloading package wordnet to\n",
      "[nltk_data]     C:\\Users\\Janice\\AppData\\Roaming\\nltk_data...\n",
      "[nltk_data]   Package wordnet is already up-to-date!\n",
      "[nltk_data] Downloading package omw-1.4 to\n",
      "[nltk_data]     C:\\Users\\Janice\\AppData\\Roaming\\nltk_data...\n",
      "[nltk_data]   Package omw-1.4 is already up-to-date!\n"
     ]
    }
   ],
   "source": [
    "import numpy as np\n",
    "import pandas as pd\n",
    "import matplotlib.pyplot as plt\n",
    "import plotly.express as px\n",
    "from plotly import graph_objs as go\n",
    "import plotly.express as px\n",
    "from termcolor import colored\n",
    "from collections import Counter\n",
    "import PIL.Image\n",
    "from wordcloud import WordCloud, STOPWORDS\n",
    "\n",
    "from sklearn.preprocessing import LabelBinarizer\n",
    "from sklearn.metrics import classification_report,confusion_matrix, accuracy_score, recall_score, precision_score, f1_score\n",
    "from sklearn.model_selection import train_test_split, learning_curve\n",
    "from sklearn.preprocessing import LabelEncoder\n",
    "from sklearn.feature_extraction.text import CountVectorizer, TfidfVectorizer\n",
    "from sklearn import feature_extraction, model_selection, metrics\n",
    "from sklearn.svm import LinearSVC\n",
    "from IPython.display import Image, HTML\n",
    "\n",
    "import keras\n",
    "import tensorflow as tf\n",
    "from keras.preprocessing import text, sequence\n",
    "from keras.models import Sequential\n",
    "from keras.layers import Dense,Embedding,Dropout\n",
    "from keras.callbacks import ReduceLROnPlateau\n",
    "from tensorflow.keras.preprocessing.text import Tokenizer # type: ignore\n",
    "\n",
    "import seaborn as sns\n",
    "import nltk\n",
    "from nltk.corpus import stopwords\n",
    "from textblob import Word\n",
    "nltk.download('stopwords')\n",
    "nltk.download('wordnet')\n",
    "nltk.download('omw-1.4')\n",
    "from nltk.stem.porter import PorterStemmer\n",
    "from wordcloud import WordCloud,STOPWORDS\n",
    "from nltk.stem import WordNetLemmatizer\n",
    "from nltk.tokenize import word_tokenize, sent_tokenize\n",
    "from nltk import pos_tag\n",
    "from nltk.corpus import wordnet\n",
    "import re, string, unicodedata\n",
    "from string import punctuation\n",
    "\n",
    "from warnings import filterwarnings\n",
    "filterwarnings('ignore')\n",
    "%matplotlib inline\n",
    "\n",
    "from sklearn import set_config\n",
    "set_config(print_changed_only = False)\n",
    "\n",
    "#to see full text:\n",
    "pd.set_option(\"display.max_colwidth\", 1)\n",
    "\n",
    "print(colored(\"\\nNECESSARY LIBRARIES WERE SUCCESFULLY IMPORTED...\", color = \"green\", attrs = [\"bold\", \"dark\"]))"
   ]
  },
  {
   "cell_type": "markdown",
   "metadata": {},
   "source": [
    "Import Dataset"
   ]
  },
  {
   "cell_type": "code",
   "execution_count": 2,
   "metadata": {},
   "outputs": [
    {
     "name": "stdout",
     "output_type": "stream",
     "text": [
      "\u001b[2m\u001b[1m\u001b[32m\n",
      "DATASETS WERE SUCCESFULLY LOADED...\u001b[0m\n"
     ]
    },
    {
     "data": {
      "text/html": [
       "<div>\n",
       "<style scoped>\n",
       "    .dataframe tbody tr th:only-of-type {\n",
       "        vertical-align: middle;\n",
       "    }\n",
       "\n",
       "    .dataframe tbody tr th {\n",
       "        vertical-align: top;\n",
       "    }\n",
       "\n",
       "    .dataframe thead th {\n",
       "        text-align: right;\n",
       "    }\n",
       "</style>\n",
       "<table border=\"1\" class=\"dataframe\">\n",
       "  <thead>\n",
       "    <tr style=\"text-align: right;\">\n",
       "      <th></th>\n",
       "      <th>v1</th>\n",
       "      <th>v2</th>\n",
       "      <th>Unnamed: 2</th>\n",
       "      <th>Unnamed: 3</th>\n",
       "      <th>Unnamed: 4</th>\n",
       "    </tr>\n",
       "  </thead>\n",
       "  <tbody>\n",
       "    <tr>\n",
       "      <th>0</th>\n",
       "      <td>ham</td>\n",
       "      <td>Go until jurong point, crazy.. Available only in bugis n great world la e buffet... Cine there got amore wat...</td>\n",
       "      <td>NaN</td>\n",
       "      <td>NaN</td>\n",
       "      <td>NaN</td>\n",
       "    </tr>\n",
       "    <tr>\n",
       "      <th>1</th>\n",
       "      <td>ham</td>\n",
       "      <td>Ok lar... Joking wif u oni...</td>\n",
       "      <td>NaN</td>\n",
       "      <td>NaN</td>\n",
       "      <td>NaN</td>\n",
       "    </tr>\n",
       "    <tr>\n",
       "      <th>2</th>\n",
       "      <td>spam</td>\n",
       "      <td>Free entry in 2 a wkly comp to win FA Cup final tkts 21st May 2005. Text FA to 87121 to receive entry question(std txt rate)T&amp;C's apply 08452810075over18's</td>\n",
       "      <td>NaN</td>\n",
       "      <td>NaN</td>\n",
       "      <td>NaN</td>\n",
       "    </tr>\n",
       "    <tr>\n",
       "      <th>3</th>\n",
       "      <td>ham</td>\n",
       "      <td>U dun say so early hor... U c already then say...</td>\n",
       "      <td>NaN</td>\n",
       "      <td>NaN</td>\n",
       "      <td>NaN</td>\n",
       "    </tr>\n",
       "    <tr>\n",
       "      <th>4</th>\n",
       "      <td>ham</td>\n",
       "      <td>Nah I don't think he goes to usf, he lives around here though</td>\n",
       "      <td>NaN</td>\n",
       "      <td>NaN</td>\n",
       "      <td>NaN</td>\n",
       "    </tr>\n",
       "    <tr>\n",
       "      <th>5</th>\n",
       "      <td>spam</td>\n",
       "      <td>FreeMsg Hey there darling it's been 3 week's now and no word back! I'd like some fun you up for it still? Tb ok! XxX std chgs to send, å£1.50 to rcv</td>\n",
       "      <td>NaN</td>\n",
       "      <td>NaN</td>\n",
       "      <td>NaN</td>\n",
       "    </tr>\n",
       "    <tr>\n",
       "      <th>6</th>\n",
       "      <td>ham</td>\n",
       "      <td>Even my brother is not like to speak with me. They treat me like aids patent.</td>\n",
       "      <td>NaN</td>\n",
       "      <td>NaN</td>\n",
       "      <td>NaN</td>\n",
       "    </tr>\n",
       "    <tr>\n",
       "      <th>7</th>\n",
       "      <td>ham</td>\n",
       "      <td>As per your request 'Melle Melle (Oru Minnaminunginte Nurungu Vettam)' has been set as your callertune for all Callers. Press *9 to copy your friends Callertune</td>\n",
       "      <td>NaN</td>\n",
       "      <td>NaN</td>\n",
       "      <td>NaN</td>\n",
       "    </tr>\n",
       "    <tr>\n",
       "      <th>8</th>\n",
       "      <td>spam</td>\n",
       "      <td>WINNER!! As a valued network customer you have been selected to receivea å£900 prize reward! To claim call 09061701461. Claim code KL341. Valid 12 hours only.</td>\n",
       "      <td>NaN</td>\n",
       "      <td>NaN</td>\n",
       "      <td>NaN</td>\n",
       "    </tr>\n",
       "    <tr>\n",
       "      <th>9</th>\n",
       "      <td>spam</td>\n",
       "      <td>Had your mobile 11 months or more? U R entitled to Update to the latest colour mobiles with camera for Free! Call The Mobile Update Co FREE on 08002986030</td>\n",
       "      <td>NaN</td>\n",
       "      <td>NaN</td>\n",
       "      <td>NaN</td>\n",
       "    </tr>\n",
       "  </tbody>\n",
       "</table>\n",
       "</div>"
      ],
      "text/plain": [
       "     v1  \\\n",
       "0  ham    \n",
       "1  ham    \n",
       "2  spam   \n",
       "3  ham    \n",
       "4  ham    \n",
       "5  spam   \n",
       "6  ham    \n",
       "7  ham    \n",
       "8  spam   \n",
       "9  spam   \n",
       "\n",
       "                                                                                                                                                                 v2  \\\n",
       "0  Go until jurong point, crazy.. Available only in bugis n great world la e buffet... Cine there got amore wat...                                                    \n",
       "1  Ok lar... Joking wif u oni...                                                                                                                                      \n",
       "2  Free entry in 2 a wkly comp to win FA Cup final tkts 21st May 2005. Text FA to 87121 to receive entry question(std txt rate)T&C's apply 08452810075over18's        \n",
       "3  U dun say so early hor... U c already then say...                                                                                                                  \n",
       "4  Nah I don't think he goes to usf, he lives around here though                                                                                                      \n",
       "5  FreeMsg Hey there darling it's been 3 week's now and no word back! I'd like some fun you up for it still? Tb ok! XxX std chgs to send, å£1.50 to rcv               \n",
       "6  Even my brother is not like to speak with me. They treat me like aids patent.                                                                                      \n",
       "7  As per your request 'Melle Melle (Oru Minnaminunginte Nurungu Vettam)' has been set as your callertune for all Callers. Press *9 to copy your friends Callertune   \n",
       "8  WINNER!! As a valued network customer you have been selected to receivea å£900 prize reward! To claim call 09061701461. Claim code KL341. Valid 12 hours only.     \n",
       "9  Had your mobile 11 months or more? U R entitled to Update to the latest colour mobiles with camera for Free! Call The Mobile Update Co FREE on 08002986030         \n",
       "\n",
       "  Unnamed: 2 Unnamed: 3 Unnamed: 4  \n",
       "0  NaN        NaN        NaN        \n",
       "1  NaN        NaN        NaN        \n",
       "2  NaN        NaN        NaN        \n",
       "3  NaN        NaN        NaN        \n",
       "4  NaN        NaN        NaN        \n",
       "5  NaN        NaN        NaN        \n",
       "6  NaN        NaN        NaN        \n",
       "7  NaN        NaN        NaN        \n",
       "8  NaN        NaN        NaN        \n",
       "9  NaN        NaN        NaN        "
      ]
     },
     "execution_count": 2,
     "metadata": {},
     "output_type": "execute_result"
    }
   ],
   "source": [
    "# Exploring the Dataset\n",
    "data = pd.read_csv('C:/Users/Janice/Downloads/spam.csv', encoding='latin-1')\n",
    "\n",
    "print(colored(\"\\nDATASETS WERE SUCCESFULLY LOADED...\",  color = \"green\", attrs = [\"bold\", \"dark\"]))\n",
    "data.head(n=10)"
   ]
  },
  {
   "cell_type": "markdown",
   "metadata": {},
   "source": [
    "Data Cleaning"
   ]
  },
  {
   "cell_type": "code",
   "execution_count": 3,
   "metadata": {},
   "outputs": [
    {
     "name": "stdout",
     "output_type": "stream",
     "text": [
      "\u001b[2m\u001b[1m\u001b[32mNo null values found in the dataset.\u001b[0m\n",
      "\u001b[2m\u001b[1m\u001b[32mThere are 403 duplicated values in the dataset dropped successfully..\u001b[0m\n"
     ]
    }
   ],
   "source": [
    "# Rename and Drop Unnecessary columns, Drop null value, and Drop duplicated value\n",
    "#rename dataset columns\n",
    "data.rename(columns = {\"v1\": \"target\", \"v2\": \"text\"}, inplace = True)\n",
    "\n",
    "#drop unnecessary columns\n",
    "data.drop([\"Unnamed: 2\",\"Unnamed: 3\", \"Unnamed: 4\"], axis = 1, inplace = True)\n",
    "\n",
    "# Check if there are any null values in the DataFrame\n",
    "if data.isnull().values.any():\n",
    "    data.dropna(inplace = True)\n",
    "    print(colored(\"There are {} null values in the dataset\".format(data.isnull().sum()), color = \"green\", attrs = [\"bold\", \"dark\"]))\n",
    "else:\n",
    "    print(colored(\"No null values found in the dataset.\", color=\"green\", attrs=[\"bold\", \"dark\"]))\n",
    "\n",
    "# Drop duplicated values from the dataset\n",
    "duplicated_entries = data.duplicated().sum()\n",
    "if duplicated_entries > 0:\n",
    "    print(colored(f\"There are {duplicated_entries} duplicated values in the dataset dropped successfully..\", color=\"green\", attrs=[\"bold\", \"dark\"]))\n",
    "    data.drop_duplicates(inplace=True)\n",
    "else:\n",
    "    print(colored(\"No duplicated values found in the dataset.\", color=\"green\", attrs=[\"bold\", \"dark\"]))\n"
   ]
  },
  {
   "cell_type": "code",
   "execution_count": 4,
   "metadata": {},
   "outputs": [
    {
     "name": "stdout",
     "output_type": "stream",
     "text": [
      "\u001b[2m\u001b[1m\u001b[32m\n",
      "UPPERCASE LETTER CONVERTED TO LOWER CASE, SQUARE BRACKET TEXT REMOVED, LINK REMOVED, PUNCTUATION REMOVED, AND NUMBERS REMOVED...\u001b[0m\n"
     ]
    },
    {
     "data": {
      "text/html": [
       "<div>\n",
       "<style scoped>\n",
       "    .dataframe tbody tr th:only-of-type {\n",
       "        vertical-align: middle;\n",
       "    }\n",
       "\n",
       "    .dataframe tbody tr th {\n",
       "        vertical-align: top;\n",
       "    }\n",
       "\n",
       "    .dataframe thead th {\n",
       "        text-align: right;\n",
       "    }\n",
       "</style>\n",
       "<table border=\"1\" class=\"dataframe\">\n",
       "  <thead>\n",
       "    <tr style=\"text-align: right;\">\n",
       "      <th></th>\n",
       "      <th>target</th>\n",
       "      <th>text</th>\n",
       "      <th>message_clean</th>\n",
       "    </tr>\n",
       "  </thead>\n",
       "  <tbody>\n",
       "    <tr>\n",
       "      <th>0</th>\n",
       "      <td>ham</td>\n",
       "      <td>Go until jurong point, crazy.. Available only in bugis n great world la e buffet... Cine there got amore wat...</td>\n",
       "      <td>go until jurong point crazy available only in bugis n great world la e buffet cine there got amore wat</td>\n",
       "    </tr>\n",
       "    <tr>\n",
       "      <th>1</th>\n",
       "      <td>ham</td>\n",
       "      <td>Ok lar... Joking wif u oni...</td>\n",
       "      <td>ok lar joking wif u oni</td>\n",
       "    </tr>\n",
       "    <tr>\n",
       "      <th>2</th>\n",
       "      <td>spam</td>\n",
       "      <td>Free entry in 2 a wkly comp to win FA Cup final tkts 21st May 2005. Text FA to 87121 to receive entry question(std txt rate)T&amp;C's apply 08452810075over18's</td>\n",
       "      <td>free entry in  a wkly comp to win fa cup final tkts  may  text fa to  to receive entry questionstd txt ratetcs apply</td>\n",
       "    </tr>\n",
       "    <tr>\n",
       "      <th>3</th>\n",
       "      <td>ham</td>\n",
       "      <td>U dun say so early hor... U c already then say...</td>\n",
       "      <td>u dun say so early hor u c already then say</td>\n",
       "    </tr>\n",
       "    <tr>\n",
       "      <th>4</th>\n",
       "      <td>ham</td>\n",
       "      <td>Nah I don't think he goes to usf, he lives around here though</td>\n",
       "      <td>nah i dont think he goes to usf he lives around here though</td>\n",
       "    </tr>\n",
       "  </tbody>\n",
       "</table>\n",
       "</div>"
      ],
      "text/plain": [
       "  target  \\\n",
       "0  ham     \n",
       "1  ham     \n",
       "2  spam    \n",
       "3  ham     \n",
       "4  ham     \n",
       "\n",
       "                                                                                                                                                          text  \\\n",
       "0  Go until jurong point, crazy.. Available only in bugis n great world la e buffet... Cine there got amore wat...                                               \n",
       "1  Ok lar... Joking wif u oni...                                                                                                                                 \n",
       "2  Free entry in 2 a wkly comp to win FA Cup final tkts 21st May 2005. Text FA to 87121 to receive entry question(std txt rate)T&C's apply 08452810075over18's   \n",
       "3  U dun say so early hor... U c already then say...                                                                                                             \n",
       "4  Nah I don't think he goes to usf, he lives around here though                                                                                                 \n",
       "\n",
       "                                                                                                           message_clean  \n",
       "0  go until jurong point crazy available only in bugis n great world la e buffet cine there got amore wat                 \n",
       "1  ok lar joking wif u oni                                                                                                \n",
       "2  free entry in  a wkly comp to win fa cup final tkts  may  text fa to  to receive entry questionstd txt ratetcs apply   \n",
       "3  u dun say so early hor u c already then say                                                                            \n",
       "4  nah i dont think he goes to usf he lives around here though                                                            "
      ]
     },
     "execution_count": 4,
     "metadata": {},
     "output_type": "execute_result"
    }
   ],
   "source": [
    "#Make text lowercase, remove text in square brackets,remove links,remove punctuation and remove words containing numbers.\n",
    "def clean_text(text):\n",
    "    text = str(text).lower()\n",
    "    text = re.sub('\\[.*?\\]', '', text)\n",
    "    text = re.sub('https?://\\S+|www\\.\\S+', '', text)\n",
    "    text = re.sub('<.*?>+', '', text)\n",
    "    text = re.sub('[%s]' % re.escape(string.punctuation), '', text)\n",
    "    text = re.sub('\\n', '', text)\n",
    "    text = re.sub('\\w*\\d\\w*', '', text)\n",
    "    return text\n",
    "\n",
    "data['message_clean'] = data['text'].apply(clean_text)\n",
    "print(colored(\"\\nUPPERCASE LETTER CONVERTED TO LOWER CASE, SQUARE BRACKET TEXT REMOVED, LINK REMOVED, PUNCTUATION REMOVED, AND NUMBERS REMOVED...\", color = \"green\", attrs = [\"bold\", \"dark\"]))\n",
    "data.head()"
   ]
  },
  {
   "cell_type": "code",
   "execution_count": 5,
   "metadata": {},
   "outputs": [
    {
     "name": "stdout",
     "output_type": "stream",
     "text": [
      "\u001b[2m\u001b[1m\u001b[32m\n",
      "STOP WORDS WERE SUCCESFULLY DELETED...\u001b[0m\n"
     ]
    },
    {
     "data": {
      "text/html": [
       "<div>\n",
       "<style scoped>\n",
       "    .dataframe tbody tr th:only-of-type {\n",
       "        vertical-align: middle;\n",
       "    }\n",
       "\n",
       "    .dataframe tbody tr th {\n",
       "        vertical-align: top;\n",
       "    }\n",
       "\n",
       "    .dataframe thead th {\n",
       "        text-align: right;\n",
       "    }\n",
       "</style>\n",
       "<table border=\"1\" class=\"dataframe\">\n",
       "  <thead>\n",
       "    <tr style=\"text-align: right;\">\n",
       "      <th></th>\n",
       "      <th>target</th>\n",
       "      <th>text</th>\n",
       "      <th>message_clean</th>\n",
       "    </tr>\n",
       "  </thead>\n",
       "  <tbody>\n",
       "    <tr>\n",
       "      <th>0</th>\n",
       "      <td>ham</td>\n",
       "      <td>Go until jurong point, crazy.. Available only in bugis n great world la e buffet... Cine there got amore wat...</td>\n",
       "      <td>go jurong point crazy available bugis n great world la e buffet cine got amore wat</td>\n",
       "    </tr>\n",
       "    <tr>\n",
       "      <th>1</th>\n",
       "      <td>ham</td>\n",
       "      <td>Ok lar... Joking wif u oni...</td>\n",
       "      <td>ok lar joking wif oni</td>\n",
       "    </tr>\n",
       "    <tr>\n",
       "      <th>2</th>\n",
       "      <td>spam</td>\n",
       "      <td>Free entry in 2 a wkly comp to win FA Cup final tkts 21st May 2005. Text FA to 87121 to receive entry question(std txt rate)T&amp;C's apply 08452810075over18's</td>\n",
       "      <td>free entry  wkly comp win fa cup final tkts  may  text fa  receive entry questionstd txt ratetcs apply</td>\n",
       "    </tr>\n",
       "    <tr>\n",
       "      <th>3</th>\n",
       "      <td>ham</td>\n",
       "      <td>U dun say so early hor... U c already then say...</td>\n",
       "      <td>dun say early hor already say</td>\n",
       "    </tr>\n",
       "    <tr>\n",
       "      <th>4</th>\n",
       "      <td>ham</td>\n",
       "      <td>Nah I don't think he goes to usf, he lives around here though</td>\n",
       "      <td>nah dont think goes usf lives around though</td>\n",
       "    </tr>\n",
       "  </tbody>\n",
       "</table>\n",
       "</div>"
      ],
      "text/plain": [
       "  target  \\\n",
       "0  ham     \n",
       "1  ham     \n",
       "2  spam    \n",
       "3  ham     \n",
       "4  ham     \n",
       "\n",
       "                                                                                                                                                          text  \\\n",
       "0  Go until jurong point, crazy.. Available only in bugis n great world la e buffet... Cine there got amore wat...                                               \n",
       "1  Ok lar... Joking wif u oni...                                                                                                                                 \n",
       "2  Free entry in 2 a wkly comp to win FA Cup final tkts 21st May 2005. Text FA to 87121 to receive entry question(std txt rate)T&C's apply 08452810075over18's   \n",
       "3  U dun say so early hor... U c already then say...                                                                                                             \n",
       "4  Nah I don't think he goes to usf, he lives around here though                                                                                                 \n",
       "\n",
       "                                                                                             message_clean  \n",
       "0  go jurong point crazy available bugis n great world la e buffet cine got amore wat                       \n",
       "1  ok lar joking wif oni                                                                                    \n",
       "2  free entry  wkly comp win fa cup final tkts  may  text fa  receive entry questionstd txt ratetcs apply   \n",
       "3  dun say early hor already say                                                                            \n",
       "4  nah dont think goes usf lives around though                                                              "
      ]
     },
     "execution_count": 5,
     "metadata": {},
     "output_type": "execute_result"
    }
   ],
   "source": [
    "#remove stop words\n",
    "stop_words = stopwords.words('english')\n",
    "more_stopwords = ['u', 'im', 'c']\n",
    "stop_words = stop_words + more_stopwords\n",
    "\n",
    "def remove_stopwords(text):\n",
    "    text = ' '.join(word for word in text.split(' ') if word not in stop_words)\n",
    "    return text\n",
    "    \n",
    "data['message_clean'] = data['message_clean'].apply(remove_stopwords)\n",
    "print(colored(\"\\nSTOP WORDS WERE SUCCESFULLY DELETED...\", color = \"green\", attrs = [\"bold\", \"dark\"]))\n",
    "data.head()"
   ]
  },
  {
   "cell_type": "code",
   "execution_count": 6,
   "metadata": {},
   "outputs": [
    {
     "name": "stdout",
     "output_type": "stream",
     "text": [
      "\u001b[2m\u001b[1m\u001b[32m\n",
      "NON-ENGLISH CHARACTERS WERE SUCCESFULLY DELETED...\u001b[0m\n"
     ]
    },
    {
     "data": {
      "text/html": [
       "<div>\n",
       "<style scoped>\n",
       "    .dataframe tbody tr th:only-of-type {\n",
       "        vertical-align: middle;\n",
       "    }\n",
       "\n",
       "    .dataframe tbody tr th {\n",
       "        vertical-align: top;\n",
       "    }\n",
       "\n",
       "    .dataframe thead th {\n",
       "        text-align: right;\n",
       "    }\n",
       "</style>\n",
       "<table border=\"1\" class=\"dataframe\">\n",
       "  <thead>\n",
       "    <tr style=\"text-align: right;\">\n",
       "      <th></th>\n",
       "      <th>target</th>\n",
       "      <th>text</th>\n",
       "      <th>message_clean</th>\n",
       "    </tr>\n",
       "  </thead>\n",
       "  <tbody>\n",
       "    <tr>\n",
       "      <th>0</th>\n",
       "      <td>ham</td>\n",
       "      <td>Go until jurong point, crazy.. Available only in bugis n great world la e buffet... Cine there got amore wat...</td>\n",
       "      <td>go jurong point crazy available bugis n great world la e buffet cine got amore wat</td>\n",
       "    </tr>\n",
       "    <tr>\n",
       "      <th>1</th>\n",
       "      <td>ham</td>\n",
       "      <td>Ok lar... Joking wif u oni...</td>\n",
       "      <td>ok lar joking wif oni</td>\n",
       "    </tr>\n",
       "    <tr>\n",
       "      <th>2</th>\n",
       "      <td>spam</td>\n",
       "      <td>Free entry in 2 a wkly comp to win FA Cup final tkts 21st May 2005. Text FA to 87121 to receive entry question(std txt rate)T&amp;C's apply 08452810075over18's</td>\n",
       "      <td>free entry  wkly comp win fa cup final tkts  may  text fa  receive entry questionstd txt ratetcs apply</td>\n",
       "    </tr>\n",
       "    <tr>\n",
       "      <th>3</th>\n",
       "      <td>ham</td>\n",
       "      <td>U dun say so early hor... U c already then say...</td>\n",
       "      <td>dun say early hor already say</td>\n",
       "    </tr>\n",
       "    <tr>\n",
       "      <th>4</th>\n",
       "      <td>ham</td>\n",
       "      <td>Nah I don't think he goes to usf, he lives around here though</td>\n",
       "      <td>nah dont think goes usf lives around though</td>\n",
       "    </tr>\n",
       "  </tbody>\n",
       "</table>\n",
       "</div>"
      ],
      "text/plain": [
       "  target  \\\n",
       "0  ham     \n",
       "1  ham     \n",
       "2  spam    \n",
       "3  ham     \n",
       "4  ham     \n",
       "\n",
       "                                                                                                                                                          text  \\\n",
       "0  Go until jurong point, crazy.. Available only in bugis n great world la e buffet... Cine there got amore wat...                                               \n",
       "1  Ok lar... Joking wif u oni...                                                                                                                                 \n",
       "2  Free entry in 2 a wkly comp to win FA Cup final tkts 21st May 2005. Text FA to 87121 to receive entry question(std txt rate)T&C's apply 08452810075over18's   \n",
       "3  U dun say so early hor... U c already then say...                                                                                                             \n",
       "4  Nah I don't think he goes to usf, he lives around here though                                                                                                 \n",
       "\n",
       "                                                                                             message_clean  \n",
       "0  go jurong point crazy available bugis n great world la e buffet cine got amore wat                       \n",
       "1  ok lar joking wif oni                                                                                    \n",
       "2  free entry  wkly comp win fa cup final tkts  may  text fa  receive entry questionstd txt ratetcs apply   \n",
       "3  dun say early hor already say                                                                            \n",
       "4  nah dont think goes usf lives around though                                                              "
      ]
     },
     "execution_count": 6,
     "metadata": {},
     "output_type": "execute_result"
    }
   ],
   "source": [
    "def remove_non_english(text):\n",
    "    # This pattern matches any word that contains non-ASCII characters\n",
    "    english_only = re.sub(r'[^\\x00-\\x7F]+', ' ', text)\n",
    "    return english_only\n",
    "\n",
    "data['message_clean'] = data['message_clean'].apply(remove_non_english)\n",
    "print(colored(\"\\nNON-ENGLISH CHARACTERS WERE SUCCESFULLY DELETED...\", color = \"green\", attrs = [\"bold\", \"dark\"]))\n",
    "data.head()"
   ]
  },
  {
   "cell_type": "markdown",
   "metadata": {},
   "source": [
    "Data exploratory and analysis"
   ]
  },
  {
   "cell_type": "code",
   "execution_count": 7,
   "metadata": {},
   "outputs": [
    {
     "data": {
      "text/html": [
       "<div>\n",
       "<style scoped>\n",
       "    .dataframe tbody tr th:only-of-type {\n",
       "        vertical-align: middle;\n",
       "    }\n",
       "\n",
       "    .dataframe tbody tr th {\n",
       "        vertical-align: top;\n",
       "    }\n",
       "\n",
       "    .dataframe thead th {\n",
       "        text-align: right;\n",
       "    }\n",
       "</style>\n",
       "<table border=\"1\" class=\"dataframe\">\n",
       "  <thead>\n",
       "    <tr style=\"text-align: right;\">\n",
       "      <th></th>\n",
       "      <th>target</th>\n",
       "      <th>text</th>\n",
       "      <th>message_clean</th>\n",
       "      <th>message_len</th>\n",
       "    </tr>\n",
       "  </thead>\n",
       "  <tbody>\n",
       "    <tr>\n",
       "      <th>0</th>\n",
       "      <td>ham</td>\n",
       "      <td>Go until jurong point, crazy.. Available only in bugis n great world la e buffet... Cine there got amore wat...</td>\n",
       "      <td>go jurong point crazy available bugis n great world la e buffet cine got amore wat</td>\n",
       "      <td>16</td>\n",
       "    </tr>\n",
       "    <tr>\n",
       "      <th>1</th>\n",
       "      <td>ham</td>\n",
       "      <td>Ok lar... Joking wif u oni...</td>\n",
       "      <td>ok lar joking wif oni</td>\n",
       "      <td>5</td>\n",
       "    </tr>\n",
       "    <tr>\n",
       "      <th>2</th>\n",
       "      <td>spam</td>\n",
       "      <td>Free entry in 2 a wkly comp to win FA Cup final tkts 21st May 2005. Text FA to 87121 to receive entry question(std txt rate)T&amp;C's apply 08452810075over18's</td>\n",
       "      <td>free entry  wkly comp win fa cup final tkts  may  text fa  receive entry questionstd txt ratetcs apply</td>\n",
       "      <td>23</td>\n",
       "    </tr>\n",
       "    <tr>\n",
       "      <th>3</th>\n",
       "      <td>ham</td>\n",
       "      <td>U dun say so early hor... U c already then say...</td>\n",
       "      <td>dun say early hor already say</td>\n",
       "      <td>6</td>\n",
       "    </tr>\n",
       "    <tr>\n",
       "      <th>4</th>\n",
       "      <td>ham</td>\n",
       "      <td>Nah I don't think he goes to usf, he lives around here though</td>\n",
       "      <td>nah dont think goes usf lives around though</td>\n",
       "      <td>8</td>\n",
       "    </tr>\n",
       "  </tbody>\n",
       "</table>\n",
       "</div>"
      ],
      "text/plain": [
       "  target  \\\n",
       "0  ham     \n",
       "1  ham     \n",
       "2  spam    \n",
       "3  ham     \n",
       "4  ham     \n",
       "\n",
       "                                                                                                                                                          text  \\\n",
       "0  Go until jurong point, crazy.. Available only in bugis n great world la e buffet... Cine there got amore wat...                                               \n",
       "1  Ok lar... Joking wif u oni...                                                                                                                                 \n",
       "2  Free entry in 2 a wkly comp to win FA Cup final tkts 21st May 2005. Text FA to 87121 to receive entry question(std txt rate)T&C's apply 08452810075over18's   \n",
       "3  U dun say so early hor... U c already then say...                                                                                                             \n",
       "4  Nah I don't think he goes to usf, he lives around here though                                                                                                 \n",
       "\n",
       "                                                                                             message_clean  \\\n",
       "0  go jurong point crazy available bugis n great world la e buffet cine got amore wat                        \n",
       "1  ok lar joking wif oni                                                                                     \n",
       "2  free entry  wkly comp win fa cup final tkts  may  text fa  receive entry questionstd txt ratetcs apply    \n",
       "3  dun say early hor already say                                                                             \n",
       "4  nah dont think goes usf lives around though                                                               \n",
       "\n",
       "   message_len  \n",
       "0  16           \n",
       "1  5            \n",
       "2  23           \n",
       "3  6            \n",
       "4  8            "
      ]
     },
     "execution_count": 7,
     "metadata": {},
     "output_type": "execute_result"
    }
   ],
   "source": [
    "#get the length of the message\n",
    "data['message_len'] = data['message_clean'].apply(lambda x: len(x.split(' ')))\n",
    "data.head()"
   ]
  },
  {
   "cell_type": "code",
   "execution_count": 8,
   "metadata": {},
   "outputs": [
    {
     "data": {
      "text/plain": [
       "array([4516,  653], dtype=int64)"
      ]
     },
     "execution_count": 8,
     "metadata": {},
     "output_type": "execute_result"
    }
   ],
   "source": [
    "#Group ham and spam\n",
    "balance_counts = data.groupby('target')['target'].agg('count').values\n",
    "balance_counts"
   ]
  },
  {
   "cell_type": "code",
   "execution_count": 9,
   "metadata": {},
   "outputs": [
    {
     "data": {
      "application/vnd.plotly.v1+json": {
       "config": {
        "plotlyServerURL": "https://plot.ly"
       },
       "data": [
        {
         "marker": {
          "color": "#1f77b4"
         },
         "name": "ham",
         "text": [
          "4516"
         ],
         "textposition": "auto",
         "type": "bar",
         "x": [
          "ham"
         ],
         "y": [
          4516
         ]
        },
        {
         "marker": {
          "color": "#7f7f7f"
         },
         "name": "spam",
         "text": [
          "653"
         ],
         "textposition": "auto",
         "type": "bar",
         "x": [
          "spam"
         ],
         "y": [
          653
         ]
        }
       ],
       "layout": {
        "template": {
         "data": {
          "bar": [
           {
            "error_x": {
             "color": "#2a3f5f"
            },
            "error_y": {
             "color": "#2a3f5f"
            },
            "marker": {
             "line": {
              "color": "#E5ECF6",
              "width": 0.5
             },
             "pattern": {
              "fillmode": "overlay",
              "size": 10,
              "solidity": 0.2
             }
            },
            "type": "bar"
           }
          ],
          "barpolar": [
           {
            "marker": {
             "line": {
              "color": "#E5ECF6",
              "width": 0.5
             },
             "pattern": {
              "fillmode": "overlay",
              "size": 10,
              "solidity": 0.2
             }
            },
            "type": "barpolar"
           }
          ],
          "carpet": [
           {
            "aaxis": {
             "endlinecolor": "#2a3f5f",
             "gridcolor": "white",
             "linecolor": "white",
             "minorgridcolor": "white",
             "startlinecolor": "#2a3f5f"
            },
            "baxis": {
             "endlinecolor": "#2a3f5f",
             "gridcolor": "white",
             "linecolor": "white",
             "minorgridcolor": "white",
             "startlinecolor": "#2a3f5f"
            },
            "type": "carpet"
           }
          ],
          "choropleth": [
           {
            "colorbar": {
             "outlinewidth": 0,
             "ticks": ""
            },
            "type": "choropleth"
           }
          ],
          "contour": [
           {
            "colorbar": {
             "outlinewidth": 0,
             "ticks": ""
            },
            "colorscale": [
             [
              0,
              "#0d0887"
             ],
             [
              0.1111111111111111,
              "#46039f"
             ],
             [
              0.2222222222222222,
              "#7201a8"
             ],
             [
              0.3333333333333333,
              "#9c179e"
             ],
             [
              0.4444444444444444,
              "#bd3786"
             ],
             [
              0.5555555555555556,
              "#d8576b"
             ],
             [
              0.6666666666666666,
              "#ed7953"
             ],
             [
              0.7777777777777778,
              "#fb9f3a"
             ],
             [
              0.8888888888888888,
              "#fdca26"
             ],
             [
              1,
              "#f0f921"
             ]
            ],
            "type": "contour"
           }
          ],
          "contourcarpet": [
           {
            "colorbar": {
             "outlinewidth": 0,
             "ticks": ""
            },
            "type": "contourcarpet"
           }
          ],
          "heatmap": [
           {
            "colorbar": {
             "outlinewidth": 0,
             "ticks": ""
            },
            "colorscale": [
             [
              0,
              "#0d0887"
             ],
             [
              0.1111111111111111,
              "#46039f"
             ],
             [
              0.2222222222222222,
              "#7201a8"
             ],
             [
              0.3333333333333333,
              "#9c179e"
             ],
             [
              0.4444444444444444,
              "#bd3786"
             ],
             [
              0.5555555555555556,
              "#d8576b"
             ],
             [
              0.6666666666666666,
              "#ed7953"
             ],
             [
              0.7777777777777778,
              "#fb9f3a"
             ],
             [
              0.8888888888888888,
              "#fdca26"
             ],
             [
              1,
              "#f0f921"
             ]
            ],
            "type": "heatmap"
           }
          ],
          "heatmapgl": [
           {
            "colorbar": {
             "outlinewidth": 0,
             "ticks": ""
            },
            "colorscale": [
             [
              0,
              "#0d0887"
             ],
             [
              0.1111111111111111,
              "#46039f"
             ],
             [
              0.2222222222222222,
              "#7201a8"
             ],
             [
              0.3333333333333333,
              "#9c179e"
             ],
             [
              0.4444444444444444,
              "#bd3786"
             ],
             [
              0.5555555555555556,
              "#d8576b"
             ],
             [
              0.6666666666666666,
              "#ed7953"
             ],
             [
              0.7777777777777778,
              "#fb9f3a"
             ],
             [
              0.8888888888888888,
              "#fdca26"
             ],
             [
              1,
              "#f0f921"
             ]
            ],
            "type": "heatmapgl"
           }
          ],
          "histogram": [
           {
            "marker": {
             "pattern": {
              "fillmode": "overlay",
              "size": 10,
              "solidity": 0.2
             }
            },
            "type": "histogram"
           }
          ],
          "histogram2d": [
           {
            "colorbar": {
             "outlinewidth": 0,
             "ticks": ""
            },
            "colorscale": [
             [
              0,
              "#0d0887"
             ],
             [
              0.1111111111111111,
              "#46039f"
             ],
             [
              0.2222222222222222,
              "#7201a8"
             ],
             [
              0.3333333333333333,
              "#9c179e"
             ],
             [
              0.4444444444444444,
              "#bd3786"
             ],
             [
              0.5555555555555556,
              "#d8576b"
             ],
             [
              0.6666666666666666,
              "#ed7953"
             ],
             [
              0.7777777777777778,
              "#fb9f3a"
             ],
             [
              0.8888888888888888,
              "#fdca26"
             ],
             [
              1,
              "#f0f921"
             ]
            ],
            "type": "histogram2d"
           }
          ],
          "histogram2dcontour": [
           {
            "colorbar": {
             "outlinewidth": 0,
             "ticks": ""
            },
            "colorscale": [
             [
              0,
              "#0d0887"
             ],
             [
              0.1111111111111111,
              "#46039f"
             ],
             [
              0.2222222222222222,
              "#7201a8"
             ],
             [
              0.3333333333333333,
              "#9c179e"
             ],
             [
              0.4444444444444444,
              "#bd3786"
             ],
             [
              0.5555555555555556,
              "#d8576b"
             ],
             [
              0.6666666666666666,
              "#ed7953"
             ],
             [
              0.7777777777777778,
              "#fb9f3a"
             ],
             [
              0.8888888888888888,
              "#fdca26"
             ],
             [
              1,
              "#f0f921"
             ]
            ],
            "type": "histogram2dcontour"
           }
          ],
          "mesh3d": [
           {
            "colorbar": {
             "outlinewidth": 0,
             "ticks": ""
            },
            "type": "mesh3d"
           }
          ],
          "parcoords": [
           {
            "line": {
             "colorbar": {
              "outlinewidth": 0,
              "ticks": ""
             }
            },
            "type": "parcoords"
           }
          ],
          "pie": [
           {
            "automargin": true,
            "type": "pie"
           }
          ],
          "scatter": [
           {
            "fillpattern": {
             "fillmode": "overlay",
             "size": 10,
             "solidity": 0.2
            },
            "type": "scatter"
           }
          ],
          "scatter3d": [
           {
            "line": {
             "colorbar": {
              "outlinewidth": 0,
              "ticks": ""
             }
            },
            "marker": {
             "colorbar": {
              "outlinewidth": 0,
              "ticks": ""
             }
            },
            "type": "scatter3d"
           }
          ],
          "scattercarpet": [
           {
            "marker": {
             "colorbar": {
              "outlinewidth": 0,
              "ticks": ""
             }
            },
            "type": "scattercarpet"
           }
          ],
          "scattergeo": [
           {
            "marker": {
             "colorbar": {
              "outlinewidth": 0,
              "ticks": ""
             }
            },
            "type": "scattergeo"
           }
          ],
          "scattergl": [
           {
            "marker": {
             "colorbar": {
              "outlinewidth": 0,
              "ticks": ""
             }
            },
            "type": "scattergl"
           }
          ],
          "scattermapbox": [
           {
            "marker": {
             "colorbar": {
              "outlinewidth": 0,
              "ticks": ""
             }
            },
            "type": "scattermapbox"
           }
          ],
          "scatterpolar": [
           {
            "marker": {
             "colorbar": {
              "outlinewidth": 0,
              "ticks": ""
             }
            },
            "type": "scatterpolar"
           }
          ],
          "scatterpolargl": [
           {
            "marker": {
             "colorbar": {
              "outlinewidth": 0,
              "ticks": ""
             }
            },
            "type": "scatterpolargl"
           }
          ],
          "scatterternary": [
           {
            "marker": {
             "colorbar": {
              "outlinewidth": 0,
              "ticks": ""
             }
            },
            "type": "scatterternary"
           }
          ],
          "surface": [
           {
            "colorbar": {
             "outlinewidth": 0,
             "ticks": ""
            },
            "colorscale": [
             [
              0,
              "#0d0887"
             ],
             [
              0.1111111111111111,
              "#46039f"
             ],
             [
              0.2222222222222222,
              "#7201a8"
             ],
             [
              0.3333333333333333,
              "#9c179e"
             ],
             [
              0.4444444444444444,
              "#bd3786"
             ],
             [
              0.5555555555555556,
              "#d8576b"
             ],
             [
              0.6666666666666666,
              "#ed7953"
             ],
             [
              0.7777777777777778,
              "#fb9f3a"
             ],
             [
              0.8888888888888888,
              "#fdca26"
             ],
             [
              1,
              "#f0f921"
             ]
            ],
            "type": "surface"
           }
          ],
          "table": [
           {
            "cells": {
             "fill": {
              "color": "#EBF0F8"
             },
             "line": {
              "color": "white"
             }
            },
            "header": {
             "fill": {
              "color": "#C8D4E3"
             },
             "line": {
              "color": "white"
             }
            },
            "type": "table"
           }
          ]
         },
         "layout": {
          "annotationdefaults": {
           "arrowcolor": "#2a3f5f",
           "arrowhead": 0,
           "arrowwidth": 1
          },
          "autotypenumbers": "strict",
          "coloraxis": {
           "colorbar": {
            "outlinewidth": 0,
            "ticks": ""
           }
          },
          "colorscale": {
           "diverging": [
            [
             0,
             "#8e0152"
            ],
            [
             0.1,
             "#c51b7d"
            ],
            [
             0.2,
             "#de77ae"
            ],
            [
             0.3,
             "#f1b6da"
            ],
            [
             0.4,
             "#fde0ef"
            ],
            [
             0.5,
             "#f7f7f7"
            ],
            [
             0.6,
             "#e6f5d0"
            ],
            [
             0.7,
             "#b8e186"
            ],
            [
             0.8,
             "#7fbc41"
            ],
            [
             0.9,
             "#4d9221"
            ],
            [
             1,
             "#276419"
            ]
           ],
           "sequential": [
            [
             0,
             "#0d0887"
            ],
            [
             0.1111111111111111,
             "#46039f"
            ],
            [
             0.2222222222222222,
             "#7201a8"
            ],
            [
             0.3333333333333333,
             "#9c179e"
            ],
            [
             0.4444444444444444,
             "#bd3786"
            ],
            [
             0.5555555555555556,
             "#d8576b"
            ],
            [
             0.6666666666666666,
             "#ed7953"
            ],
            [
             0.7777777777777778,
             "#fb9f3a"
            ],
            [
             0.8888888888888888,
             "#fdca26"
            ],
            [
             1,
             "#f0f921"
            ]
           ],
           "sequentialminus": [
            [
             0,
             "#0d0887"
            ],
            [
             0.1111111111111111,
             "#46039f"
            ],
            [
             0.2222222222222222,
             "#7201a8"
            ],
            [
             0.3333333333333333,
             "#9c179e"
            ],
            [
             0.4444444444444444,
             "#bd3786"
            ],
            [
             0.5555555555555556,
             "#d8576b"
            ],
            [
             0.6666666666666666,
             "#ed7953"
            ],
            [
             0.7777777777777778,
             "#fb9f3a"
            ],
            [
             0.8888888888888888,
             "#fdca26"
            ],
            [
             1,
             "#f0f921"
            ]
           ]
          },
          "colorway": [
           "#636efa",
           "#EF553B",
           "#00cc96",
           "#ab63fa",
           "#FFA15A",
           "#19d3f3",
           "#FF6692",
           "#B6E880",
           "#FF97FF",
           "#FECB52"
          ],
          "font": {
           "color": "#2a3f5f"
          },
          "geo": {
           "bgcolor": "white",
           "lakecolor": "white",
           "landcolor": "#E5ECF6",
           "showlakes": true,
           "showland": true,
           "subunitcolor": "white"
          },
          "hoverlabel": {
           "align": "left"
          },
          "hovermode": "closest",
          "mapbox": {
           "style": "light"
          },
          "paper_bgcolor": "white",
          "plot_bgcolor": "#E5ECF6",
          "polar": {
           "angularaxis": {
            "gridcolor": "white",
            "linecolor": "white",
            "ticks": ""
           },
           "bgcolor": "#E5ECF6",
           "radialaxis": {
            "gridcolor": "white",
            "linecolor": "white",
            "ticks": ""
           }
          },
          "scene": {
           "xaxis": {
            "backgroundcolor": "#E5ECF6",
            "gridcolor": "white",
            "gridwidth": 2,
            "linecolor": "white",
            "showbackground": true,
            "ticks": "",
            "zerolinecolor": "white"
           },
           "yaxis": {
            "backgroundcolor": "#E5ECF6",
            "gridcolor": "white",
            "gridwidth": 2,
            "linecolor": "white",
            "showbackground": true,
            "ticks": "",
            "zerolinecolor": "white"
           },
           "zaxis": {
            "backgroundcolor": "#E5ECF6",
            "gridcolor": "white",
            "gridwidth": 2,
            "linecolor": "white",
            "showbackground": true,
            "ticks": "",
            "zerolinecolor": "white"
           }
          },
          "shapedefaults": {
           "line": {
            "color": "#2a3f5f"
           }
          },
          "ternary": {
           "aaxis": {
            "gridcolor": "white",
            "linecolor": "white",
            "ticks": ""
           },
           "baxis": {
            "gridcolor": "white",
            "linecolor": "white",
            "ticks": ""
           },
           "bgcolor": "#E5ECF6",
           "caxis": {
            "gridcolor": "white",
            "linecolor": "white",
            "ticks": ""
           }
          },
          "title": {
           "x": 0.05
          },
          "xaxis": {
           "automargin": true,
           "gridcolor": "white",
           "linecolor": "white",
           "ticks": "",
           "title": {
            "standoff": 15
           },
           "zerolinecolor": "white",
           "zerolinewidth": 2
          },
          "yaxis": {
           "automargin": true,
           "gridcolor": "white",
           "linecolor": "white",
           "ticks": "",
           "title": {
            "standoff": 15
           },
           "zerolinecolor": "white",
           "zerolinewidth": 2
          }
         }
        },
        "title": {
         "text": "<span style=\"font-size:32px; font-family:Times New Roman\">Dataset distribution by target</span>"
        }
       }
      }
     },
     "metadata": {},
     "output_type": "display_data"
    }
   ],
   "source": [
    "#Defining the color\n",
    "primary_blue = '#1f77b4'  \n",
    "primary_grey = '#7f7f7f'\n",
    "\n",
    "fig = go.Figure()\n",
    "fig.add_trace(go.Bar(\n",
    "    x=['ham'],\n",
    "    y=[balance_counts[0]],\n",
    "    name='ham',\n",
    "    text=[balance_counts[0]],\n",
    "    textposition='auto',\n",
    "    marker_color=primary_blue\n",
    "))\n",
    "fig.add_trace(go.Bar(\n",
    "    x=['spam'],\n",
    "    y=[balance_counts[1]],\n",
    "    name='spam',\n",
    "    text=[balance_counts[1]],\n",
    "    textposition='auto',\n",
    "    marker_color=primary_grey\n",
    "))\n",
    "fig.update_layout(\n",
    "    title='<span style=\"font-size:32px; font-family:Times New Roman\">Dataset distribution by target</span>'\n",
    ")\n",
    "fig.show()"
   ]
  },
  {
   "cell_type": "code",
   "execution_count": 10,
   "metadata": {},
   "outputs": [
    {
     "data": {
      "application/vnd.plotly.v1+json": {
       "config": {
        "plotlyServerURL": "https://plot.ly"
       },
       "data": [
        {
         "domain": {
          "x": [
           0,
           1
          ],
          "y": [
           0,
           1
          ]
         },
         "hole": 0.4,
         "hovertemplate": "target=%{label}<extra></extra>",
         "labels": [
          "ham",
          "ham",
          "spam",
          "ham",
          "ham",
          "spam",
          "ham",
          "ham",
          "spam",
          "spam",
          "ham",
          "spam",
          "spam",
          "ham",
          "ham",
          "spam",
          "ham",
          "ham",
          "ham",
          "spam",
          "ham",
          "ham",
          "ham",
          "ham",
          "ham",
          "ham",
          "ham",
          "ham",
          "ham",
          "ham",
          "ham",
          "ham",
          "ham",
          "ham",
          "spam",
          "ham",
          "ham",
          "ham",
          "ham",
          "ham",
          "ham",
          "ham",
          "spam",
          "ham",
          "ham",
          "ham",
          "ham",
          "ham",
          "ham",
          "ham",
          "ham",
          "ham",
          "ham",
          "ham",
          "spam",
          "ham",
          "spam",
          "ham",
          "ham",
          "ham",
          "ham",
          "ham",
          "ham",
          "ham",
          "ham",
          "spam",
          "ham",
          "spam",
          "spam",
          "ham",
          "ham",
          "ham",
          "ham",
          "ham",
          "ham",
          "ham",
          "ham",
          "ham",
          "ham",
          "ham",
          "ham",
          "ham",
          "ham",
          "ham",
          "ham",
          "ham",
          "ham",
          "ham",
          "ham",
          "ham",
          "ham",
          "ham",
          "ham",
          "spam",
          "ham",
          "spam",
          "ham",
          "ham",
          "ham",
          "ham",
          "ham",
          "ham",
          "ham",
          "ham",
          "ham",
          "ham",
          "ham",
          "ham",
          "ham",
          "ham",
          "ham",
          "ham",
          "spam",
          "ham",
          "ham",
          "spam",
          "ham",
          "ham",
          "spam",
          "spam",
          "ham",
          "spam",
          "ham",
          "ham",
          "ham",
          "ham",
          "ham",
          "ham",
          "ham",
          "ham",
          "ham",
          "ham",
          "spam",
          "spam",
          "ham",
          "ham",
          "ham",
          "spam",
          "ham",
          "ham",
          "ham",
          "ham",
          "ham",
          "ham",
          "ham",
          "spam",
          "ham",
          "ham",
          "ham",
          "ham",
          "ham",
          "ham",
          "ham",
          "ham",
          "ham",
          "ham",
          "spam",
          "spam",
          "ham",
          "ham",
          "ham",
          "spam",
          "spam",
          "ham",
          "spam",
          "ham",
          "ham",
          "ham",
          "ham",
          "ham",
          "ham",
          "ham",
          "ham",
          "ham",
          "ham",
          "ham",
          "ham",
          "ham",
          "ham",
          "ham",
          "ham",
          "ham",
          "ham",
          "ham",
          "ham",
          "spam",
          "ham",
          "ham",
          "spam",
          "ham",
          "ham",
          "ham",
          "ham",
          "ham",
          "ham",
          "ham",
          "ham",
          "ham",
          "ham",
          "ham",
          "ham",
          "ham",
          "ham",
          "ham",
          "ham",
          "ham",
          "ham",
          "ham",
          "ham",
          "ham",
          "ham",
          "ham",
          "ham",
          "ham",
          "ham",
          "ham",
          "ham",
          "ham",
          "ham",
          "ham",
          "spam",
          "ham",
          "spam",
          "ham",
          "ham",
          "ham",
          "ham",
          "ham",
          "ham",
          "ham",
          "spam",
          "ham",
          "ham",
          "ham",
          "ham",
          "spam",
          "ham",
          "ham",
          "ham",
          "ham",
          "ham",
          "ham",
          "ham",
          "ham",
          "ham",
          "spam",
          "ham",
          "ham",
          "ham",
          "ham",
          "ham",
          "ham",
          "ham",
          "ham",
          "spam",
          "ham",
          "ham",
          "ham",
          "ham",
          "spam",
          "ham",
          "ham",
          "ham",
          "spam",
          "ham",
          "spam",
          "ham",
          "ham",
          "spam",
          "ham",
          "ham",
          "ham",
          "ham",
          "ham",
          "ham",
          "ham",
          "ham",
          "ham",
          "ham",
          "ham",
          "ham",
          "ham",
          "ham",
          "ham",
          "ham",
          "ham",
          "ham",
          "ham",
          "ham",
          "ham",
          "ham",
          "spam",
          "ham",
          "ham",
          "ham",
          "ham",
          "ham",
          "ham",
          "ham",
          "ham",
          "spam",
          "ham",
          "ham",
          "ham",
          "spam",
          "ham",
          "ham",
          "spam",
          "ham",
          "ham",
          "ham",
          "ham",
          "ham",
          "ham",
          "spam",
          "ham",
          "ham",
          "ham",
          "ham",
          "ham",
          "ham",
          "ham",
          "ham",
          "ham",
          "ham",
          "ham",
          "ham",
          "spam",
          "ham",
          "spam",
          "ham",
          "ham",
          "ham",
          "ham",
          "ham",
          "ham",
          "ham",
          "ham",
          "ham",
          "ham",
          "ham",
          "ham",
          "spam",
          "ham",
          "ham",
          "ham",
          "ham",
          "ham",
          "ham",
          "ham",
          "spam",
          "ham",
          "ham",
          "ham",
          "ham",
          "ham",
          "ham",
          "ham",
          "ham",
          "spam",
          "spam",
          "ham",
          "ham",
          "ham",
          "ham",
          "ham",
          "ham",
          "spam",
          "ham",
          "ham",
          "ham",
          "ham",
          "ham",
          "ham",
          "ham",
          "ham",
          "ham",
          "spam",
          "ham",
          "ham",
          "ham",
          "spam",
          "ham",
          "ham",
          "ham",
          "ham",
          "ham",
          "ham",
          "ham",
          "ham",
          "ham",
          "ham",
          "ham",
          "spam",
          "ham",
          "ham",
          "ham",
          "ham",
          "ham",
          "ham",
          "ham",
          "ham",
          "ham",
          "ham",
          "ham",
          "ham",
          "ham",
          "spam",
          "ham",
          "ham",
          "spam",
          "ham",
          "spam",
          "ham",
          "spam",
          "ham",
          "spam",
          "ham",
          "ham",
          "ham",
          "ham",
          "ham",
          "ham",
          "ham",
          "ham",
          "spam",
          "ham",
          "ham",
          "ham",
          "ham",
          "ham",
          "ham",
          "ham",
          "ham",
          "ham",
          "ham",
          "ham",
          "ham",
          "ham",
          "ham",
          "ham",
          "ham",
          "ham",
          "ham",
          "ham",
          "ham",
          "spam",
          "ham",
          "ham",
          "ham",
          "ham",
          "ham",
          "ham",
          "ham",
          "spam",
          "ham",
          "ham",
          "ham",
          "ham",
          "ham",
          "ham",
          "ham",
          "spam",
          "ham",
          "ham",
          "spam",
          "ham",
          "ham",
          "ham",
          "ham",
          "ham",
          "ham",
          "ham",
          "ham",
          "ham",
          "ham",
          "ham",
          "ham",
          "spam",
          "ham",
          "ham",
          "ham",
          "ham",
          "spam",
          "ham",
          "ham",
          "ham",
          "ham",
          "ham",
          "ham",
          "ham",
          "ham",
          "ham",
          "ham",
          "ham",
          "ham",
          "spam",
          "ham",
          "ham",
          "ham",
          "ham",
          "ham",
          "ham",
          "ham",
          "ham",
          "ham",
          "spam",
          "ham",
          "spam",
          "spam",
          "ham",
          "ham",
          "ham",
          "ham",
          "ham",
          "ham",
          "spam",
          "ham",
          "spam",
          "ham",
          "spam",
          "ham",
          "spam",
          "ham",
          "ham",
          "ham",
          "ham",
          "ham",
          "ham",
          "ham",
          "ham",
          "spam",
          "ham",
          "ham",
          "ham",
          "ham",
          "ham",
          "ham",
          "ham",
          "ham",
          "ham",
          "ham",
          "ham",
          "ham",
          "ham",
          "ham",
          "ham",
          "ham",
          "ham",
          "ham",
          "ham",
          "ham",
          "ham",
          "ham",
          "spam",
          "ham",
          "ham",
          "ham",
          "ham",
          "ham",
          "ham",
          "ham",
          "ham",
          "ham",
          "ham",
          "ham",
          "spam",
          "ham",
          "ham",
          "spam",
          "ham",
          "ham",
          "ham",
          "spam",
          "ham",
          "ham",
          "ham",
          "ham",
          "ham",
          "ham",
          "ham",
          "spam",
          "spam",
          "spam",
          "ham",
          "ham",
          "ham",
          "ham",
          "spam",
          "ham",
          "ham",
          "ham",
          "ham",
          "ham",
          "ham",
          "ham",
          "ham",
          "spam",
          "ham",
          "ham",
          "ham",
          "spam",
          "ham",
          "ham",
          "ham",
          "ham",
          "ham",
          "ham",
          "ham",
          "ham",
          "ham",
          "ham",
          "ham",
          "ham",
          "ham",
          "ham",
          "ham",
          "ham",
          "ham",
          "spam",
          "spam",
          "ham",
          "ham",
          "ham",
          "ham",
          "spam",
          "ham",
          "ham",
          "ham",
          "ham",
          "ham",
          "ham",
          "ham",
          "ham",
          "ham",
          "ham",
          "ham",
          "ham",
          "spam",
          "ham",
          "spam",
          "ham",
          "ham",
          "ham",
          "ham",
          "ham",
          "ham",
          "ham",
          "spam",
          "ham",
          "ham",
          "ham",
          "ham",
          "ham",
          "ham",
          "ham",
          "ham",
          "ham",
          "ham",
          "ham",
          "spam",
          "spam",
          "ham",
          "ham",
          "ham",
          "ham",
          "ham",
          "ham",
          "ham",
          "ham",
          "ham",
          "ham",
          "spam",
          "ham",
          "ham",
          "ham",
          "ham",
          "ham",
          "spam",
          "ham",
          "ham",
          "ham",
          "ham",
          "ham",
          "ham",
          "ham",
          "ham",
          "ham",
          "ham",
          "ham",
          "ham",
          "ham",
          "ham",
          "ham",
          "ham",
          "ham",
          "spam",
          "spam",
          "ham",
          "ham",
          "spam",
          "ham",
          "ham",
          "ham",
          "spam",
          "ham",
          "spam",
          "ham",
          "ham",
          "ham",
          "ham",
          "ham",
          "ham",
          "ham",
          "ham",
          "ham",
          "ham",
          "ham",
          "spam",
          "ham",
          "ham",
          "ham",
          "ham",
          "ham",
          "ham",
          "spam",
          "ham",
          "ham",
          "ham",
          "ham",
          "ham",
          "ham",
          "ham",
          "ham",
          "ham",
          "spam",
          "ham",
          "ham",
          "spam",
          "spam",
          "ham",
          "ham",
          "ham",
          "ham",
          "ham",
          "ham",
          "ham",
          "ham",
          "spam",
          "ham",
          "spam",
          "ham",
          "ham",
          "spam",
          "ham",
          "ham",
          "ham",
          "ham",
          "ham",
          "ham",
          "ham",
          "ham",
          "ham",
          "ham",
          "ham",
          "ham",
          "ham",
          "spam",
          "ham",
          "ham",
          "ham",
          "spam",
          "spam",
          "ham",
          "ham",
          "ham",
          "ham",
          "ham",
          "ham",
          "spam",
          "ham",
          "ham",
          "ham",
          "spam",
          "ham",
          "spam",
          "spam",
          "ham",
          "ham",
          "ham",
          "ham",
          "ham",
          "ham",
          "ham",
          "ham",
          "spam",
          "ham",
          "spam",
          "ham",
          "ham",
          "ham",
          "ham",
          "ham",
          "ham",
          "ham",
          "spam",
          "spam",
          "ham",
          "ham",
          "ham",
          "ham",
          "ham",
          "spam",
          "ham",
          "spam",
          "ham",
          "ham",
          "ham",
          "spam",
          "ham",
          "spam",
          "spam",
          "ham",
          "ham",
          "ham",
          "spam",
          "ham",
          "ham",
          "ham",
          "ham",
          "ham",
          "ham",
          "ham",
          "ham",
          "ham",
          "ham",
          "spam",
          "ham",
          "ham",
          "ham",
          "ham",
          "ham",
          "ham",
          "ham",
          "ham",
          "ham",
          "spam",
          "ham",
          "spam",
          "spam",
          "spam",
          "ham",
          "ham",
          "ham",
          "ham",
          "ham",
          "spam",
          "ham",
          "spam",
          "spam",
          "spam",
          "spam",
          "ham",
          "ham",
          "ham",
          "ham",
          "ham",
          "ham",
          "ham",
          "ham",
          "ham",
          "ham",
          "ham",
          "ham",
          "ham",
          "ham",
          "ham",
          "ham",
          "ham",
          "ham",
          "ham",
          "ham",
          "ham",
          "ham",
          "ham",
          "ham",
          "spam",
          "ham",
          "ham",
          "spam",
          "ham",
          "ham",
          "ham",
          "ham",
          "ham",
          "ham",
          "ham",
          "ham",
          "ham",
          "ham",
          "ham",
          "ham",
          "ham",
          "ham",
          "ham",
          "ham",
          "ham",
          "ham",
          "ham",
          "spam",
          "ham",
          "ham",
          "ham",
          "ham",
          "spam",
          "ham",
          "ham",
          "ham",
          "spam",
          "ham",
          "ham",
          "ham",
          "spam",
          "ham",
          "ham",
          "ham",
          "spam",
          "ham",
          "ham",
          "ham",
          "ham",
          "ham",
          "ham",
          "ham",
          "spam",
          "ham",
          "ham",
          "ham",
          "ham",
          "ham",
          "ham",
          "spam",
          "ham",
          "ham",
          "ham",
          "ham",
          "ham",
          "ham",
          "ham",
          "ham",
          "ham",
          "ham",
          "ham",
          "ham",
          "ham",
          "ham",
          "ham",
          "ham",
          "ham",
          "ham",
          "spam",
          "ham",
          "ham",
          "ham",
          "ham",
          "ham",
          "ham",
          "ham",
          "ham",
          "ham",
          "ham",
          "ham",
          "ham",
          "ham",
          "ham",
          "ham",
          "ham",
          "ham",
          "ham",
          "ham",
          "ham",
          "ham",
          "spam",
          "ham",
          "ham",
          "ham",
          "ham",
          "ham",
          "ham",
          "ham",
          "ham",
          "ham",
          "spam",
          "ham",
          "ham",
          "ham",
          "ham",
          "spam",
          "ham",
          "ham",
          "ham",
          "ham",
          "ham",
          "ham",
          "ham",
          "ham",
          "ham",
          "ham",
          "ham",
          "ham",
          "ham",
          "ham",
          "ham",
          "ham",
          "ham",
          "ham",
          "ham",
          "ham",
          "ham",
          "spam",
          "ham",
          "ham",
          "spam",
          "ham",
          "spam",
          "ham",
          "ham",
          "ham",
          "ham",
          "ham",
          "ham",
          "ham",
          "ham",
          "ham",
          "spam",
          "ham",
          "ham",
          "ham",
          "spam",
          "ham",
          "ham",
          "ham",
          "ham",
          "spam",
          "ham",
          "ham",
          "spam",
          "spam",
          "ham",
          "ham",
          "ham",
          "ham",
          "ham",
          "ham",
          "ham",
          "ham",
          "ham",
          "ham",
          "ham",
          "ham",
          "ham",
          "ham",
          "ham",
          "spam",
          "ham",
          "spam",
          "ham",
          "ham",
          "ham",
          "ham",
          "ham",
          "spam",
          "ham",
          "ham",
          "ham",
          "ham",
          "ham",
          "ham",
          "ham",
          "spam",
          "ham",
          "ham",
          "ham",
          "ham",
          "ham",
          "ham",
          "ham",
          "ham",
          "ham",
          "ham",
          "ham",
          "ham",
          "spam",
          "ham",
          "spam",
          "ham",
          "spam",
          "ham",
          "ham",
          "ham",
          "spam",
          "ham",
          "ham",
          "spam",
          "ham",
          "ham",
          "ham",
          "ham",
          "spam",
          "ham",
          "ham",
          "ham",
          "spam",
          "ham",
          "ham",
          "ham",
          "spam",
          "ham",
          "ham",
          "ham",
          "ham",
          "ham",
          "ham",
          "spam",
          "ham",
          "ham",
          "ham",
          "ham",
          "ham",
          "ham",
          "ham",
          "ham",
          "ham",
          "ham",
          "ham",
          "ham",
          "ham",
          "ham",
          "ham",
          "spam",
          "ham",
          "ham",
          "ham",
          "ham",
          "ham",
          "ham",
          "ham",
          "ham",
          "ham",
          "ham",
          "ham",
          "ham",
          "ham",
          "ham",
          "ham",
          "ham",
          "ham",
          "ham",
          "ham",
          "ham",
          "ham",
          "spam",
          "ham",
          "spam",
          "ham",
          "ham",
          "ham",
          "ham",
          "ham",
          "ham",
          "ham",
          "spam",
          "ham",
          "spam",
          "ham",
          "ham",
          "ham",
          "ham",
          "ham",
          "ham",
          "ham",
          "ham",
          "ham",
          "spam",
          "ham",
          "ham",
          "ham",
          "spam",
          "ham",
          "ham",
          "ham",
          "ham",
          "spam",
          "ham",
          "spam",
          "ham",
          "ham",
          "ham",
          "ham",
          "ham",
          "ham",
          "ham",
          "ham",
          "ham",
          "ham",
          "ham",
          "ham",
          "ham",
          "ham",
          "ham",
          "ham",
          "ham",
          "ham",
          "ham",
          "spam",
          "ham",
          "ham",
          "ham",
          "ham",
          "ham",
          "ham",
          "ham",
          "ham",
          "ham",
          "ham",
          "spam",
          "ham",
          "ham",
          "ham",
          "ham",
          "ham",
          "spam",
          "ham",
          "ham",
          "ham",
          "ham",
          "spam",
          "ham",
          "ham",
          "ham",
          "ham",
          "ham",
          "ham",
          "ham",
          "ham",
          "ham",
          "ham",
          "ham",
          "ham",
          "ham",
          "ham",
          "ham",
          "ham",
          "ham",
          "ham",
          "ham",
          "ham",
          "ham",
          "ham",
          "ham",
          "ham",
          "ham",
          "ham",
          "ham",
          "ham",
          "ham",
          "ham",
          "ham",
          "spam",
          "spam",
          "ham",
          "ham",
          "ham",
          "ham",
          "ham",
          "ham",
          "ham",
          "ham",
          "ham",
          "spam",
          "ham",
          "ham",
          "ham",
          "ham",
          "ham",
          "ham",
          "ham",
          "ham",
          "spam",
          "ham",
          "ham",
          "ham",
          "ham",
          "ham",
          "ham",
          "ham",
          "ham",
          "ham",
          "ham",
          "ham",
          "ham",
          "ham",
          "ham",
          "ham",
          "ham",
          "ham",
          "ham",
          "ham",
          "ham",
          "ham",
          "spam",
          "ham",
          "ham",
          "ham",
          "ham",
          "ham",
          "ham",
          "ham",
          "ham",
          "ham",
          "ham",
          "ham",
          "ham",
          "ham",
          "ham",
          "spam",
          "ham",
          "ham",
          "ham",
          "ham",
          "ham",
          "ham",
          "ham",
          "spam",
          "spam",
          "ham",
          "ham",
          "spam",
          "ham",
          "ham",
          "ham",
          "ham",
          "ham",
          "ham",
          "ham",
          "ham",
          "ham",
          "ham",
          "ham",
          "ham",
          "ham",
          "ham",
          "ham",
          "ham",
          "ham",
          "ham",
          "ham",
          "ham",
          "ham",
          "ham",
          "ham",
          "ham",
          "ham",
          "ham",
          "spam",
          "ham",
          "ham",
          "ham",
          "ham",
          "ham",
          "spam",
          "ham",
          "ham",
          "ham",
          "ham",
          "ham",
          "ham",
          "ham",
          "ham",
          "spam",
          "ham",
          "ham",
          "ham",
          "ham",
          "ham",
          "spam",
          "ham",
          "ham",
          "ham",
          "ham",
          "ham",
          "ham",
          "ham",
          "ham",
          "ham",
          "ham",
          "ham",
          "ham",
          "ham",
          "spam",
          "ham",
          "ham",
          "ham",
          "ham",
          "spam",
          "ham",
          "ham",
          "ham",
          "ham",
          "ham",
          "ham",
          "spam",
          "ham",
          "spam",
          "spam",
          "ham",
          "ham",
          "spam",
          "ham",
          "ham",
          "spam",
          "ham",
          "spam",
          "ham",
          "ham",
          "ham",
          "ham",
          "ham",
          "ham",
          "ham",
          "ham",
          "ham",
          "ham",
          "ham",
          "ham",
          "ham",
          "ham",
          "ham",
          "ham",
          "ham",
          "ham",
          "ham",
          "ham",
          "spam",
          "ham",
          "ham",
          "ham",
          "ham",
          "ham",
          "ham",
          "ham",
          "spam",
          "ham",
          "spam",
          "ham",
          "ham",
          "ham",
          "ham",
          "spam",
          "ham",
          "ham",
          "ham",
          "ham",
          "ham",
          "ham",
          "ham",
          "ham",
          "ham",
          "spam",
          "ham",
          "ham",
          "spam",
          "ham",
          "ham",
          "ham",
          "ham",
          "ham",
          "ham",
          "ham",
          "ham",
          "ham",
          "ham",
          "ham",
          "ham",
          "ham",
          "ham",
          "spam",
          "ham",
          "ham",
          "ham",
          "ham",
          "ham",
          "ham",
          "ham",
          "spam",
          "ham",
          "ham",
          "ham",
          "ham",
          "ham",
          "ham",
          "ham",
          "ham",
          "ham",
          "ham",
          "ham",
          "ham",
          "ham",
          "ham",
          "ham",
          "ham",
          "ham",
          "ham",
          "ham",
          "ham",
          "ham",
          "ham",
          "ham",
          "ham",
          "ham",
          "ham",
          "ham",
          "spam",
          "spam",
          "ham",
          "ham",
          "ham",
          "ham",
          "ham",
          "ham",
          "ham",
          "ham",
          "ham",
          "ham",
          "ham",
          "ham",
          "ham",
          "ham",
          "ham",
          "ham",
          "ham",
          "ham",
          "spam",
          "ham",
          "ham",
          "spam",
          "spam",
          "ham",
          "ham",
          "ham",
          "ham",
          "ham",
          "ham",
          "ham",
          "ham",
          "ham",
          "ham",
          "ham",
          "ham",
          "ham",
          "ham",
          "spam",
          "ham",
          "ham",
          "ham",
          "ham",
          "ham",
          "ham",
          "ham",
          "ham",
          "ham",
          "spam",
          "ham",
          "spam",
          "ham",
          "ham",
          "spam",
          "ham",
          "ham",
          "ham",
          "ham",
          "ham",
          "ham",
          "spam",
          "ham",
          "ham",
          "spam",
          "ham",
          "spam",
          "ham",
          "ham",
          "ham",
          "ham",
          "ham",
          "ham",
          "ham",
          "ham",
          "ham",
          "ham",
          "ham",
          "ham",
          "spam",
          "ham",
          "ham",
          "ham",
          "ham",
          "spam",
          "ham",
          "ham",
          "ham",
          "spam",
          "ham",
          "ham",
          "ham",
          "ham",
          "ham",
          "ham",
          "ham",
          "ham",
          "ham",
          "spam",
          "spam",
          "ham",
          "ham",
          "ham",
          "ham",
          "ham",
          "ham",
          "ham",
          "ham",
          "ham",
          "ham",
          "ham",
          "spam",
          "spam",
          "ham",
          "ham",
          "ham",
          "ham",
          "ham",
          "ham",
          "ham",
          "ham",
          "ham",
          "spam",
          "ham",
          "ham",
          "ham",
          "ham",
          "ham",
          "ham",
          "ham",
          "ham",
          "ham",
          "ham",
          "ham",
          "ham",
          "ham",
          "spam",
          "ham",
          "ham",
          "ham",
          "spam",
          "ham",
          "ham",
          "ham",
          "ham",
          "ham",
          "ham",
          "ham",
          "ham",
          "ham",
          "ham",
          "ham",
          "ham",
          "ham",
          "ham",
          "spam",
          "ham",
          "ham",
          "ham",
          "ham",
          "ham",
          "spam",
          "ham",
          "ham",
          "ham",
          "spam",
          "ham",
          "ham",
          "ham",
          "ham",
          "ham",
          "ham",
          "ham",
          "ham",
          "ham",
          "ham",
          "ham",
          "ham",
          "ham",
          "ham",
          "ham",
          "ham",
          "ham",
          "ham",
          "ham",
          "spam",
          "ham",
          "spam",
          "ham",
          "ham",
          "ham",
          "ham",
          "ham",
          "ham",
          "ham",
          "ham",
          "ham",
          "spam",
          "spam",
          "spam",
          "ham",
          "ham",
          "ham",
          "ham",
          "ham",
          "ham",
          "ham",
          "ham",
          "ham",
          "ham",
          "spam",
          "ham",
          "ham",
          "ham",
          "ham",
          "ham",
          "ham",
          "ham",
          "ham",
          "ham",
          "ham",
          "ham",
          "ham",
          "ham",
          "spam",
          "ham",
          "ham",
          "ham",
          "ham",
          "ham",
          "ham",
          "ham",
          "ham",
          "ham",
          "ham",
          "ham",
          "ham",
          "ham",
          "ham",
          "ham",
          "ham",
          "ham",
          "ham",
          "ham",
          "ham",
          "spam",
          "ham",
          "ham",
          "ham",
          "ham",
          "ham",
          "ham",
          "ham",
          "ham",
          "spam",
          "ham",
          "ham",
          "ham",
          "ham",
          "ham",
          "ham",
          "ham",
          "ham",
          "spam",
          "ham",
          "ham",
          "ham",
          "ham",
          "spam",
          "ham",
          "ham",
          "ham",
          "ham",
          "ham",
          "ham",
          "ham",
          "ham",
          "ham",
          "ham",
          "ham",
          "ham",
          "ham",
          "ham",
          "ham",
          "ham",
          "ham",
          "ham",
          "ham",
          "ham",
          "spam",
          "spam",
          "ham",
          "ham",
          "spam",
          "ham",
          "ham",
          "ham",
          "ham",
          "ham",
          "ham",
          "spam",
          "spam",
          "ham",
          "ham",
          "ham",
          "ham",
          "spam",
          "spam",
          "ham",
          "ham",
          "ham",
          "ham",
          "ham",
          "ham",
          "ham",
          "spam",
          "ham",
          "ham",
          "ham",
          "ham",
          "ham",
          "ham",
          "ham",
          "ham",
          "ham",
          "ham",
          "spam",
          "ham",
          "ham",
          "ham",
          "ham",
          "ham",
          "ham",
          "ham",
          "ham",
          "ham",
          "ham",
          "ham",
          "ham",
          "ham",
          "spam",
          "spam",
          "ham",
          "ham",
          "ham",
          "ham",
          "ham",
          "ham",
          "ham",
          "ham",
          "ham",
          "spam",
          "ham",
          "spam",
          "ham",
          "ham",
          "ham",
          "ham",
          "ham",
          "ham",
          "ham",
          "ham",
          "ham",
          "ham",
          "ham",
          "ham",
          "ham",
          "ham",
          "ham",
          "ham",
          "spam",
          "ham",
          "spam",
          "ham",
          "ham",
          "ham",
          "ham",
          "ham",
          "spam",
          "ham",
          "ham",
          "ham",
          "ham",
          "ham",
          "ham",
          "spam",
          "ham",
          "ham",
          "ham",
          "ham",
          "spam",
          "ham",
          "ham",
          "ham",
          "ham",
          "ham",
          "spam",
          "ham",
          "ham",
          "ham",
          "ham",
          "ham",
          "ham",
          "ham",
          "ham",
          "spam",
          "ham",
          "ham",
          "ham",
          "ham",
          "ham",
          "ham",
          "ham",
          "ham",
          "ham",
          "ham",
          "spam",
          "ham",
          "ham",
          "ham",
          "ham",
          "ham",
          "ham",
          "ham",
          "ham",
          "spam",
          "ham",
          "ham",
          "ham",
          "ham",
          "ham",
          "ham",
          "ham",
          "ham",
          "ham",
          "ham",
          "ham",
          "ham",
          "ham",
          "ham",
          "ham",
          "ham",
          "ham",
          "ham",
          "ham",
          "ham",
          "ham",
          "ham",
          "ham",
          "ham",
          "ham",
          "ham",
          "ham",
          "ham",
          "spam",
          "ham",
          "ham",
          "ham",
          "ham",
          "ham",
          "ham",
          "ham",
          "ham",
          "ham",
          "ham",
          "spam",
          "ham",
          "ham",
          "ham",
          "ham",
          "ham",
          "spam",
          "spam",
          "ham",
          "ham",
          "spam",
          "ham",
          "ham",
          "ham",
          "ham",
          "spam",
          "ham",
          "ham",
          "ham",
          "ham",
          "ham",
          "ham",
          "ham",
          "ham",
          "ham",
          "spam",
          "ham",
          "ham",
          "ham",
          "ham",
          "spam",
          "ham",
          "ham",
          "ham",
          "ham",
          "spam",
          "ham",
          "ham",
          "ham",
          "ham",
          "ham",
          "ham",
          "ham",
          "ham",
          "ham",
          "ham",
          "ham",
          "spam",
          "ham",
          "spam",
          "ham",
          "ham",
          "ham",
          "spam",
          "ham",
          "ham",
          "ham",
          "ham",
          "ham",
          "ham",
          "ham",
          "ham",
          "ham",
          "ham",
          "ham",
          "spam",
          "ham",
          "ham",
          "ham",
          "ham",
          "ham",
          "ham",
          "ham",
          "ham",
          "ham",
          "ham",
          "spam",
          "ham",
          "ham",
          "ham",
          "ham",
          "ham",
          "ham",
          "ham",
          "ham",
          "ham",
          "ham",
          "ham",
          "ham",
          "ham",
          "spam",
          "ham",
          "ham",
          "ham",
          "ham",
          "ham",
          "ham",
          "ham",
          "ham",
          "ham",
          "ham",
          "ham",
          "ham",
          "ham",
          "ham",
          "ham",
          "ham",
          "ham",
          "ham",
          "ham",
          "ham",
          "ham",
          "ham",
          "ham",
          "ham",
          "ham",
          "spam",
          "ham",
          "ham",
          "ham",
          "ham",
          "ham",
          "ham",
          "ham",
          "ham",
          "ham",
          "ham",
          "ham",
          "ham",
          "ham",
          "ham",
          "ham",
          "ham",
          "ham",
          "spam",
          "ham",
          "spam",
          "ham",
          "ham",
          "ham",
          "ham",
          "ham",
          "ham",
          "ham",
          "ham",
          "ham",
          "spam",
          "ham",
          "ham",
          "ham",
          "spam",
          "ham",
          "ham",
          "ham",
          "ham",
          "ham",
          "ham",
          "ham",
          "ham",
          "ham",
          "ham",
          "ham",
          "ham",
          "ham",
          "ham",
          "ham",
          "ham",
          "ham",
          "ham",
          "ham",
          "ham",
          "ham",
          "spam",
          "spam",
          "ham",
          "spam",
          "ham",
          "ham",
          "ham",
          "ham",
          "ham",
          "ham",
          "ham",
          "ham",
          "ham",
          "ham",
          "spam",
          "ham",
          "ham",
          "spam",
          "spam",
          "ham",
          "spam",
          "ham",
          "ham",
          "ham",
          "ham",
          "ham",
          "ham",
          "ham",
          "ham",
          "ham",
          "ham",
          "ham",
          "ham",
          "ham",
          "ham",
          "ham",
          "ham",
          "ham",
          "ham",
          "ham",
          "spam",
          "ham",
          "ham",
          "ham",
          "ham",
          "spam",
          "ham",
          "spam",
          "ham",
          "ham",
          "ham",
          "ham",
          "ham",
          "ham",
          "ham",
          "ham",
          "ham",
          "spam",
          "ham",
          "spam",
          "spam",
          "spam",
          "ham",
          "ham",
          "ham",
          "ham",
          "ham",
          "ham",
          "ham",
          "ham",
          "ham",
          "ham",
          "ham",
          "ham",
          "spam",
          "ham",
          "ham",
          "ham",
          "ham",
          "ham",
          "ham",
          "ham",
          "ham",
          "ham",
          "ham",
          "ham",
          "ham",
          "ham",
          "ham",
          "spam",
          "ham",
          "ham",
          "ham",
          "ham",
          "ham",
          "spam",
          "ham",
          "spam",
          "ham",
          "ham",
          "ham",
          "ham",
          "ham",
          "spam",
          "ham",
          "ham",
          "spam",
          "ham",
          "ham",
          "spam",
          "ham",
          "ham",
          "ham",
          "ham",
          "ham",
          "ham",
          "spam",
          "ham",
          "ham",
          "ham",
          "spam",
          "ham",
          "ham",
          "ham",
          "ham",
          "ham",
          "ham",
          "spam",
          "ham",
          "ham",
          "ham",
          "ham",
          "ham",
          "ham",
          "ham",
          "ham",
          "ham",
          "ham",
          "ham",
          "ham",
          "ham",
          "ham",
          "ham",
          "spam",
          "ham",
          "ham",
          "ham",
          "ham",
          "ham",
          "ham",
          "ham",
          "ham",
          "ham",
          "ham",
          "ham",
          "ham",
          "ham",
          "ham",
          "ham",
          "ham",
          "spam",
          "ham",
          "ham",
          "ham",
          "ham",
          "ham",
          "ham",
          "spam",
          "ham",
          "ham",
          "spam",
          "ham",
          "ham",
          "ham",
          "ham",
          "ham",
          "ham",
          "ham",
          "spam",
          "ham",
          "ham",
          "ham",
          "ham",
          "ham",
          "ham",
          "ham",
          "ham",
          "ham",
          "ham",
          "ham",
          "ham",
          "ham",
          "ham",
          "ham",
          "ham",
          "ham",
          "ham",
          "ham",
          "ham",
          "ham",
          "ham",
          "ham",
          "ham",
          "ham",
          "ham",
          "ham",
          "ham",
          "ham",
          "ham",
          "ham",
          "ham",
          "ham",
          "ham",
          "ham",
          "ham",
          "ham",
          "ham",
          "spam",
          "spam",
          "ham",
          "ham",
          "ham",
          "ham",
          "ham",
          "ham",
          "ham",
          "ham",
          "ham",
          "ham",
          "ham",
          "ham",
          "ham",
          "ham",
          "spam",
          "ham",
          "ham",
          "ham",
          "ham",
          "ham",
          "ham",
          "ham",
          "ham",
          "ham",
          "ham",
          "ham",
          "ham",
          "ham",
          "ham",
          "ham",
          "ham",
          "spam",
          "ham",
          "ham",
          "ham",
          "ham",
          "ham",
          "ham",
          "spam",
          "ham",
          "ham",
          "ham",
          "ham",
          "ham",
          "ham",
          "ham",
          "ham",
          "ham",
          "ham",
          "ham",
          "ham",
          "ham",
          "ham",
          "ham",
          "ham",
          "ham",
          "ham",
          "ham",
          "ham",
          "ham",
          "spam",
          "ham",
          "ham",
          "ham",
          "ham",
          "ham",
          "ham",
          "ham",
          "spam",
          "ham",
          "spam",
          "ham",
          "ham",
          "ham",
          "ham",
          "ham",
          "ham",
          "ham",
          "ham",
          "ham",
          "ham",
          "ham",
          "ham",
          "ham",
          "spam",
          "spam",
          "ham",
          "ham",
          "ham",
          "ham",
          "ham",
          "spam",
          "ham",
          "spam",
          "ham",
          "ham",
          "ham",
          "ham",
          "ham",
          "ham",
          "spam",
          "ham",
          "ham",
          "ham",
          "ham",
          "ham",
          "ham",
          "ham",
          "ham",
          "ham",
          "ham",
          "ham",
          "ham",
          "ham",
          "ham",
          "ham",
          "ham",
          "ham",
          "ham",
          "ham",
          "spam",
          "ham",
          "ham",
          "ham",
          "ham",
          "ham",
          "ham",
          "spam",
          "ham",
          "ham",
          "ham",
          "ham",
          "ham",
          "spam",
          "ham",
          "ham",
          "ham",
          "ham",
          "ham",
          "spam",
          "ham",
          "ham",
          "ham",
          "ham",
          "ham",
          "ham",
          "ham",
          "ham",
          "ham",
          "spam",
          "ham",
          "ham",
          "ham",
          "ham",
          "ham",
          "ham",
          "ham",
          "ham",
          "ham",
          "ham",
          "ham",
          "ham",
          "ham",
          "ham",
          "ham",
          "ham",
          "ham",
          "spam",
          "spam",
          "ham",
          "ham",
          "ham",
          "ham",
          "spam",
          "spam",
          "ham",
          "ham",
          "ham",
          "ham",
          "ham",
          "ham",
          "ham",
          "ham",
          "ham",
          "spam",
          "ham",
          "ham",
          "ham",
          "ham",
          "spam",
          "ham",
          "ham",
          "ham",
          "spam",
          "ham",
          "spam",
          "ham",
          "ham",
          "ham",
          "ham",
          "ham",
          "spam",
          "ham",
          "ham",
          "ham",
          "ham",
          "ham",
          "spam",
          "ham",
          "ham",
          "spam",
          "ham",
          "ham",
          "spam",
          "ham",
          "ham",
          "ham",
          "ham",
          "ham",
          "ham",
          "ham",
          "ham",
          "ham",
          "ham",
          "ham",
          "ham",
          "ham",
          "spam",
          "spam",
          "ham",
          "ham",
          "ham",
          "ham",
          "ham",
          "ham",
          "ham",
          "ham",
          "ham",
          "ham",
          "ham",
          "ham",
          "ham",
          "ham",
          "ham",
          "ham",
          "ham",
          "ham",
          "ham",
          "ham",
          "ham",
          "ham",
          "ham",
          "ham",
          "ham",
          "ham",
          "ham",
          "ham",
          "ham",
          "ham",
          "ham",
          "spam",
          "ham",
          "ham",
          "spam",
          "ham",
          "ham",
          "ham",
          "spam",
          "ham",
          "ham",
          "ham",
          "ham",
          "spam",
          "ham",
          "ham",
          "ham",
          "ham",
          "ham",
          "ham",
          "ham",
          "ham",
          "ham",
          "ham",
          "ham",
          "spam",
          "ham",
          "ham",
          "ham",
          "ham",
          "ham",
          "ham",
          "ham",
          "ham",
          "ham",
          "spam",
          "ham",
          "ham",
          "ham",
          "spam",
          "ham",
          "ham",
          "ham",
          "ham",
          "ham",
          "ham",
          "ham",
          "ham",
          "spam",
          "ham",
          "ham",
          "spam",
          "ham",
          "spam",
          "ham",
          "ham",
          "spam",
          "ham",
          "spam",
          "ham",
          "ham",
          "spam",
          "ham",
          "ham",
          "ham",
          "ham",
          "ham",
          "ham",
          "ham",
          "ham",
          "ham",
          "ham",
          "ham",
          "ham",
          "spam",
          "spam",
          "ham",
          "ham",
          "ham",
          "ham",
          "ham",
          "ham",
          "ham",
          "ham",
          "ham",
          "ham",
          "ham",
          "spam",
          "ham",
          "ham",
          "ham",
          "ham",
          "ham",
          "spam",
          "ham",
          "ham",
          "ham",
          "ham",
          "ham",
          "ham",
          "ham",
          "spam",
          "ham",
          "ham",
          "ham",
          "ham",
          "ham",
          "ham",
          "ham",
          "ham",
          "ham",
          "ham",
          "ham",
          "ham",
          "ham",
          "ham",
          "ham",
          "ham",
          "spam",
          "ham",
          "ham",
          "ham",
          "spam",
          "ham",
          "ham",
          "ham",
          "ham",
          "ham",
          "ham",
          "ham",
          "spam",
          "ham",
          "ham",
          "ham",
          "spam",
          "ham",
          "ham",
          "ham",
          "ham",
          "ham",
          "ham",
          "ham",
          "ham",
          "ham",
          "ham",
          "ham",
          "ham",
          "ham",
          "ham",
          "ham",
          "ham",
          "ham",
          "ham",
          "ham",
          "ham",
          "ham",
          "ham",
          "ham",
          "ham",
          "ham",
          "spam",
          "ham",
          "ham",
          "spam",
          "ham",
          "ham",
          "ham",
          "ham",
          "ham",
          "ham",
          "ham",
          "ham",
          "spam",
          "ham",
          "ham",
          "ham",
          "ham",
          "ham",
          "ham",
          "ham",
          "ham",
          "ham",
          "spam",
          "ham",
          "ham",
          "ham",
          "ham",
          "ham",
          "ham",
          "ham",
          "ham",
          "ham",
          "ham",
          "ham",
          "ham",
          "spam",
          "ham",
          "ham",
          "ham",
          "ham",
          "ham",
          "spam",
          "ham",
          "ham",
          "spam",
          "ham",
          "ham",
          "ham",
          "ham",
          "ham",
          "ham",
          "ham",
          "ham",
          "ham",
          "spam",
          "ham",
          "ham",
          "ham",
          "ham",
          "spam",
          "ham",
          "ham",
          "ham",
          "spam",
          "ham",
          "ham",
          "ham",
          "ham",
          "ham",
          "ham",
          "ham",
          "ham",
          "ham",
          "ham",
          "ham",
          "ham",
          "ham",
          "ham",
          "ham",
          "ham",
          "ham",
          "ham",
          "ham",
          "ham",
          "ham",
          "ham",
          "ham",
          "ham",
          "ham",
          "ham",
          "ham",
          "ham",
          "ham",
          "ham",
          "ham",
          "ham",
          "ham",
          "ham",
          "ham",
          "ham",
          "ham",
          "ham",
          "ham",
          "ham",
          "spam",
          "ham",
          "ham",
          "ham",
          "ham",
          "spam",
          "ham",
          "ham",
          "spam",
          "ham",
          "ham",
          "ham",
          "ham",
          "ham",
          "ham",
          "ham",
          "ham",
          "ham",
          "ham",
          "ham",
          "ham",
          "ham",
          "ham",
          "ham",
          "ham",
          "ham",
          "ham",
          "ham",
          "ham",
          "ham",
          "ham",
          "ham",
          "spam",
          "ham",
          "ham",
          "ham",
          "ham",
          "ham",
          "ham",
          "ham",
          "ham",
          "ham",
          "ham",
          "ham",
          "ham",
          "ham",
          "ham",
          "ham",
          "ham",
          "ham",
          "spam",
          "ham",
          "ham",
          "ham",
          "ham",
          "ham",
          "ham",
          "ham",
          "ham",
          "ham",
          "ham",
          "ham",
          "ham",
          "spam",
          "ham",
          "ham",
          "ham",
          "ham",
          "ham",
          "spam",
          "ham",
          "ham",
          "ham",
          "ham",
          "ham",
          "ham",
          "ham",
          "spam",
          "ham",
          "ham",
          "ham",
          "ham",
          "ham",
          "ham",
          "ham",
          "ham",
          "ham",
          "ham",
          "ham",
          "ham",
          "ham",
          "ham",
          "ham",
          "ham",
          "ham",
          "ham",
          "ham",
          "spam",
          "ham",
          "ham",
          "ham",
          "ham",
          "ham",
          "ham",
          "spam",
          "ham",
          "ham",
          "ham",
          "ham",
          "ham",
          "ham",
          "ham",
          "ham",
          "ham",
          "ham",
          "ham",
          "ham",
          "spam",
          "ham",
          "ham",
          "spam",
          "ham",
          "ham",
          "ham",
          "ham",
          "ham",
          "ham",
          "ham",
          "ham",
          "ham",
          "ham",
          "ham",
          "ham",
          "ham",
          "ham",
          "ham",
          "ham",
          "ham",
          "ham",
          "ham",
          "ham",
          "ham",
          "ham",
          "ham",
          "spam",
          "ham",
          "ham",
          "ham",
          "ham",
          "spam",
          "ham",
          "ham",
          "ham",
          "ham",
          "ham",
          "spam",
          "ham",
          "ham",
          "ham",
          "ham",
          "ham",
          "ham",
          "ham",
          "ham",
          "ham",
          "ham",
          "ham",
          "ham",
          "ham",
          "ham",
          "ham",
          "ham",
          "ham",
          "ham",
          "ham",
          "ham",
          "ham",
          "ham",
          "ham",
          "ham",
          "ham",
          "ham",
          "ham",
          "spam",
          "ham",
          "ham",
          "ham",
          "ham",
          "ham",
          "spam",
          "ham",
          "ham",
          "ham",
          "ham",
          "ham",
          "ham",
          "ham",
          "ham",
          "ham",
          "ham",
          "ham",
          "ham",
          "ham",
          "ham",
          "ham",
          "ham",
          "ham",
          "ham",
          "ham",
          "ham",
          "spam",
          "spam",
          "ham",
          "ham",
          "ham",
          "ham",
          "ham",
          "ham",
          "ham",
          "spam",
          "spam",
          "ham",
          "spam",
          "ham",
          "ham",
          "ham",
          "ham",
          "ham",
          "ham",
          "ham",
          "ham",
          "ham",
          "ham",
          "ham",
          "ham",
          "ham",
          "ham",
          "ham",
          "ham",
          "ham",
          "ham",
          "ham",
          "ham",
          "ham",
          "ham",
          "ham",
          "ham",
          "ham",
          "ham",
          "ham",
          "ham",
          "spam",
          "ham",
          "ham",
          "ham",
          "ham",
          "ham",
          "ham",
          "ham",
          "ham",
          "ham",
          "ham",
          "ham",
          "ham",
          "ham",
          "ham",
          "ham",
          "ham",
          "ham",
          "ham",
          "ham",
          "ham",
          "ham",
          "ham",
          "ham",
          "spam",
          "ham",
          "ham",
          "ham",
          "ham",
          "ham",
          "ham",
          "ham",
          "ham",
          "ham",
          "ham",
          "ham",
          "ham",
          "ham",
          "ham",
          "ham",
          "ham",
          "ham",
          "ham",
          "ham",
          "ham",
          "spam",
          "ham",
          "ham",
          "spam",
          "ham",
          "ham",
          "ham",
          "ham",
          "ham",
          "spam",
          "ham",
          "ham",
          "ham",
          "spam",
          "ham",
          "ham",
          "ham",
          "ham",
          "ham",
          "ham",
          "ham",
          "ham",
          "spam",
          "ham",
          "ham",
          "ham",
          "ham",
          "ham",
          "ham",
          "ham",
          "ham",
          "spam",
          "spam",
          "spam",
          "spam",
          "spam",
          "spam",
          "spam",
          "ham",
          "ham",
          "ham",
          "ham",
          "ham",
          "ham",
          "ham",
          "spam",
          "ham",
          "ham",
          "ham",
          "ham",
          "ham",
          "ham",
          "ham",
          "ham",
          "spam",
          "spam",
          "ham",
          "ham",
          "ham",
          "ham",
          "ham",
          "ham",
          "ham",
          "ham",
          "ham",
          "ham",
          "ham",
          "ham",
          "ham",
          "spam",
          "ham",
          "ham",
          "spam",
          "ham",
          "ham",
          "ham",
          "ham",
          "ham",
          "ham",
          "ham",
          "ham",
          "ham",
          "ham",
          "ham",
          "ham",
          "ham",
          "ham",
          "ham",
          "ham",
          "spam",
          "ham",
          "ham",
          "ham",
          "ham",
          "ham",
          "ham",
          "ham",
          "ham",
          "spam",
          "spam",
          "ham",
          "ham",
          "ham",
          "ham",
          "spam",
          "ham",
          "ham",
          "ham",
          "ham",
          "ham",
          "ham",
          "ham",
          "ham",
          "ham",
          "ham",
          "ham",
          "ham",
          "ham",
          "ham",
          "ham",
          "ham",
          "ham",
          "ham",
          "ham",
          "ham",
          "ham",
          "ham",
          "ham",
          "ham",
          "ham",
          "ham",
          "ham",
          "spam",
          "spam",
          "ham",
          "ham",
          "ham",
          "ham",
          "ham",
          "ham",
          "ham",
          "ham",
          "ham",
          "ham",
          "ham",
          "ham",
          "ham",
          "ham",
          "ham",
          "ham",
          "spam",
          "ham",
          "ham",
          "ham",
          "ham",
          "ham",
          "ham",
          "spam",
          "ham",
          "ham",
          "ham",
          "spam",
          "ham",
          "spam",
          "ham",
          "spam",
          "ham",
          "ham",
          "ham",
          "spam",
          "ham",
          "ham",
          "spam",
          "ham",
          "ham",
          "spam",
          "ham",
          "ham",
          "ham",
          "ham",
          "ham",
          "ham",
          "ham",
          "ham",
          "ham",
          "ham",
          "spam",
          "ham",
          "ham",
          "ham",
          "ham",
          "ham",
          "ham",
          "spam",
          "ham",
          "ham",
          "spam",
          "ham",
          "ham",
          "ham",
          "ham",
          "ham",
          "ham",
          "ham",
          "ham",
          "ham",
          "ham",
          "ham",
          "ham",
          "ham",
          "ham",
          "ham",
          "ham",
          "ham",
          "ham",
          "ham",
          "ham",
          "spam",
          "ham",
          "ham",
          "ham",
          "ham",
          "ham",
          "ham",
          "ham",
          "spam",
          "ham",
          "ham",
          "ham",
          "ham",
          "ham",
          "ham",
          "ham",
          "spam",
          "ham",
          "ham",
          "spam",
          "ham",
          "ham",
          "ham",
          "spam",
          "ham",
          "ham",
          "ham",
          "ham",
          "ham",
          "ham",
          "ham",
          "ham",
          "ham",
          "ham",
          "ham",
          "ham",
          "ham",
          "ham",
          "ham",
          "ham",
          "ham",
          "ham",
          "ham",
          "ham",
          "ham",
          "ham",
          "ham",
          "ham",
          "ham",
          "ham",
          "ham",
          "ham",
          "ham",
          "ham",
          "spam",
          "ham",
          "ham",
          "ham",
          "ham",
          "ham",
          "ham",
          "ham",
          "ham",
          "ham",
          "ham",
          "ham",
          "ham",
          "ham",
          "ham",
          "ham",
          "spam",
          "ham",
          "ham",
          "ham",
          "ham",
          "ham",
          "ham",
          "ham",
          "ham",
          "ham",
          "ham",
          "ham",
          "ham",
          "ham",
          "ham",
          "ham",
          "ham",
          "ham",
          "ham",
          "ham",
          "spam",
          "ham",
          "ham",
          "ham",
          "ham",
          "spam",
          "ham",
          "ham",
          "ham",
          "ham",
          "ham",
          "ham",
          "ham",
          "ham",
          "ham",
          "ham",
          "ham",
          "ham",
          "ham",
          "spam",
          "ham",
          "ham",
          "ham",
          "ham",
          "ham",
          "ham",
          "ham",
          "spam",
          "ham",
          "ham",
          "ham",
          "ham",
          "ham",
          "ham",
          "ham",
          "ham",
          "ham",
          "ham",
          "ham",
          "spam",
          "ham",
          "ham",
          "ham",
          "ham",
          "ham",
          "ham",
          "ham",
          "ham",
          "ham",
          "spam",
          "ham",
          "spam",
          "ham",
          "ham",
          "ham",
          "ham",
          "ham",
          "ham",
          "ham",
          "spam",
          "ham",
          "ham",
          "spam",
          "ham",
          "ham",
          "ham",
          "ham",
          "ham",
          "ham",
          "ham",
          "spam",
          "ham",
          "ham",
          "ham",
          "ham",
          "ham",
          "spam",
          "ham",
          "ham",
          "ham",
          "ham",
          "ham",
          "ham",
          "ham",
          "ham",
          "ham",
          "ham",
          "ham",
          "spam",
          "ham",
          "ham",
          "ham",
          "ham",
          "ham",
          "ham",
          "ham",
          "ham",
          "spam",
          "ham",
          "ham",
          "ham",
          "ham",
          "ham",
          "ham",
          "ham",
          "ham",
          "ham",
          "ham",
          "ham",
          "ham",
          "ham",
          "ham",
          "ham",
          "ham",
          "ham",
          "ham",
          "ham",
          "ham",
          "ham",
          "ham",
          "ham",
          "ham",
          "spam",
          "ham",
          "ham",
          "ham",
          "spam",
          "ham",
          "spam",
          "ham",
          "spam",
          "ham",
          "ham",
          "ham",
          "ham",
          "ham",
          "ham",
          "ham",
          "ham",
          "ham",
          "ham",
          "ham",
          "ham",
          "ham",
          "ham",
          "ham",
          "ham",
          "ham",
          "ham",
          "spam",
          "ham",
          "ham",
          "ham",
          "ham",
          "ham",
          "spam",
          "ham",
          "spam",
          "ham",
          "spam",
          "ham",
          "spam",
          "ham",
          "ham",
          "ham",
          "ham",
          "ham",
          "spam",
          "spam",
          "ham",
          "ham",
          "ham",
          "ham",
          "ham",
          "ham",
          "ham",
          "ham",
          "ham",
          "ham",
          "ham",
          "ham",
          "spam",
          "ham",
          "ham",
          "ham",
          "ham",
          "ham",
          "ham",
          "ham",
          "ham",
          "ham",
          "ham",
          "ham",
          "ham",
          "ham",
          "ham",
          "ham",
          "ham",
          "ham",
          "ham",
          "ham",
          "spam",
          "ham",
          "ham",
          "ham",
          "ham",
          "ham",
          "ham",
          "ham",
          "ham",
          "ham",
          "ham",
          "spam",
          "ham",
          "ham",
          "ham",
          "ham",
          "ham",
          "ham",
          "ham",
          "ham",
          "spam",
          "ham",
          "ham",
          "ham",
          "spam",
          "ham",
          "ham",
          "ham",
          "spam",
          "ham",
          "ham",
          "ham",
          "ham",
          "ham",
          "ham",
          "ham",
          "spam",
          "ham",
          "ham",
          "ham",
          "ham",
          "ham",
          "spam",
          "ham",
          "ham",
          "spam",
          "ham",
          "ham",
          "ham",
          "ham",
          "ham",
          "spam",
          "spam",
          "ham",
          "spam",
          "ham",
          "ham",
          "ham",
          "ham",
          "ham",
          "ham",
          "ham",
          "ham",
          "ham",
          "ham",
          "spam",
          "ham",
          "ham",
          "ham",
          "spam",
          "ham",
          "ham",
          "ham",
          "ham",
          "ham",
          "ham",
          "ham",
          "ham",
          "ham",
          "ham",
          "ham",
          "ham",
          "ham",
          "ham",
          "ham",
          "spam",
          "ham",
          "ham",
          "ham",
          "ham",
          "ham",
          "ham",
          "ham",
          "ham",
          "spam",
          "spam",
          "ham",
          "ham",
          "ham",
          "ham",
          "ham",
          "ham",
          "ham",
          "ham",
          "ham",
          "ham",
          "ham",
          "spam",
          "spam",
          "ham",
          "ham",
          "ham",
          "ham",
          "ham",
          "ham",
          "spam",
          "spam",
          "ham",
          "ham",
          "ham",
          "spam",
          "ham",
          "ham",
          "spam",
          "ham",
          "ham",
          "ham",
          "ham",
          "ham",
          "ham",
          "ham",
          "spam",
          "ham",
          "spam",
          "ham",
          "ham",
          "spam",
          "ham",
          "ham",
          "ham",
          "ham",
          "ham",
          "ham",
          "ham",
          "ham",
          "ham",
          "ham",
          "spam",
          "ham",
          "ham",
          "ham",
          "spam",
          "ham",
          "ham",
          "ham",
          "spam",
          "ham",
          "ham",
          "ham",
          "ham",
          "ham",
          "ham",
          "ham",
          "ham",
          "ham",
          "ham",
          "ham",
          "ham",
          "ham",
          "spam",
          "ham",
          "ham",
          "ham",
          "ham",
          "spam",
          "ham",
          "ham",
          "ham",
          "ham",
          "ham",
          "ham",
          "ham",
          "ham",
          "spam",
          "ham",
          "ham",
          "ham",
          "ham",
          "spam",
          "ham",
          "ham",
          "ham",
          "ham",
          "ham",
          "spam",
          "ham",
          "ham",
          "ham",
          "ham",
          "ham",
          "ham",
          "ham",
          "ham",
          "spam",
          "ham",
          "ham",
          "ham",
          "ham",
          "ham",
          "ham",
          "ham",
          "ham",
          "ham",
          "ham",
          "ham",
          "ham",
          "ham",
          "ham",
          "spam",
          "ham",
          "ham",
          "ham",
          "ham",
          "ham",
          "ham",
          "ham",
          "ham",
          "ham",
          "ham",
          "ham",
          "spam",
          "ham",
          "ham",
          "ham",
          "ham",
          "spam",
          "ham",
          "ham",
          "ham",
          "ham",
          "ham",
          "ham",
          "spam",
          "ham",
          "ham",
          "ham",
          "ham",
          "ham",
          "ham",
          "ham",
          "ham",
          "ham",
          "ham",
          "ham",
          "ham",
          "ham",
          "ham",
          "ham",
          "ham",
          "ham",
          "ham",
          "ham",
          "spam",
          "ham",
          "ham",
          "ham",
          "ham",
          "ham",
          "spam",
          "ham",
          "ham",
          "ham",
          "spam",
          "spam",
          "ham",
          "ham",
          "ham",
          "ham",
          "ham",
          "ham",
          "spam",
          "ham",
          "spam",
          "ham",
          "ham",
          "ham",
          "ham",
          "ham",
          "ham",
          "ham",
          "ham",
          "ham",
          "ham",
          "ham",
          "spam",
          "ham",
          "ham",
          "ham",
          "ham",
          "ham",
          "ham",
          "ham",
          "spam",
          "ham",
          "ham",
          "ham",
          "ham",
          "ham",
          "ham",
          "ham",
          "ham",
          "ham",
          "ham",
          "ham",
          "ham",
          "ham",
          "spam",
          "spam",
          "spam",
          "ham",
          "ham",
          "ham",
          "ham",
          "ham",
          "ham",
          "ham",
          "ham",
          "ham",
          "ham",
          "ham",
          "ham",
          "ham",
          "ham",
          "ham",
          "ham",
          "ham",
          "ham",
          "ham",
          "ham",
          "ham",
          "ham",
          "ham",
          "ham",
          "ham",
          "ham",
          "spam",
          "ham",
          "ham",
          "ham",
          "ham",
          "ham",
          "ham",
          "ham",
          "ham",
          "ham",
          "ham",
          "ham",
          "ham",
          "ham",
          "ham",
          "ham",
          "ham",
          "ham",
          "ham",
          "ham",
          "ham",
          "ham",
          "ham",
          "ham",
          "spam",
          "ham",
          "ham",
          "spam",
          "ham",
          "ham",
          "ham",
          "ham",
          "ham",
          "ham",
          "ham",
          "ham",
          "ham",
          "ham",
          "ham",
          "spam",
          "spam",
          "ham",
          "ham",
          "spam",
          "spam",
          "ham",
          "ham",
          "ham",
          "ham",
          "ham",
          "ham",
          "ham",
          "ham",
          "spam",
          "ham",
          "ham",
          "ham",
          "ham",
          "ham",
          "spam",
          "ham",
          "ham",
          "ham",
          "ham",
          "ham",
          "ham",
          "ham",
          "ham",
          "ham",
          "ham",
          "ham",
          "ham",
          "spam",
          "ham",
          "ham",
          "spam",
          "ham",
          "ham",
          "ham",
          "ham",
          "ham",
          "ham",
          "ham",
          "ham",
          "ham",
          "ham",
          "ham",
          "ham",
          "ham",
          "ham",
          "ham",
          "ham",
          "ham",
          "ham",
          "ham",
          "ham",
          "ham",
          "ham",
          "ham",
          "spam",
          "ham",
          "ham",
          "ham",
          "ham",
          "ham",
          "ham",
          "ham",
          "ham",
          "ham",
          "ham",
          "ham",
          "ham",
          "ham",
          "ham",
          "ham",
          "ham",
          "ham",
          "ham",
          "ham",
          "ham",
          "spam",
          "ham",
          "ham",
          "ham",
          "ham",
          "ham",
          "ham",
          "ham",
          "ham",
          "ham",
          "ham",
          "spam",
          "ham",
          "spam",
          "ham",
          "ham",
          "ham",
          "ham",
          "ham",
          "ham",
          "ham",
          "ham",
          "ham",
          "ham",
          "ham",
          "ham",
          "ham",
          "ham",
          "ham",
          "ham",
          "ham",
          "ham",
          "ham",
          "ham",
          "ham",
          "ham",
          "spam",
          "spam",
          "ham",
          "ham",
          "ham",
          "ham",
          "spam",
          "ham",
          "ham",
          "ham",
          "ham",
          "ham",
          "ham",
          "ham",
          "spam",
          "ham",
          "ham",
          "ham",
          "ham",
          "ham",
          "ham",
          "ham",
          "ham",
          "ham",
          "ham",
          "ham",
          "spam",
          "ham",
          "ham",
          "ham",
          "ham",
          "ham",
          "ham",
          "spam",
          "ham",
          "ham",
          "ham",
          "ham",
          "ham",
          "ham",
          "ham",
          "spam",
          "ham",
          "ham",
          "ham",
          "ham",
          "ham",
          "ham",
          "ham",
          "ham",
          "ham",
          "ham",
          "ham",
          "ham",
          "ham",
          "ham",
          "ham",
          "ham",
          "ham",
          "ham",
          "ham",
          "ham",
          "ham",
          "ham",
          "ham",
          "ham",
          "spam",
          "ham",
          "ham",
          "spam",
          "ham",
          "ham",
          "spam",
          "spam",
          "spam",
          "ham",
          "ham",
          "ham",
          "ham",
          "ham",
          "spam",
          "ham",
          "ham",
          "ham",
          "ham",
          "ham",
          "ham",
          "ham",
          "ham",
          "ham",
          "ham",
          "ham",
          "ham",
          "spam",
          "ham",
          "ham",
          "ham",
          "ham",
          "ham",
          "ham",
          "ham",
          "ham",
          "ham",
          "ham",
          "ham",
          "ham",
          "ham",
          "spam",
          "ham",
          "ham",
          "ham",
          "ham",
          "ham",
          "ham",
          "ham",
          "ham",
          "ham",
          "ham",
          "ham",
          "spam",
          "ham",
          "ham",
          "ham",
          "ham",
          "ham",
          "ham",
          "ham",
          "ham",
          "ham",
          "ham",
          "ham",
          "spam",
          "ham",
          "ham",
          "spam",
          "ham",
          "ham",
          "ham",
          "spam",
          "ham",
          "ham",
          "ham",
          "ham",
          "spam",
          "ham",
          "ham",
          "ham",
          "ham",
          "ham",
          "ham",
          "ham",
          "ham",
          "ham",
          "ham",
          "ham",
          "ham",
          "ham",
          "spam",
          "ham",
          "ham",
          "spam",
          "ham",
          "ham",
          "ham",
          "ham",
          "ham",
          "ham",
          "ham",
          "ham",
          "ham",
          "ham",
          "ham",
          "ham",
          "ham",
          "ham",
          "ham",
          "ham",
          "ham",
          "spam",
          "ham",
          "ham",
          "ham",
          "ham",
          "ham",
          "ham",
          "ham",
          "ham",
          "ham",
          "ham",
          "ham",
          "ham",
          "ham",
          "ham",
          "ham",
          "ham",
          "ham",
          "ham",
          "ham",
          "ham",
          "ham",
          "ham",
          "ham",
          "ham",
          "ham",
          "spam",
          "ham",
          "ham",
          "spam",
          "ham",
          "ham",
          "ham",
          "ham",
          "ham",
          "ham",
          "ham",
          "ham",
          "ham",
          "ham",
          "ham",
          "ham",
          "ham",
          "ham",
          "ham",
          "ham",
          "ham",
          "ham",
          "ham",
          "spam",
          "ham",
          "spam",
          "ham",
          "ham",
          "ham",
          "ham",
          "spam",
          "ham",
          "ham",
          "ham",
          "ham",
          "ham",
          "ham",
          "ham",
          "spam",
          "ham",
          "ham",
          "ham",
          "ham",
          "ham",
          "ham",
          "ham",
          "ham",
          "ham",
          "ham",
          "ham",
          "ham",
          "ham",
          "ham",
          "ham",
          "spam",
          "ham",
          "ham",
          "ham",
          "ham",
          "ham",
          "ham",
          "ham",
          "ham",
          "ham",
          "ham",
          "spam",
          "spam",
          "ham",
          "ham",
          "ham",
          "ham",
          "ham",
          "ham",
          "ham",
          "ham",
          "spam",
          "ham",
          "ham",
          "ham",
          "ham",
          "ham",
          "ham",
          "ham",
          "ham",
          "ham",
          "ham",
          "ham",
          "spam",
          "ham",
          "spam",
          "ham",
          "ham",
          "ham",
          "ham",
          "ham",
          "ham",
          "ham",
          "ham",
          "ham",
          "ham",
          "spam",
          "ham",
          "ham",
          "ham",
          "ham",
          "ham",
          "ham",
          "spam",
          "ham",
          "ham",
          "ham",
          "spam",
          "ham",
          "ham",
          "ham",
          "ham",
          "ham",
          "ham",
          "ham",
          "ham",
          "ham",
          "ham",
          "ham",
          "ham",
          "ham",
          "ham",
          "ham",
          "spam",
          "ham",
          "ham",
          "ham",
          "ham",
          "ham",
          "ham",
          "ham",
          "ham",
          "ham",
          "ham",
          "ham",
          "spam",
          "ham",
          "ham",
          "ham",
          "ham",
          "ham",
          "ham",
          "ham",
          "ham",
          "ham",
          "ham",
          "ham",
          "ham",
          "ham",
          "spam",
          "ham",
          "ham",
          "ham",
          "spam",
          "ham",
          "spam",
          "ham",
          "ham",
          "spam",
          "ham",
          "ham",
          "ham",
          "ham",
          "ham",
          "ham",
          "ham",
          "spam",
          "ham",
          "ham",
          "ham",
          "ham",
          "ham",
          "ham",
          "ham",
          "ham",
          "ham",
          "ham",
          "ham",
          "ham",
          "ham",
          "spam",
          "ham",
          "ham",
          "ham",
          "ham",
          "ham",
          "ham",
          "ham",
          "ham",
          "ham",
          "ham",
          "ham",
          "ham",
          "ham",
          "ham",
          "ham",
          "ham",
          "spam",
          "ham",
          "ham",
          "ham",
          "spam",
          "ham",
          "ham",
          "ham",
          "ham",
          "ham",
          "ham",
          "ham",
          "ham",
          "ham",
          "spam",
          "ham",
          "spam",
          "spam",
          "ham",
          "ham",
          "ham",
          "ham",
          "ham",
          "ham",
          "ham",
          "ham",
          "ham",
          "ham",
          "ham",
          "ham",
          "ham",
          "ham",
          "ham",
          "spam",
          "ham",
          "ham",
          "ham",
          "ham",
          "ham",
          "spam",
          "ham",
          "ham",
          "ham",
          "ham",
          "ham",
          "ham",
          "ham",
          "ham",
          "ham",
          "ham",
          "ham",
          "ham",
          "spam",
          "ham",
          "ham",
          "ham",
          "ham",
          "ham",
          "ham",
          "ham",
          "spam",
          "ham",
          "ham",
          "ham",
          "ham",
          "ham",
          "spam",
          "ham",
          "ham",
          "ham",
          "ham",
          "ham",
          "ham",
          "ham",
          "ham",
          "spam",
          "spam",
          "ham",
          "spam",
          "ham",
          "ham",
          "ham",
          "ham",
          "ham",
          "ham",
          "ham",
          "ham",
          "spam",
          "ham",
          "spam",
          "ham",
          "ham",
          "ham",
          "ham",
          "ham",
          "ham",
          "ham",
          "ham",
          "ham",
          "ham",
          "ham",
          "ham",
          "ham",
          "spam",
          "ham",
          "ham",
          "ham",
          "ham",
          "ham",
          "ham",
          "ham",
          "spam",
          "ham",
          "ham",
          "spam",
          "ham",
          "spam",
          "ham",
          "spam",
          "ham",
          "ham",
          "spam",
          "ham",
          "ham",
          "ham",
          "ham",
          "ham",
          "ham",
          "ham",
          "ham",
          "ham",
          "ham",
          "ham",
          "ham",
          "ham",
          "ham",
          "ham",
          "ham",
          "ham",
          "ham",
          "ham",
          "spam",
          "ham",
          "ham",
          "ham",
          "spam",
          "ham",
          "ham",
          "ham",
          "ham",
          "spam",
          "ham",
          "spam",
          "ham",
          "ham",
          "spam",
          "ham",
          "ham",
          "ham",
          "ham",
          "spam",
          "ham",
          "ham",
          "ham",
          "ham",
          "ham",
          "ham",
          "ham",
          "ham",
          "ham",
          "ham",
          "ham",
          "ham",
          "ham",
          "ham",
          "ham",
          "spam",
          "ham",
          "ham",
          "ham",
          "ham",
          "ham",
          "ham",
          "ham",
          "ham",
          "spam",
          "ham",
          "ham",
          "ham",
          "ham",
          "ham",
          "ham",
          "ham",
          "ham",
          "ham",
          "ham",
          "ham",
          "ham",
          "ham",
          "ham",
          "ham",
          "ham",
          "ham",
          "ham",
          "ham",
          "ham",
          "ham",
          "ham",
          "ham",
          "ham",
          "ham",
          "ham",
          "spam",
          "ham",
          "ham",
          "ham",
          "ham",
          "ham",
          "ham",
          "ham",
          "ham",
          "spam",
          "spam",
          "ham",
          "ham",
          "ham",
          "ham",
          "spam",
          "ham",
          "ham",
          "ham",
          "spam",
          "ham",
          "ham",
          "spam",
          "ham",
          "ham",
          "ham",
          "ham",
          "ham",
          "ham",
          "ham",
          "ham",
          "ham",
          "ham",
          "ham",
          "ham",
          "ham",
          "ham",
          "ham",
          "ham",
          "spam",
          "ham",
          "ham",
          "ham",
          "ham",
          "ham",
          "ham",
          "spam",
          "ham",
          "ham",
          "ham",
          "ham",
          "ham",
          "ham",
          "ham",
          "ham",
          "ham",
          "ham",
          "spam",
          "ham",
          "ham",
          "ham",
          "ham",
          "ham",
          "ham",
          "ham",
          "ham",
          "ham",
          "ham",
          "ham",
          "ham",
          "ham",
          "ham",
          "ham",
          "ham",
          "spam",
          "ham",
          "ham",
          "ham",
          "ham",
          "ham",
          "ham",
          "ham",
          "ham",
          "spam",
          "ham",
          "ham",
          "ham",
          "ham",
          "ham",
          "ham",
          "ham",
          "ham",
          "ham",
          "ham",
          "spam",
          "ham",
          "spam",
          "ham",
          "ham",
          "ham",
          "ham",
          "ham",
          "ham",
          "ham",
          "ham",
          "ham",
          "ham",
          "ham",
          "ham",
          "ham",
          "ham",
          "ham",
          "ham",
          "ham",
          "ham",
          "ham",
          "ham",
          "ham",
          "ham",
          "ham",
          "ham",
          "ham",
          "ham",
          "ham",
          "ham",
          "ham",
          "ham",
          "ham",
          "ham",
          "ham",
          "ham",
          "ham",
          "ham",
          "ham",
          "ham",
          "ham",
          "ham",
          "ham",
          "ham",
          "ham",
          "ham",
          "spam",
          "ham",
          "ham",
          "ham",
          "ham",
          "ham",
          "ham",
          "ham",
          "ham",
          "ham",
          "ham",
          "ham",
          "ham",
          "ham",
          "ham",
          "ham",
          "ham",
          "ham",
          "ham",
          "ham",
          "spam",
          "spam",
          "ham",
          "spam",
          "ham",
          "spam",
          "ham",
          "ham",
          "ham",
          "ham",
          "spam",
          "spam",
          "ham",
          "ham",
          "spam",
          "ham",
          "ham",
          "ham",
          "ham",
          "ham",
          "ham",
          "ham",
          "ham",
          "ham",
          "ham",
          "ham",
          "ham",
          "ham",
          "ham",
          "ham",
          "ham",
          "ham",
          "ham",
          "ham",
          "ham",
          "ham",
          "ham",
          "ham",
          "ham",
          "ham",
          "ham",
          "ham",
          "ham",
          "ham",
          "ham",
          "ham",
          "ham",
          "ham",
          "ham",
          "ham",
          "ham",
          "ham",
          "ham",
          "ham",
          "ham",
          "ham",
          "spam",
          "ham",
          "ham",
          "ham",
          "ham",
          "ham",
          "ham",
          "ham",
          "ham",
          "ham",
          "ham",
          "ham",
          "ham",
          "ham",
          "ham",
          "ham",
          "spam",
          "ham",
          "ham",
          "ham",
          "ham",
          "ham",
          "spam",
          "ham",
          "ham",
          "ham",
          "ham",
          "ham",
          "ham",
          "spam",
          "ham",
          "ham",
          "spam",
          "ham",
          "ham",
          "ham",
          "spam",
          "spam",
          "ham",
          "ham",
          "ham",
          "ham",
          "ham",
          "ham",
          "ham",
          "ham",
          "ham",
          "ham",
          "spam",
          "ham",
          "ham",
          "ham",
          "ham",
          "spam",
          "ham",
          "ham",
          "spam",
          "ham",
          "ham",
          "ham",
          "ham",
          "ham",
          "ham",
          "ham",
          "spam",
          "ham",
          "ham",
          "ham",
          "ham",
          "ham",
          "ham",
          "ham",
          "ham",
          "ham",
          "ham",
          "ham",
          "ham",
          "ham",
          "ham",
          "ham",
          "ham",
          "ham",
          "ham",
          "ham",
          "ham",
          "ham",
          "ham",
          "spam",
          "ham",
          "ham",
          "ham",
          "ham",
          "ham",
          "ham",
          "ham",
          "ham",
          "ham",
          "spam",
          "ham",
          "spam",
          "ham",
          "ham",
          "ham",
          "ham",
          "ham",
          "ham",
          "spam",
          "ham",
          "ham",
          "ham",
          "ham",
          "ham",
          "ham",
          "ham",
          "ham",
          "ham",
          "ham",
          "ham",
          "ham",
          "ham",
          "ham",
          "ham",
          "ham",
          "spam",
          "spam",
          "ham",
          "ham",
          "ham",
          "ham"
         ],
         "legendgroup": "",
         "marker": {
          "line": {
           "color": "#410F01",
           "width": 1.5
          }
         },
         "name": "",
         "showlegend": true,
         "textinfo": "percent+label",
         "textposition": "inside",
         "type": "pie"
        }
       ],
       "layout": {
        "height": 500,
        "legend": {
         "tracegroupgap": 0
        },
        "piecolorway": [
         "rgb(92, 83, 165)",
         "rgb(160, 89, 160)",
         "rgb(206, 102, 147)",
         "rgb(235, 127, 134)",
         "rgb(248, 160, 126)",
         "rgb(250, 196, 132)",
         "rgb(243, 231, 155)"
        ],
        "template": {
         "data": {
          "bar": [
           {
            "error_x": {
             "color": "#2a3f5f"
            },
            "error_y": {
             "color": "#2a3f5f"
            },
            "marker": {
             "line": {
              "color": "#E5ECF6",
              "width": 0.5
             },
             "pattern": {
              "fillmode": "overlay",
              "size": 10,
              "solidity": 0.2
             }
            },
            "type": "bar"
           }
          ],
          "barpolar": [
           {
            "marker": {
             "line": {
              "color": "#E5ECF6",
              "width": 0.5
             },
             "pattern": {
              "fillmode": "overlay",
              "size": 10,
              "solidity": 0.2
             }
            },
            "type": "barpolar"
           }
          ],
          "carpet": [
           {
            "aaxis": {
             "endlinecolor": "#2a3f5f",
             "gridcolor": "white",
             "linecolor": "white",
             "minorgridcolor": "white",
             "startlinecolor": "#2a3f5f"
            },
            "baxis": {
             "endlinecolor": "#2a3f5f",
             "gridcolor": "white",
             "linecolor": "white",
             "minorgridcolor": "white",
             "startlinecolor": "#2a3f5f"
            },
            "type": "carpet"
           }
          ],
          "choropleth": [
           {
            "colorbar": {
             "outlinewidth": 0,
             "ticks": ""
            },
            "type": "choropleth"
           }
          ],
          "contour": [
           {
            "colorbar": {
             "outlinewidth": 0,
             "ticks": ""
            },
            "colorscale": [
             [
              0,
              "#0d0887"
             ],
             [
              0.1111111111111111,
              "#46039f"
             ],
             [
              0.2222222222222222,
              "#7201a8"
             ],
             [
              0.3333333333333333,
              "#9c179e"
             ],
             [
              0.4444444444444444,
              "#bd3786"
             ],
             [
              0.5555555555555556,
              "#d8576b"
             ],
             [
              0.6666666666666666,
              "#ed7953"
             ],
             [
              0.7777777777777778,
              "#fb9f3a"
             ],
             [
              0.8888888888888888,
              "#fdca26"
             ],
             [
              1,
              "#f0f921"
             ]
            ],
            "type": "contour"
           }
          ],
          "contourcarpet": [
           {
            "colorbar": {
             "outlinewidth": 0,
             "ticks": ""
            },
            "type": "contourcarpet"
           }
          ],
          "heatmap": [
           {
            "colorbar": {
             "outlinewidth": 0,
             "ticks": ""
            },
            "colorscale": [
             [
              0,
              "#0d0887"
             ],
             [
              0.1111111111111111,
              "#46039f"
             ],
             [
              0.2222222222222222,
              "#7201a8"
             ],
             [
              0.3333333333333333,
              "#9c179e"
             ],
             [
              0.4444444444444444,
              "#bd3786"
             ],
             [
              0.5555555555555556,
              "#d8576b"
             ],
             [
              0.6666666666666666,
              "#ed7953"
             ],
             [
              0.7777777777777778,
              "#fb9f3a"
             ],
             [
              0.8888888888888888,
              "#fdca26"
             ],
             [
              1,
              "#f0f921"
             ]
            ],
            "type": "heatmap"
           }
          ],
          "heatmapgl": [
           {
            "colorbar": {
             "outlinewidth": 0,
             "ticks": ""
            },
            "colorscale": [
             [
              0,
              "#0d0887"
             ],
             [
              0.1111111111111111,
              "#46039f"
             ],
             [
              0.2222222222222222,
              "#7201a8"
             ],
             [
              0.3333333333333333,
              "#9c179e"
             ],
             [
              0.4444444444444444,
              "#bd3786"
             ],
             [
              0.5555555555555556,
              "#d8576b"
             ],
             [
              0.6666666666666666,
              "#ed7953"
             ],
             [
              0.7777777777777778,
              "#fb9f3a"
             ],
             [
              0.8888888888888888,
              "#fdca26"
             ],
             [
              1,
              "#f0f921"
             ]
            ],
            "type": "heatmapgl"
           }
          ],
          "histogram": [
           {
            "marker": {
             "pattern": {
              "fillmode": "overlay",
              "size": 10,
              "solidity": 0.2
             }
            },
            "type": "histogram"
           }
          ],
          "histogram2d": [
           {
            "colorbar": {
             "outlinewidth": 0,
             "ticks": ""
            },
            "colorscale": [
             [
              0,
              "#0d0887"
             ],
             [
              0.1111111111111111,
              "#46039f"
             ],
             [
              0.2222222222222222,
              "#7201a8"
             ],
             [
              0.3333333333333333,
              "#9c179e"
             ],
             [
              0.4444444444444444,
              "#bd3786"
             ],
             [
              0.5555555555555556,
              "#d8576b"
             ],
             [
              0.6666666666666666,
              "#ed7953"
             ],
             [
              0.7777777777777778,
              "#fb9f3a"
             ],
             [
              0.8888888888888888,
              "#fdca26"
             ],
             [
              1,
              "#f0f921"
             ]
            ],
            "type": "histogram2d"
           }
          ],
          "histogram2dcontour": [
           {
            "colorbar": {
             "outlinewidth": 0,
             "ticks": ""
            },
            "colorscale": [
             [
              0,
              "#0d0887"
             ],
             [
              0.1111111111111111,
              "#46039f"
             ],
             [
              0.2222222222222222,
              "#7201a8"
             ],
             [
              0.3333333333333333,
              "#9c179e"
             ],
             [
              0.4444444444444444,
              "#bd3786"
             ],
             [
              0.5555555555555556,
              "#d8576b"
             ],
             [
              0.6666666666666666,
              "#ed7953"
             ],
             [
              0.7777777777777778,
              "#fb9f3a"
             ],
             [
              0.8888888888888888,
              "#fdca26"
             ],
             [
              1,
              "#f0f921"
             ]
            ],
            "type": "histogram2dcontour"
           }
          ],
          "mesh3d": [
           {
            "colorbar": {
             "outlinewidth": 0,
             "ticks": ""
            },
            "type": "mesh3d"
           }
          ],
          "parcoords": [
           {
            "line": {
             "colorbar": {
              "outlinewidth": 0,
              "ticks": ""
             }
            },
            "type": "parcoords"
           }
          ],
          "pie": [
           {
            "automargin": true,
            "type": "pie"
           }
          ],
          "scatter": [
           {
            "fillpattern": {
             "fillmode": "overlay",
             "size": 10,
             "solidity": 0.2
            },
            "type": "scatter"
           }
          ],
          "scatter3d": [
           {
            "line": {
             "colorbar": {
              "outlinewidth": 0,
              "ticks": ""
             }
            },
            "marker": {
             "colorbar": {
              "outlinewidth": 0,
              "ticks": ""
             }
            },
            "type": "scatter3d"
           }
          ],
          "scattercarpet": [
           {
            "marker": {
             "colorbar": {
              "outlinewidth": 0,
              "ticks": ""
             }
            },
            "type": "scattercarpet"
           }
          ],
          "scattergeo": [
           {
            "marker": {
             "colorbar": {
              "outlinewidth": 0,
              "ticks": ""
             }
            },
            "type": "scattergeo"
           }
          ],
          "scattergl": [
           {
            "marker": {
             "colorbar": {
              "outlinewidth": 0,
              "ticks": ""
             }
            },
            "type": "scattergl"
           }
          ],
          "scattermapbox": [
           {
            "marker": {
             "colorbar": {
              "outlinewidth": 0,
              "ticks": ""
             }
            },
            "type": "scattermapbox"
           }
          ],
          "scatterpolar": [
           {
            "marker": {
             "colorbar": {
              "outlinewidth": 0,
              "ticks": ""
             }
            },
            "type": "scatterpolar"
           }
          ],
          "scatterpolargl": [
           {
            "marker": {
             "colorbar": {
              "outlinewidth": 0,
              "ticks": ""
             }
            },
            "type": "scatterpolargl"
           }
          ],
          "scatterternary": [
           {
            "marker": {
             "colorbar": {
              "outlinewidth": 0,
              "ticks": ""
             }
            },
            "type": "scatterternary"
           }
          ],
          "surface": [
           {
            "colorbar": {
             "outlinewidth": 0,
             "ticks": ""
            },
            "colorscale": [
             [
              0,
              "#0d0887"
             ],
             [
              0.1111111111111111,
              "#46039f"
             ],
             [
              0.2222222222222222,
              "#7201a8"
             ],
             [
              0.3333333333333333,
              "#9c179e"
             ],
             [
              0.4444444444444444,
              "#bd3786"
             ],
             [
              0.5555555555555556,
              "#d8576b"
             ],
             [
              0.6666666666666666,
              "#ed7953"
             ],
             [
              0.7777777777777778,
              "#fb9f3a"
             ],
             [
              0.8888888888888888,
              "#fdca26"
             ],
             [
              1,
              "#f0f921"
             ]
            ],
            "type": "surface"
           }
          ],
          "table": [
           {
            "cells": {
             "fill": {
              "color": "#EBF0F8"
             },
             "line": {
              "color": "white"
             }
            },
            "header": {
             "fill": {
              "color": "#C8D4E3"
             },
             "line": {
              "color": "white"
             }
            },
            "type": "table"
           }
          ]
         },
         "layout": {
          "annotationdefaults": {
           "arrowcolor": "#2a3f5f",
           "arrowhead": 0,
           "arrowwidth": 1
          },
          "autotypenumbers": "strict",
          "coloraxis": {
           "colorbar": {
            "outlinewidth": 0,
            "ticks": ""
           }
          },
          "colorscale": {
           "diverging": [
            [
             0,
             "#8e0152"
            ],
            [
             0.1,
             "#c51b7d"
            ],
            [
             0.2,
             "#de77ae"
            ],
            [
             0.3,
             "#f1b6da"
            ],
            [
             0.4,
             "#fde0ef"
            ],
            [
             0.5,
             "#f7f7f7"
            ],
            [
             0.6,
             "#e6f5d0"
            ],
            [
             0.7,
             "#b8e186"
            ],
            [
             0.8,
             "#7fbc41"
            ],
            [
             0.9,
             "#4d9221"
            ],
            [
             1,
             "#276419"
            ]
           ],
           "sequential": [
            [
             0,
             "#0d0887"
            ],
            [
             0.1111111111111111,
             "#46039f"
            ],
            [
             0.2222222222222222,
             "#7201a8"
            ],
            [
             0.3333333333333333,
             "#9c179e"
            ],
            [
             0.4444444444444444,
             "#bd3786"
            ],
            [
             0.5555555555555556,
             "#d8576b"
            ],
            [
             0.6666666666666666,
             "#ed7953"
            ],
            [
             0.7777777777777778,
             "#fb9f3a"
            ],
            [
             0.8888888888888888,
             "#fdca26"
            ],
            [
             1,
             "#f0f921"
            ]
           ],
           "sequentialminus": [
            [
             0,
             "#0d0887"
            ],
            [
             0.1111111111111111,
             "#46039f"
            ],
            [
             0.2222222222222222,
             "#7201a8"
            ],
            [
             0.3333333333333333,
             "#9c179e"
            ],
            [
             0.4444444444444444,
             "#bd3786"
            ],
            [
             0.5555555555555556,
             "#d8576b"
            ],
            [
             0.6666666666666666,
             "#ed7953"
            ],
            [
             0.7777777777777778,
             "#fb9f3a"
            ],
            [
             0.8888888888888888,
             "#fdca26"
            ],
            [
             1,
             "#f0f921"
            ]
           ]
          },
          "colorway": [
           "#636efa",
           "#EF553B",
           "#00cc96",
           "#ab63fa",
           "#FFA15A",
           "#19d3f3",
           "#FF6692",
           "#B6E880",
           "#FF97FF",
           "#FECB52"
          ],
          "font": {
           "color": "#2a3f5f"
          },
          "geo": {
           "bgcolor": "white",
           "lakecolor": "white",
           "landcolor": "#E5ECF6",
           "showlakes": true,
           "showland": true,
           "subunitcolor": "white"
          },
          "hoverlabel": {
           "align": "left"
          },
          "hovermode": "closest",
          "mapbox": {
           "style": "light"
          },
          "paper_bgcolor": "white",
          "plot_bgcolor": "#E5ECF6",
          "polar": {
           "angularaxis": {
            "gridcolor": "white",
            "linecolor": "white",
            "ticks": ""
           },
           "bgcolor": "#E5ECF6",
           "radialaxis": {
            "gridcolor": "white",
            "linecolor": "white",
            "ticks": ""
           }
          },
          "scene": {
           "xaxis": {
            "backgroundcolor": "#E5ECF6",
            "gridcolor": "white",
            "gridwidth": 2,
            "linecolor": "white",
            "showbackground": true,
            "ticks": "",
            "zerolinecolor": "white"
           },
           "yaxis": {
            "backgroundcolor": "#E5ECF6",
            "gridcolor": "white",
            "gridwidth": 2,
            "linecolor": "white",
            "showbackground": true,
            "ticks": "",
            "zerolinecolor": "white"
           },
           "zaxis": {
            "backgroundcolor": "#E5ECF6",
            "gridcolor": "white",
            "gridwidth": 2,
            "linecolor": "white",
            "showbackground": true,
            "ticks": "",
            "zerolinecolor": "white"
           }
          },
          "shapedefaults": {
           "line": {
            "color": "#2a3f5f"
           }
          },
          "ternary": {
           "aaxis": {
            "gridcolor": "white",
            "linecolor": "white",
            "ticks": ""
           },
           "baxis": {
            "gridcolor": "white",
            "linecolor": "white",
            "ticks": ""
           },
           "bgcolor": "#E5ECF6",
           "caxis": {
            "gridcolor": "white",
            "linecolor": "white",
            "ticks": ""
           }
          },
          "title": {
           "x": 0.05
          },
          "xaxis": {
           "automargin": true,
           "gridcolor": "white",
           "linecolor": "white",
           "ticks": "",
           "title": {
            "standoff": 15
           },
           "zerolinecolor": "white",
           "zerolinewidth": 2
          },
          "yaxis": {
           "automargin": true,
           "gridcolor": "white",
           "linecolor": "white",
           "ticks": "",
           "title": {
            "standoff": 15
           },
           "zerolinecolor": "white",
           "zerolinewidth": 2
          }
         }
        },
        "title": {
         "font": {
          "size": 30
         },
         "text": "counts in 'target' variable",
         "x": 0.5
        },
        "uniformtext": {
         "minsize": 25
        },
        "width": 1000
       }
      }
     },
     "metadata": {},
     "output_type": "display_data"
    }
   ],
   "source": [
    "#Visualize the percentage of spam and ham in pie chart\n",
    "fig = px.pie(data_frame = data, names = \"target\", hole = 0.4, title = \"counts in 'target' variable\", \n",
    "             width = 1000, height = 500, color_discrete_sequence = px.colors.sequential.Sunset_r)\n",
    "\n",
    "fig.update_traces(textposition = \"inside\", textinfo = \"percent+label\",\n",
    "                  marker = dict(line = dict(width = 1.5, color = \"#410F01\")))\n",
    "\n",
    "fig.update_layout(title_x = 0.5, title_font = dict(size = 30), uniformtext_minsize = 25)\n",
    "\n",
    "fig.show()"
   ]
  },
  {
   "cell_type": "code",
   "execution_count": 11,
   "metadata": {},
   "outputs": [
    {
     "data": {
      "application/vnd.plotly.v1+json": {
       "config": {
        "plotlyServerURL": "https://plot.ly"
       },
       "data": [
        {
         "fill": "tozeroy",
         "marker": {
          "color": "#1f77b4"
         },
         "name": "ham",
         "type": "scatter",
         "x": [
          1,
          2,
          3,
          4,
          5,
          6,
          7,
          8,
          9,
          10,
          11,
          12,
          13,
          14,
          15,
          16,
          17,
          18,
          19,
          20,
          21,
          22,
          23,
          24,
          25,
          26,
          27,
          28,
          29,
          30,
          31,
          32,
          33,
          35,
          36,
          37,
          38,
          39,
          40,
          42,
          44,
          46,
          47,
          52,
          58,
          66,
          70,
          71,
          80,
          83,
          107
         ],
         "y": [
          79,
          267,
          507,
          551,
          498,
          414,
          349,
          265,
          239,
          178,
          149,
          131,
          120,
          125,
          110,
          99,
          75,
          77,
          38,
          55,
          47,
          28,
          21,
          9,
          14,
          11,
          6,
          6,
          3,
          2,
          2,
          4,
          7,
          3,
          2,
          3,
          7,
          2,
          1,
          1,
          1,
          1,
          1,
          1,
          1,
          1,
          1,
          1,
          1,
          1,
          1
         ]
        },
        {
         "fill": "tozeroy",
         "marker": {
          "color": "#7f7f7f"
         },
         "name": "spam",
         "type": "scatter",
         "x": [
          2,
          3,
          4,
          5,
          6,
          7,
          8,
          9,
          10,
          11,
          12,
          13,
          14,
          15,
          16,
          17,
          18,
          19,
          20,
          21,
          22,
          23,
          24,
          25,
          26,
          27,
          28,
          29
         ],
         "y": [
          2,
          1,
          3,
          10,
          14,
          13,
          9,
          10,
          9,
          15,
          20,
          25,
          34,
          39,
          61,
          60,
          61,
          49,
          54,
          51,
          36,
          20,
          17,
          24,
          7,
          7,
          1,
          1
         ]
        }
       ],
       "layout": {
        "template": {
         "data": {
          "bar": [
           {
            "error_x": {
             "color": "#2a3f5f"
            },
            "error_y": {
             "color": "#2a3f5f"
            },
            "marker": {
             "line": {
              "color": "#E5ECF6",
              "width": 0.5
             },
             "pattern": {
              "fillmode": "overlay",
              "size": 10,
              "solidity": 0.2
             }
            },
            "type": "bar"
           }
          ],
          "barpolar": [
           {
            "marker": {
             "line": {
              "color": "#E5ECF6",
              "width": 0.5
             },
             "pattern": {
              "fillmode": "overlay",
              "size": 10,
              "solidity": 0.2
             }
            },
            "type": "barpolar"
           }
          ],
          "carpet": [
           {
            "aaxis": {
             "endlinecolor": "#2a3f5f",
             "gridcolor": "white",
             "linecolor": "white",
             "minorgridcolor": "white",
             "startlinecolor": "#2a3f5f"
            },
            "baxis": {
             "endlinecolor": "#2a3f5f",
             "gridcolor": "white",
             "linecolor": "white",
             "minorgridcolor": "white",
             "startlinecolor": "#2a3f5f"
            },
            "type": "carpet"
           }
          ],
          "choropleth": [
           {
            "colorbar": {
             "outlinewidth": 0,
             "ticks": ""
            },
            "type": "choropleth"
           }
          ],
          "contour": [
           {
            "colorbar": {
             "outlinewidth": 0,
             "ticks": ""
            },
            "colorscale": [
             [
              0,
              "#0d0887"
             ],
             [
              0.1111111111111111,
              "#46039f"
             ],
             [
              0.2222222222222222,
              "#7201a8"
             ],
             [
              0.3333333333333333,
              "#9c179e"
             ],
             [
              0.4444444444444444,
              "#bd3786"
             ],
             [
              0.5555555555555556,
              "#d8576b"
             ],
             [
              0.6666666666666666,
              "#ed7953"
             ],
             [
              0.7777777777777778,
              "#fb9f3a"
             ],
             [
              0.8888888888888888,
              "#fdca26"
             ],
             [
              1,
              "#f0f921"
             ]
            ],
            "type": "contour"
           }
          ],
          "contourcarpet": [
           {
            "colorbar": {
             "outlinewidth": 0,
             "ticks": ""
            },
            "type": "contourcarpet"
           }
          ],
          "heatmap": [
           {
            "colorbar": {
             "outlinewidth": 0,
             "ticks": ""
            },
            "colorscale": [
             [
              0,
              "#0d0887"
             ],
             [
              0.1111111111111111,
              "#46039f"
             ],
             [
              0.2222222222222222,
              "#7201a8"
             ],
             [
              0.3333333333333333,
              "#9c179e"
             ],
             [
              0.4444444444444444,
              "#bd3786"
             ],
             [
              0.5555555555555556,
              "#d8576b"
             ],
             [
              0.6666666666666666,
              "#ed7953"
             ],
             [
              0.7777777777777778,
              "#fb9f3a"
             ],
             [
              0.8888888888888888,
              "#fdca26"
             ],
             [
              1,
              "#f0f921"
             ]
            ],
            "type": "heatmap"
           }
          ],
          "heatmapgl": [
           {
            "colorbar": {
             "outlinewidth": 0,
             "ticks": ""
            },
            "colorscale": [
             [
              0,
              "#0d0887"
             ],
             [
              0.1111111111111111,
              "#46039f"
             ],
             [
              0.2222222222222222,
              "#7201a8"
             ],
             [
              0.3333333333333333,
              "#9c179e"
             ],
             [
              0.4444444444444444,
              "#bd3786"
             ],
             [
              0.5555555555555556,
              "#d8576b"
             ],
             [
              0.6666666666666666,
              "#ed7953"
             ],
             [
              0.7777777777777778,
              "#fb9f3a"
             ],
             [
              0.8888888888888888,
              "#fdca26"
             ],
             [
              1,
              "#f0f921"
             ]
            ],
            "type": "heatmapgl"
           }
          ],
          "histogram": [
           {
            "marker": {
             "pattern": {
              "fillmode": "overlay",
              "size": 10,
              "solidity": 0.2
             }
            },
            "type": "histogram"
           }
          ],
          "histogram2d": [
           {
            "colorbar": {
             "outlinewidth": 0,
             "ticks": ""
            },
            "colorscale": [
             [
              0,
              "#0d0887"
             ],
             [
              0.1111111111111111,
              "#46039f"
             ],
             [
              0.2222222222222222,
              "#7201a8"
             ],
             [
              0.3333333333333333,
              "#9c179e"
             ],
             [
              0.4444444444444444,
              "#bd3786"
             ],
             [
              0.5555555555555556,
              "#d8576b"
             ],
             [
              0.6666666666666666,
              "#ed7953"
             ],
             [
              0.7777777777777778,
              "#fb9f3a"
             ],
             [
              0.8888888888888888,
              "#fdca26"
             ],
             [
              1,
              "#f0f921"
             ]
            ],
            "type": "histogram2d"
           }
          ],
          "histogram2dcontour": [
           {
            "colorbar": {
             "outlinewidth": 0,
             "ticks": ""
            },
            "colorscale": [
             [
              0,
              "#0d0887"
             ],
             [
              0.1111111111111111,
              "#46039f"
             ],
             [
              0.2222222222222222,
              "#7201a8"
             ],
             [
              0.3333333333333333,
              "#9c179e"
             ],
             [
              0.4444444444444444,
              "#bd3786"
             ],
             [
              0.5555555555555556,
              "#d8576b"
             ],
             [
              0.6666666666666666,
              "#ed7953"
             ],
             [
              0.7777777777777778,
              "#fb9f3a"
             ],
             [
              0.8888888888888888,
              "#fdca26"
             ],
             [
              1,
              "#f0f921"
             ]
            ],
            "type": "histogram2dcontour"
           }
          ],
          "mesh3d": [
           {
            "colorbar": {
             "outlinewidth": 0,
             "ticks": ""
            },
            "type": "mesh3d"
           }
          ],
          "parcoords": [
           {
            "line": {
             "colorbar": {
              "outlinewidth": 0,
              "ticks": ""
             }
            },
            "type": "parcoords"
           }
          ],
          "pie": [
           {
            "automargin": true,
            "type": "pie"
           }
          ],
          "scatter": [
           {
            "fillpattern": {
             "fillmode": "overlay",
             "size": 10,
             "solidity": 0.2
            },
            "type": "scatter"
           }
          ],
          "scatter3d": [
           {
            "line": {
             "colorbar": {
              "outlinewidth": 0,
              "ticks": ""
             }
            },
            "marker": {
             "colorbar": {
              "outlinewidth": 0,
              "ticks": ""
             }
            },
            "type": "scatter3d"
           }
          ],
          "scattercarpet": [
           {
            "marker": {
             "colorbar": {
              "outlinewidth": 0,
              "ticks": ""
             }
            },
            "type": "scattercarpet"
           }
          ],
          "scattergeo": [
           {
            "marker": {
             "colorbar": {
              "outlinewidth": 0,
              "ticks": ""
             }
            },
            "type": "scattergeo"
           }
          ],
          "scattergl": [
           {
            "marker": {
             "colorbar": {
              "outlinewidth": 0,
              "ticks": ""
             }
            },
            "type": "scattergl"
           }
          ],
          "scattermapbox": [
           {
            "marker": {
             "colorbar": {
              "outlinewidth": 0,
              "ticks": ""
             }
            },
            "type": "scattermapbox"
           }
          ],
          "scatterpolar": [
           {
            "marker": {
             "colorbar": {
              "outlinewidth": 0,
              "ticks": ""
             }
            },
            "type": "scatterpolar"
           }
          ],
          "scatterpolargl": [
           {
            "marker": {
             "colorbar": {
              "outlinewidth": 0,
              "ticks": ""
             }
            },
            "type": "scatterpolargl"
           }
          ],
          "scatterternary": [
           {
            "marker": {
             "colorbar": {
              "outlinewidth": 0,
              "ticks": ""
             }
            },
            "type": "scatterternary"
           }
          ],
          "surface": [
           {
            "colorbar": {
             "outlinewidth": 0,
             "ticks": ""
            },
            "colorscale": [
             [
              0,
              "#0d0887"
             ],
             [
              0.1111111111111111,
              "#46039f"
             ],
             [
              0.2222222222222222,
              "#7201a8"
             ],
             [
              0.3333333333333333,
              "#9c179e"
             ],
             [
              0.4444444444444444,
              "#bd3786"
             ],
             [
              0.5555555555555556,
              "#d8576b"
             ],
             [
              0.6666666666666666,
              "#ed7953"
             ],
             [
              0.7777777777777778,
              "#fb9f3a"
             ],
             [
              0.8888888888888888,
              "#fdca26"
             ],
             [
              1,
              "#f0f921"
             ]
            ],
            "type": "surface"
           }
          ],
          "table": [
           {
            "cells": {
             "fill": {
              "color": "#EBF0F8"
             },
             "line": {
              "color": "white"
             }
            },
            "header": {
             "fill": {
              "color": "#C8D4E3"
             },
             "line": {
              "color": "white"
             }
            },
            "type": "table"
           }
          ]
         },
         "layout": {
          "annotationdefaults": {
           "arrowcolor": "#2a3f5f",
           "arrowhead": 0,
           "arrowwidth": 1
          },
          "autotypenumbers": "strict",
          "coloraxis": {
           "colorbar": {
            "outlinewidth": 0,
            "ticks": ""
           }
          },
          "colorscale": {
           "diverging": [
            [
             0,
             "#8e0152"
            ],
            [
             0.1,
             "#c51b7d"
            ],
            [
             0.2,
             "#de77ae"
            ],
            [
             0.3,
             "#f1b6da"
            ],
            [
             0.4,
             "#fde0ef"
            ],
            [
             0.5,
             "#f7f7f7"
            ],
            [
             0.6,
             "#e6f5d0"
            ],
            [
             0.7,
             "#b8e186"
            ],
            [
             0.8,
             "#7fbc41"
            ],
            [
             0.9,
             "#4d9221"
            ],
            [
             1,
             "#276419"
            ]
           ],
           "sequential": [
            [
             0,
             "#0d0887"
            ],
            [
             0.1111111111111111,
             "#46039f"
            ],
            [
             0.2222222222222222,
             "#7201a8"
            ],
            [
             0.3333333333333333,
             "#9c179e"
            ],
            [
             0.4444444444444444,
             "#bd3786"
            ],
            [
             0.5555555555555556,
             "#d8576b"
            ],
            [
             0.6666666666666666,
             "#ed7953"
            ],
            [
             0.7777777777777778,
             "#fb9f3a"
            ],
            [
             0.8888888888888888,
             "#fdca26"
            ],
            [
             1,
             "#f0f921"
            ]
           ],
           "sequentialminus": [
            [
             0,
             "#0d0887"
            ],
            [
             0.1111111111111111,
             "#46039f"
            ],
            [
             0.2222222222222222,
             "#7201a8"
            ],
            [
             0.3333333333333333,
             "#9c179e"
            ],
            [
             0.4444444444444444,
             "#bd3786"
            ],
            [
             0.5555555555555556,
             "#d8576b"
            ],
            [
             0.6666666666666666,
             "#ed7953"
            ],
            [
             0.7777777777777778,
             "#fb9f3a"
            ],
            [
             0.8888888888888888,
             "#fdca26"
            ],
            [
             1,
             "#f0f921"
            ]
           ]
          },
          "colorway": [
           "#636efa",
           "#EF553B",
           "#00cc96",
           "#ab63fa",
           "#FFA15A",
           "#19d3f3",
           "#FF6692",
           "#B6E880",
           "#FF97FF",
           "#FECB52"
          ],
          "font": {
           "color": "#2a3f5f"
          },
          "geo": {
           "bgcolor": "white",
           "lakecolor": "white",
           "landcolor": "#E5ECF6",
           "showlakes": true,
           "showland": true,
           "subunitcolor": "white"
          },
          "hoverlabel": {
           "align": "left"
          },
          "hovermode": "closest",
          "mapbox": {
           "style": "light"
          },
          "paper_bgcolor": "white",
          "plot_bgcolor": "#E5ECF6",
          "polar": {
           "angularaxis": {
            "gridcolor": "white",
            "linecolor": "white",
            "ticks": ""
           },
           "bgcolor": "#E5ECF6",
           "radialaxis": {
            "gridcolor": "white",
            "linecolor": "white",
            "ticks": ""
           }
          },
          "scene": {
           "xaxis": {
            "backgroundcolor": "#E5ECF6",
            "gridcolor": "white",
            "gridwidth": 2,
            "linecolor": "white",
            "showbackground": true,
            "ticks": "",
            "zerolinecolor": "white"
           },
           "yaxis": {
            "backgroundcolor": "#E5ECF6",
            "gridcolor": "white",
            "gridwidth": 2,
            "linecolor": "white",
            "showbackground": true,
            "ticks": "",
            "zerolinecolor": "white"
           },
           "zaxis": {
            "backgroundcolor": "#E5ECF6",
            "gridcolor": "white",
            "gridwidth": 2,
            "linecolor": "white",
            "showbackground": true,
            "ticks": "",
            "zerolinecolor": "white"
           }
          },
          "shapedefaults": {
           "line": {
            "color": "#2a3f5f"
           }
          },
          "ternary": {
           "aaxis": {
            "gridcolor": "white",
            "linecolor": "white",
            "ticks": ""
           },
           "baxis": {
            "gridcolor": "white",
            "linecolor": "white",
            "ticks": ""
           },
           "bgcolor": "#E5ECF6",
           "caxis": {
            "gridcolor": "white",
            "linecolor": "white",
            "ticks": ""
           }
          },
          "title": {
           "x": 0.05
          },
          "xaxis": {
           "automargin": true,
           "gridcolor": "white",
           "linecolor": "white",
           "ticks": "",
           "title": {
            "standoff": 15
           },
           "zerolinecolor": "white",
           "zerolinewidth": 2
          },
          "yaxis": {
           "automargin": true,
           "gridcolor": "white",
           "linecolor": "white",
           "ticks": "",
           "title": {
            "standoff": 15
           },
           "zerolinecolor": "white",
           "zerolinewidth": 2
          }
         }
        },
        "title": {
         "text": "<span style=\"font-size:32px; font-family:Times New Roman\">Message Length Distribution for Ham and Spam Categories</span>"
        },
        "xaxis": {
         "range": [
          0,
          70
         ]
        }
       }
      }
     },
     "metadata": {},
     "output_type": "display_data"
    }
   ],
   "source": [
    "#Visualize the length of ham and spam (ham message shows shorter message length)\n",
    "ham_df = data[data['target'] == 'ham']['message_len'].value_counts().sort_index()\n",
    "spam_df = data[data['target'] == 'spam']['message_len'].value_counts().sort_index()\n",
    "\n",
    "fig = go.Figure()\n",
    "fig.add_trace(go.Scatter(\n",
    "    x=ham_df.index,\n",
    "    y=ham_df.values,\n",
    "    name='ham',\n",
    "    fill='tozeroy',\n",
    "    marker_color=primary_blue,\n",
    "))\n",
    "fig.add_trace(go.Scatter(\n",
    "    x=spam_df.index,\n",
    "    y=spam_df.values,\n",
    "    name='spam',\n",
    "    fill='tozeroy',\n",
    "    marker_color=primary_grey,\n",
    "))\n",
    "fig.update_layout(\n",
    "    title='<span style=\"font-size:32px; font-family:Times New Roman\">Message Length Distribution for Ham and Spam Categories</span>'\n",
    ")\n",
    "fig.update_xaxes(range=[0, 70])\n",
    "fig.show()"
   ]
  },
  {
   "cell_type": "markdown",
   "metadata": {},
   "source": [
    "Tokenization"
   ]
  },
  {
   "cell_type": "code",
   "execution_count": 12,
   "metadata": {},
   "outputs": [
    {
     "data": {
      "image/png": "[encoded data removed]",
      "text/plain": [
       "<Figure size 1500x700 with 1 Axes>"
      ]
     },
     "metadata": {},
     "output_type": "display_data"
    }
   ],
   "source": [
    "#TOP WORDS FOR HAM MESSAGES\n",
    "# Load the image file\n",
    "masking = PIL.Image.open('C:/Users/Janice/Downloads/AI_MaskForWordCloud.png', 'r')\n",
    "masking = masking.convert(\"RGB\")  # Ensure it's in RGB\n",
    "\n",
    "# Convert the PIL Image to a NumPy array\n",
    "mask_array = np.array(masking)\n",
    "\n",
    "# Now create the WordCloud object with the NumPy array as the mask\n",
    "wc = WordCloud(\n",
    "    background_color='white',\n",
    "    max_words=200,\n",
    "    mask=mask_array,  # Use the NumPy array here\n",
    ")\n",
    "\n",
    "# Assuming 'data' and 'message_clean' are defined as DataFrame and column\n",
    "wc.generate(' '.join(text for text in data.loc[data['target'] == 'ham', 'message_clean']))\n",
    "\n",
    "# Display the generated word cloud\n",
    "plt.figure(figsize=(15,7))\n",
    "plt.title('Top words for HAM messages', fontdict={'size': 22,  'verticalalignment': 'bottom'})\n",
    "plt.imshow(wc, interpolation='bilinear')\n",
    "plt.axis('off')\n",
    "plt.show()"
   ]
  },
  {
   "cell_type": "code",
   "execution_count": 13,
   "metadata": {},
   "outputs": [
    {
     "data": {
      "application/vnd.plotly.v1+json": {
       "config": {
        "plotlyServerURL": "https://plot.ly"
       },
       "data": [
        {
         "marker": {
          "color": "#1f77b4"
         },
         "text": [
          295,
          254,
          246,
          242,
          239,
          225,
          221,
          219,
          208,
          205,
          205,
          197,
          184,
          181,
          170,
          168,
          162,
          159,
          157,
          155
         ],
         "textposition": "auto",
         "type": "bar",
         "x": [
          "get",
          "ltgt",
          "ok",
          "dont",
          "go",
          "got",
          "know",
          "like",
          "come",
          "ill",
          "good",
          "ur",
          "call",
          "time",
          "day",
          "love",
          "going",
          "want",
          "lor",
          "one"
         ],
         "y": [
          295,
          254,
          246,
          242,
          239,
          225,
          221,
          219,
          208,
          205,
          205,
          197,
          184,
          181,
          170,
          168,
          162,
          159,
          157,
          155
         ]
        }
       ],
       "layout": {
        "template": {
         "data": {
          "bar": [
           {
            "error_x": {
             "color": "#2a3f5f"
            },
            "error_y": {
             "color": "#2a3f5f"
            },
            "marker": {
             "line": {
              "color": "#E5ECF6",
              "width": 0.5
             },
             "pattern": {
              "fillmode": "overlay",
              "size": 10,
              "solidity": 0.2
             }
            },
            "type": "bar"
           }
          ],
          "barpolar": [
           {
            "marker": {
             "line": {
              "color": "#E5ECF6",
              "width": 0.5
             },
             "pattern": {
              "fillmode": "overlay",
              "size": 10,
              "solidity": 0.2
             }
            },
            "type": "barpolar"
           }
          ],
          "carpet": [
           {
            "aaxis": {
             "endlinecolor": "#2a3f5f",
             "gridcolor": "white",
             "linecolor": "white",
             "minorgridcolor": "white",
             "startlinecolor": "#2a3f5f"
            },
            "baxis": {
             "endlinecolor": "#2a3f5f",
             "gridcolor": "white",
             "linecolor": "white",
             "minorgridcolor": "white",
             "startlinecolor": "#2a3f5f"
            },
            "type": "carpet"
           }
          ],
          "choropleth": [
           {
            "colorbar": {
             "outlinewidth": 0,
             "ticks": ""
            },
            "type": "choropleth"
           }
          ],
          "contour": [
           {
            "colorbar": {
             "outlinewidth": 0,
             "ticks": ""
            },
            "colorscale": [
             [
              0,
              "#0d0887"
             ],
             [
              0.1111111111111111,
              "#46039f"
             ],
             [
              0.2222222222222222,
              "#7201a8"
             ],
             [
              0.3333333333333333,
              "#9c179e"
             ],
             [
              0.4444444444444444,
              "#bd3786"
             ],
             [
              0.5555555555555556,
              "#d8576b"
             ],
             [
              0.6666666666666666,
              "#ed7953"
             ],
             [
              0.7777777777777778,
              "#fb9f3a"
             ],
             [
              0.8888888888888888,
              "#fdca26"
             ],
             [
              1,
              "#f0f921"
             ]
            ],
            "type": "contour"
           }
          ],
          "contourcarpet": [
           {
            "colorbar": {
             "outlinewidth": 0,
             "ticks": ""
            },
            "type": "contourcarpet"
           }
          ],
          "heatmap": [
           {
            "colorbar": {
             "outlinewidth": 0,
             "ticks": ""
            },
            "colorscale": [
             [
              0,
              "#0d0887"
             ],
             [
              0.1111111111111111,
              "#46039f"
             ],
             [
              0.2222222222222222,
              "#7201a8"
             ],
             [
              0.3333333333333333,
              "#9c179e"
             ],
             [
              0.4444444444444444,
              "#bd3786"
             ],
             [
              0.5555555555555556,
              "#d8576b"
             ],
             [
              0.6666666666666666,
              "#ed7953"
             ],
             [
              0.7777777777777778,
              "#fb9f3a"
             ],
             [
              0.8888888888888888,
              "#fdca26"
             ],
             [
              1,
              "#f0f921"
             ]
            ],
            "type": "heatmap"
           }
          ],
          "heatmapgl": [
           {
            "colorbar": {
             "outlinewidth": 0,
             "ticks": ""
            },
            "colorscale": [
             [
              0,
              "#0d0887"
             ],
             [
              0.1111111111111111,
              "#46039f"
             ],
             [
              0.2222222222222222,
              "#7201a8"
             ],
             [
              0.3333333333333333,
              "#9c179e"
             ],
             [
              0.4444444444444444,
              "#bd3786"
             ],
             [
              0.5555555555555556,
              "#d8576b"
             ],
             [
              0.6666666666666666,
              "#ed7953"
             ],
             [
              0.7777777777777778,
              "#fb9f3a"
             ],
             [
              0.8888888888888888,
              "#fdca26"
             ],
             [
              1,
              "#f0f921"
             ]
            ],
            "type": "heatmapgl"
           }
          ],
          "histogram": [
           {
            "marker": {
             "pattern": {
              "fillmode": "overlay",
              "size": 10,
              "solidity": 0.2
             }
            },
            "type": "histogram"
           }
          ],
          "histogram2d": [
           {
            "colorbar": {
             "outlinewidth": 0,
             "ticks": ""
            },
            "colorscale": [
             [
              0,
              "#0d0887"
             ],
             [
              0.1111111111111111,
              "#46039f"
             ],
             [
              0.2222222222222222,
              "#7201a8"
             ],
             [
              0.3333333333333333,
              "#9c179e"
             ],
             [
              0.4444444444444444,
              "#bd3786"
             ],
             [
              0.5555555555555556,
              "#d8576b"
             ],
             [
              0.6666666666666666,
              "#ed7953"
             ],
             [
              0.7777777777777778,
              "#fb9f3a"
             ],
             [
              0.8888888888888888,
              "#fdca26"
             ],
             [
              1,
              "#f0f921"
             ]
            ],
            "type": "histogram2d"
           }
          ],
          "histogram2dcontour": [
           {
            "colorbar": {
             "outlinewidth": 0,
             "ticks": ""
            },
            "colorscale": [
             [
              0,
              "#0d0887"
             ],
             [
              0.1111111111111111,
              "#46039f"
             ],
             [
              0.2222222222222222,
              "#7201a8"
             ],
             [
              0.3333333333333333,
              "#9c179e"
             ],
             [
              0.4444444444444444,
              "#bd3786"
             ],
             [
              0.5555555555555556,
              "#d8576b"
             ],
             [
              0.6666666666666666,
              "#ed7953"
             ],
             [
              0.7777777777777778,
              "#fb9f3a"
             ],
             [
              0.8888888888888888,
              "#fdca26"
             ],
             [
              1,
              "#f0f921"
             ]
            ],
            "type": "histogram2dcontour"
           }
          ],
          "mesh3d": [
           {
            "colorbar": {
             "outlinewidth": 0,
             "ticks": ""
            },
            "type": "mesh3d"
           }
          ],
          "parcoords": [
           {
            "line": {
             "colorbar": {
              "outlinewidth": 0,
              "ticks": ""
             }
            },
            "type": "parcoords"
           }
          ],
          "pie": [
           {
            "automargin": true,
            "type": "pie"
           }
          ],
          "scatter": [
           {
            "fillpattern": {
             "fillmode": "overlay",
             "size": 10,
             "solidity": 0.2
            },
            "type": "scatter"
           }
          ],
          "scatter3d": [
           {
            "line": {
             "colorbar": {
              "outlinewidth": 0,
              "ticks": ""
             }
            },
            "marker": {
             "colorbar": {
              "outlinewidth": 0,
              "ticks": ""
             }
            },
            "type": "scatter3d"
           }
          ],
          "scattercarpet": [
           {
            "marker": {
             "colorbar": {
              "outlinewidth": 0,
              "ticks": ""
             }
            },
            "type": "scattercarpet"
           }
          ],
          "scattergeo": [
           {
            "marker": {
             "colorbar": {
              "outlinewidth": 0,
              "ticks": ""
             }
            },
            "type": "scattergeo"
           }
          ],
          "scattergl": [
           {
            "marker": {
             "colorbar": {
              "outlinewidth": 0,
              "ticks": ""
             }
            },
            "type": "scattergl"
           }
          ],
          "scattermapbox": [
           {
            "marker": {
             "colorbar": {
              "outlinewidth": 0,
              "ticks": ""
             }
            },
            "type": "scattermapbox"
           }
          ],
          "scatterpolar": [
           {
            "marker": {
             "colorbar": {
              "outlinewidth": 0,
              "ticks": ""
             }
            },
            "type": "scatterpolar"
           }
          ],
          "scatterpolargl": [
           {
            "marker": {
             "colorbar": {
              "outlinewidth": 0,
              "ticks": ""
             }
            },
            "type": "scatterpolargl"
           }
          ],
          "scatterternary": [
           {
            "marker": {
             "colorbar": {
              "outlinewidth": 0,
              "ticks": ""
             }
            },
            "type": "scatterternary"
           }
          ],
          "surface": [
           {
            "colorbar": {
             "outlinewidth": 0,
             "ticks": ""
            },
            "colorscale": [
             [
              0,
              "#0d0887"
             ],
             [
              0.1111111111111111,
              "#46039f"
             ],
             [
              0.2222222222222222,
              "#7201a8"
             ],
             [
              0.3333333333333333,
              "#9c179e"
             ],
             [
              0.4444444444444444,
              "#bd3786"
             ],
             [
              0.5555555555555556,
              "#d8576b"
             ],
             [
              0.6666666666666666,
              "#ed7953"
             ],
             [
              0.7777777777777778,
              "#fb9f3a"
             ],
             [
              0.8888888888888888,
              "#fdca26"
             ],
             [
              1,
              "#f0f921"
             ]
            ],
            "type": "surface"
           }
          ],
          "table": [
           {
            "cells": {
             "fill": {
              "color": "#EBF0F8"
             },
             "line": {
              "color": "white"
             }
            },
            "header": {
             "fill": {
              "color": "#C8D4E3"
             },
             "line": {
              "color": "white"
             }
            },
            "type": "table"
           }
          ]
         },
         "layout": {
          "annotationdefaults": {
           "arrowcolor": "#2a3f5f",
           "arrowhead": 0,
           "arrowwidth": 1
          },
          "autotypenumbers": "strict",
          "coloraxis": {
           "colorbar": {
            "outlinewidth": 0,
            "ticks": ""
           }
          },
          "colorscale": {
           "diverging": [
            [
             0,
             "#8e0152"
            ],
            [
             0.1,
             "#c51b7d"
            ],
            [
             0.2,
             "#de77ae"
            ],
            [
             0.3,
             "#f1b6da"
            ],
            [
             0.4,
             "#fde0ef"
            ],
            [
             0.5,
             "#f7f7f7"
            ],
            [
             0.6,
             "#e6f5d0"
            ],
            [
             0.7,
             "#b8e186"
            ],
            [
             0.8,
             "#7fbc41"
            ],
            [
             0.9,
             "#4d9221"
            ],
            [
             1,
             "#276419"
            ]
           ],
           "sequential": [
            [
             0,
             "#0d0887"
            ],
            [
             0.1111111111111111,
             "#46039f"
            ],
            [
             0.2222222222222222,
             "#7201a8"
            ],
            [
             0.3333333333333333,
             "#9c179e"
            ],
            [
             0.4444444444444444,
             "#bd3786"
            ],
            [
             0.5555555555555556,
             "#d8576b"
            ],
            [
             0.6666666666666666,
             "#ed7953"
            ],
            [
             0.7777777777777778,
             "#fb9f3a"
            ],
            [
             0.8888888888888888,
             "#fdca26"
            ],
            [
             1,
             "#f0f921"
            ]
           ],
           "sequentialminus": [
            [
             0,
             "#0d0887"
            ],
            [
             0.1111111111111111,
             "#46039f"
            ],
            [
             0.2222222222222222,
             "#7201a8"
            ],
            [
             0.3333333333333333,
             "#9c179e"
            ],
            [
             0.4444444444444444,
             "#bd3786"
            ],
            [
             0.5555555555555556,
             "#d8576b"
            ],
            [
             0.6666666666666666,
             "#ed7953"
            ],
            [
             0.7777777777777778,
             "#fb9f3a"
            ],
            [
             0.8888888888888888,
             "#fdca26"
            ],
            [
             1,
             "#f0f921"
            ]
           ]
          },
          "colorway": [
           "#636efa",
           "#EF553B",
           "#00cc96",
           "#ab63fa",
           "#FFA15A",
           "#19d3f3",
           "#FF6692",
           "#B6E880",
           "#FF97FF",
           "#FECB52"
          ],
          "font": {
           "color": "#2a3f5f"
          },
          "geo": {
           "bgcolor": "white",
           "lakecolor": "white",
           "landcolor": "#E5ECF6",
           "showlakes": true,
           "showland": true,
           "subunitcolor": "white"
          },
          "hoverlabel": {
           "align": "left"
          },
          "hovermode": "closest",
          "mapbox": {
           "style": "light"
          },
          "paper_bgcolor": "white",
          "plot_bgcolor": "#E5ECF6",
          "polar": {
           "angularaxis": {
            "gridcolor": "white",
            "linecolor": "white",
            "ticks": ""
           },
           "bgcolor": "#E5ECF6",
           "radialaxis": {
            "gridcolor": "white",
            "linecolor": "white",
            "ticks": ""
           }
          },
          "scene": {
           "xaxis": {
            "backgroundcolor": "#E5ECF6",
            "gridcolor": "white",
            "gridwidth": 2,
            "linecolor": "white",
            "showbackground": true,
            "ticks": "",
            "zerolinecolor": "white"
           },
           "yaxis": {
            "backgroundcolor": "#E5ECF6",
            "gridcolor": "white",
            "gridwidth": 2,
            "linecolor": "white",
            "showbackground": true,
            "ticks": "",
            "zerolinecolor": "white"
           },
           "zaxis": {
            "backgroundcolor": "#E5ECF6",
            "gridcolor": "white",
            "gridwidth": 2,
            "linecolor": "white",
            "showbackground": true,
            "ticks": "",
            "zerolinecolor": "white"
           }
          },
          "shapedefaults": {
           "line": {
            "color": "#2a3f5f"
           }
          },
          "ternary": {
           "aaxis": {
            "gridcolor": "white",
            "linecolor": "white",
            "ticks": ""
           },
           "baxis": {
            "gridcolor": "white",
            "linecolor": "white",
            "ticks": ""
           },
           "bgcolor": "#E5ECF6",
           "caxis": {
            "gridcolor": "white",
            "linecolor": "white",
            "ticks": ""
           }
          },
          "title": {
           "x": 0.05
          },
          "xaxis": {
           "automargin": true,
           "gridcolor": "white",
           "linecolor": "white",
           "ticks": "",
           "title": {
            "standoff": 15
           },
           "zerolinecolor": "white",
           "zerolinewidth": 2
          },
          "yaxis": {
           "automargin": true,
           "gridcolor": "white",
           "linecolor": "white",
           "ticks": "",
           "title": {
            "standoff": 15
           },
           "zerolinecolor": "white",
           "zerolinewidth": 2
          }
         }
        },
        "title": {
         "text": "<span style=\"font-size:22px; font-family:Times New Roman\">More Frequent Words in Ham Messages</span>"
        },
        "xaxis": {
         "categoryorder": "total descending",
         "title": {
          "text": "Words"
         }
        },
        "yaxis": {
         "title": {
          "text": "Number"
         }
        }
       }
      }
     },
     "metadata": {},
     "output_type": "display_data"
    }
   ],
   "source": [
    "# Assuming 'data' is your DataFrame and 'message_clean' is the column with text data\n",
    "# Count the most common words in non-spam messages\n",
    "count1 = Counter(\" \".join(data[data['target']=='ham'][\"message_clean\"]).split()).most_common(20)\n",
    "df1 = pd.DataFrame(count1, columns=[\"words in non-spam\", \"count\"])\n",
    "\n",
    "# Visualize in bar chart using Plotly\n",
    "fig = go.Figure()\n",
    "fig.add_trace(go.Bar(\n",
    "    x=df1[\"words in non-spam\"],\n",
    "    y=df1[\"count\"],\n",
    "    text=df1[\"count\"],\n",
    "    textposition='auto',\n",
    "    marker_color='#1f77b4'  # primary blue color\n",
    "))\n",
    "\n",
    "# Update layout for better visualization\n",
    "fig.update_layout(\n",
    "    title='<span style=\"font-size:22px; font-family:Times New Roman\">More Frequent Words in Ham Messages</span>',\n",
    "    xaxis_title=\"Words\",\n",
    "    yaxis_title=\"Number\",\n",
    "    xaxis={'categoryorder':'total descending'}  # this line orders the bars based on count\n",
    ")\n",
    "fig.show()"
   ]
  },
  {
   "cell_type": "code",
   "execution_count": 14,
   "metadata": {},
   "outputs": [
    {
     "data": {
      "image/png": "[encoded data removed]",
      "text/plain": [
       "<Figure size 1500x700 with 1 Axes>"
      ]
     },
     "metadata": {},
     "output_type": "display_data"
    }
   ],
   "source": [
    "# TOP WORDS FOR SPAM MESSAGES\n",
    "# Assuming 'data' and 'message_clean' are defined as DataFrame and column\n",
    "wc.generate(' '.join(text for text in data.loc[data['target'] == 'spam', 'message_clean']))\n",
    "\n",
    "# Display the generated word cloud\n",
    "plt.figure(figsize=(15,7))\n",
    "plt.title('Top words for SPAM messages', fontdict={'size': 22,  'verticalalignment': 'bottom'})\n",
    "plt.imshow(wc, interpolation='bilinear')\n",
    "plt.axis('off')\n",
    "plt.show()"
   ]
  },
  {
   "cell_type": "code",
   "execution_count": 15,
   "metadata": {},
   "outputs": [
    {
     "data": {
      "application/vnd.plotly.v1+json": {
       "config": {
        "plotlyServerURL": "https://plot.ly"
       },
       "data": [
        {
         "marker": {
          "color": "#7f7f7f"
         },
         "text": [
          303,
          189,
          126,
          119,
          105,
          103,
          103,
          96,
          93,
          81,
          69,
          64,
          58,
          57,
          54,
          51,
          51,
          48,
          48,
          47
         ],
         "textposition": "auto",
         "type": "bar",
         "x": [
          "call",
          "free",
          "txt",
          "ur",
          "mobile",
          "text",
          "stop",
          "claim",
          "reply",
          "prize",
          "get",
          "new",
          "urgent",
          "send",
          "nokia",
          "cash",
          "contact",
          "please",
          "service",
          "win"
         ],
         "y": [
          303,
          189,
          126,
          119,
          105,
          103,
          103,
          96,
          93,
          81,
          69,
          64,
          58,
          57,
          54,
          51,
          51,
          48,
          48,
          47
         ]
        }
       ],
       "layout": {
        "template": {
         "data": {
          "bar": [
           {
            "error_x": {
             "color": "#2a3f5f"
            },
            "error_y": {
             "color": "#2a3f5f"
            },
            "marker": {
             "line": {
              "color": "#E5ECF6",
              "width": 0.5
             },
             "pattern": {
              "fillmode": "overlay",
              "size": 10,
              "solidity": 0.2
             }
            },
            "type": "bar"
           }
          ],
          "barpolar": [
           {
            "marker": {
             "line": {
              "color": "#E5ECF6",
              "width": 0.5
             },
             "pattern": {
              "fillmode": "overlay",
              "size": 10,
              "solidity": 0.2
             }
            },
            "type": "barpolar"
           }
          ],
          "carpet": [
           {
            "aaxis": {
             "endlinecolor": "#2a3f5f",
             "gridcolor": "white",
             "linecolor": "white",
             "minorgridcolor": "white",
             "startlinecolor": "#2a3f5f"
            },
            "baxis": {
             "endlinecolor": "#2a3f5f",
             "gridcolor": "white",
             "linecolor": "white",
             "minorgridcolor": "white",
             "startlinecolor": "#2a3f5f"
            },
            "type": "carpet"
           }
          ],
          "choropleth": [
           {
            "colorbar": {
             "outlinewidth": 0,
             "ticks": ""
            },
            "type": "choropleth"
           }
          ],
          "contour": [
           {
            "colorbar": {
             "outlinewidth": 0,
             "ticks": ""
            },
            "colorscale": [
             [
              0,
              "#0d0887"
             ],
             [
              0.1111111111111111,
              "#46039f"
             ],
             [
              0.2222222222222222,
              "#7201a8"
             ],
             [
              0.3333333333333333,
              "#9c179e"
             ],
             [
              0.4444444444444444,
              "#bd3786"
             ],
             [
              0.5555555555555556,
              "#d8576b"
             ],
             [
              0.6666666666666666,
              "#ed7953"
             ],
             [
              0.7777777777777778,
              "#fb9f3a"
             ],
             [
              0.8888888888888888,
              "#fdca26"
             ],
             [
              1,
              "#f0f921"
             ]
            ],
            "type": "contour"
           }
          ],
          "contourcarpet": [
           {
            "colorbar": {
             "outlinewidth": 0,
             "ticks": ""
            },
            "type": "contourcarpet"
           }
          ],
          "heatmap": [
           {
            "colorbar": {
             "outlinewidth": 0,
             "ticks": ""
            },
            "colorscale": [
             [
              0,
              "#0d0887"
             ],
             [
              0.1111111111111111,
              "#46039f"
             ],
             [
              0.2222222222222222,
              "#7201a8"
             ],
             [
              0.3333333333333333,
              "#9c179e"
             ],
             [
              0.4444444444444444,
              "#bd3786"
             ],
             [
              0.5555555555555556,
              "#d8576b"
             ],
             [
              0.6666666666666666,
              "#ed7953"
             ],
             [
              0.7777777777777778,
              "#fb9f3a"
             ],
             [
              0.8888888888888888,
              "#fdca26"
             ],
             [
              1,
              "#f0f921"
             ]
            ],
            "type": "heatmap"
           }
          ],
          "heatmapgl": [
           {
            "colorbar": {
             "outlinewidth": 0,
             "ticks": ""
            },
            "colorscale": [
             [
              0,
              "#0d0887"
             ],
             [
              0.1111111111111111,
              "#46039f"
             ],
             [
              0.2222222222222222,
              "#7201a8"
             ],
             [
              0.3333333333333333,
              "#9c179e"
             ],
             [
              0.4444444444444444,
              "#bd3786"
             ],
             [
              0.5555555555555556,
              "#d8576b"
             ],
             [
              0.6666666666666666,
              "#ed7953"
             ],
             [
              0.7777777777777778,
              "#fb9f3a"
             ],
             [
              0.8888888888888888,
              "#fdca26"
             ],
             [
              1,
              "#f0f921"
             ]
            ],
            "type": "heatmapgl"
           }
          ],
          "histogram": [
           {
            "marker": {
             "pattern": {
              "fillmode": "overlay",
              "size": 10,
              "solidity": 0.2
             }
            },
            "type": "histogram"
           }
          ],
          "histogram2d": [
           {
            "colorbar": {
             "outlinewidth": 0,
             "ticks": ""
            },
            "colorscale": [
             [
              0,
              "#0d0887"
             ],
             [
              0.1111111111111111,
              "#46039f"
             ],
             [
              0.2222222222222222,
              "#7201a8"
             ],
             [
              0.3333333333333333,
              "#9c179e"
             ],
             [
              0.4444444444444444,
              "#bd3786"
             ],
             [
              0.5555555555555556,
              "#d8576b"
             ],
             [
              0.6666666666666666,
              "#ed7953"
             ],
             [
              0.7777777777777778,
              "#fb9f3a"
             ],
             [
              0.8888888888888888,
              "#fdca26"
             ],
             [
              1,
              "#f0f921"
             ]
            ],
            "type": "histogram2d"
           }
          ],
          "histogram2dcontour": [
           {
            "colorbar": {
             "outlinewidth": 0,
             "ticks": ""
            },
            "colorscale": [
             [
              0,
              "#0d0887"
             ],
             [
              0.1111111111111111,
              "#46039f"
             ],
             [
              0.2222222222222222,
              "#7201a8"
             ],
             [
              0.3333333333333333,
              "#9c179e"
             ],
             [
              0.4444444444444444,
              "#bd3786"
             ],
             [
              0.5555555555555556,
              "#d8576b"
             ],
             [
              0.6666666666666666,
              "#ed7953"
             ],
             [
              0.7777777777777778,
              "#fb9f3a"
             ],
             [
              0.8888888888888888,
              "#fdca26"
             ],
             [
              1,
              "#f0f921"
             ]
            ],
            "type": "histogram2dcontour"
           }
          ],
          "mesh3d": [
           {
            "colorbar": {
             "outlinewidth": 0,
             "ticks": ""
            },
            "type": "mesh3d"
           }
          ],
          "parcoords": [
           {
            "line": {
             "colorbar": {
              "outlinewidth": 0,
              "ticks": ""
             }
            },
            "type": "parcoords"
           }
          ],
          "pie": [
           {
            "automargin": true,
            "type": "pie"
           }
          ],
          "scatter": [
           {
            "fillpattern": {
             "fillmode": "overlay",
             "size": 10,
             "solidity": 0.2
            },
            "type": "scatter"
           }
          ],
          "scatter3d": [
           {
            "line": {
             "colorbar": {
              "outlinewidth": 0,
              "ticks": ""
             }
            },
            "marker": {
             "colorbar": {
              "outlinewidth": 0,
              "ticks": ""
             }
            },
            "type": "scatter3d"
           }
          ],
          "scattercarpet": [
           {
            "marker": {
             "colorbar": {
              "outlinewidth": 0,
              "ticks": ""
             }
            },
            "type": "scattercarpet"
           }
          ],
          "scattergeo": [
           {
            "marker": {
             "colorbar": {
              "outlinewidth": 0,
              "ticks": ""
             }
            },
            "type": "scattergeo"
           }
          ],
          "scattergl": [
           {
            "marker": {
             "colorbar": {
              "outlinewidth": 0,
              "ticks": ""
             }
            },
            "type": "scattergl"
           }
          ],
          "scattermapbox": [
           {
            "marker": {
             "colorbar": {
              "outlinewidth": 0,
              "ticks": ""
             }
            },
            "type": "scattermapbox"
           }
          ],
          "scatterpolar": [
           {
            "marker": {
             "colorbar": {
              "outlinewidth": 0,
              "ticks": ""
             }
            },
            "type": "scatterpolar"
           }
          ],
          "scatterpolargl": [
           {
            "marker": {
             "colorbar": {
              "outlinewidth": 0,
              "ticks": ""
             }
            },
            "type": "scatterpolargl"
           }
          ],
          "scatterternary": [
           {
            "marker": {
             "colorbar": {
              "outlinewidth": 0,
              "ticks": ""
             }
            },
            "type": "scatterternary"
           }
          ],
          "surface": [
           {
            "colorbar": {
             "outlinewidth": 0,
             "ticks": ""
            },
            "colorscale": [
             [
              0,
              "#0d0887"
             ],
             [
              0.1111111111111111,
              "#46039f"
             ],
             [
              0.2222222222222222,
              "#7201a8"
             ],
             [
              0.3333333333333333,
              "#9c179e"
             ],
             [
              0.4444444444444444,
              "#bd3786"
             ],
             [
              0.5555555555555556,
              "#d8576b"
             ],
             [
              0.6666666666666666,
              "#ed7953"
             ],
             [
              0.7777777777777778,
              "#fb9f3a"
             ],
             [
              0.8888888888888888,
              "#fdca26"
             ],
             [
              1,
              "#f0f921"
             ]
            ],
            "type": "surface"
           }
          ],
          "table": [
           {
            "cells": {
             "fill": {
              "color": "#EBF0F8"
             },
             "line": {
              "color": "white"
             }
            },
            "header": {
             "fill": {
              "color": "#C8D4E3"
             },
             "line": {
              "color": "white"
             }
            },
            "type": "table"
           }
          ]
         },
         "layout": {
          "annotationdefaults": {
           "arrowcolor": "#2a3f5f",
           "arrowhead": 0,
           "arrowwidth": 1
          },
          "autotypenumbers": "strict",
          "coloraxis": {
           "colorbar": {
            "outlinewidth": 0,
            "ticks": ""
           }
          },
          "colorscale": {
           "diverging": [
            [
             0,
             "#8e0152"
            ],
            [
             0.1,
             "#c51b7d"
            ],
            [
             0.2,
             "#de77ae"
            ],
            [
             0.3,
             "#f1b6da"
            ],
            [
             0.4,
             "#fde0ef"
            ],
            [
             0.5,
             "#f7f7f7"
            ],
            [
             0.6,
             "#e6f5d0"
            ],
            [
             0.7,
             "#b8e186"
            ],
            [
             0.8,
             "#7fbc41"
            ],
            [
             0.9,
             "#4d9221"
            ],
            [
             1,
             "#276419"
            ]
           ],
           "sequential": [
            [
             0,
             "#0d0887"
            ],
            [
             0.1111111111111111,
             "#46039f"
            ],
            [
             0.2222222222222222,
             "#7201a8"
            ],
            [
             0.3333333333333333,
             "#9c179e"
            ],
            [
             0.4444444444444444,
             "#bd3786"
            ],
            [
             0.5555555555555556,
             "#d8576b"
            ],
            [
             0.6666666666666666,
             "#ed7953"
            ],
            [
             0.7777777777777778,
             "#fb9f3a"
            ],
            [
             0.8888888888888888,
             "#fdca26"
            ],
            [
             1,
             "#f0f921"
            ]
           ],
           "sequentialminus": [
            [
             0,
             "#0d0887"
            ],
            [
             0.1111111111111111,
             "#46039f"
            ],
            [
             0.2222222222222222,
             "#7201a8"
            ],
            [
             0.3333333333333333,
             "#9c179e"
            ],
            [
             0.4444444444444444,
             "#bd3786"
            ],
            [
             0.5555555555555556,
             "#d8576b"
            ],
            [
             0.6666666666666666,
             "#ed7953"
            ],
            [
             0.7777777777777778,
             "#fb9f3a"
            ],
            [
             0.8888888888888888,
             "#fdca26"
            ],
            [
             1,
             "#f0f921"
            ]
           ]
          },
          "colorway": [
           "#636efa",
           "#EF553B",
           "#00cc96",
           "#ab63fa",
           "#FFA15A",
           "#19d3f3",
           "#FF6692",
           "#B6E880",
           "#FF97FF",
           "#FECB52"
          ],
          "font": {
           "color": "#2a3f5f"
          },
          "geo": {
           "bgcolor": "white",
           "lakecolor": "white",
           "landcolor": "#E5ECF6",
           "showlakes": true,
           "showland": true,
           "subunitcolor": "white"
          },
          "hoverlabel": {
           "align": "left"
          },
          "hovermode": "closest",
          "mapbox": {
           "style": "light"
          },
          "paper_bgcolor": "white",
          "plot_bgcolor": "#E5ECF6",
          "polar": {
           "angularaxis": {
            "gridcolor": "white",
            "linecolor": "white",
            "ticks": ""
           },
           "bgcolor": "#E5ECF6",
           "radialaxis": {
            "gridcolor": "white",
            "linecolor": "white",
            "ticks": ""
           }
          },
          "scene": {
           "xaxis": {
            "backgroundcolor": "#E5ECF6",
            "gridcolor": "white",
            "gridwidth": 2,
            "linecolor": "white",
            "showbackground": true,
            "ticks": "",
            "zerolinecolor": "white"
           },
           "yaxis": {
            "backgroundcolor": "#E5ECF6",
            "gridcolor": "white",
            "gridwidth": 2,
            "linecolor": "white",
            "showbackground": true,
            "ticks": "",
            "zerolinecolor": "white"
           },
           "zaxis": {
            "backgroundcolor": "#E5ECF6",
            "gridcolor": "white",
            "gridwidth": 2,
            "linecolor": "white",
            "showbackground": true,
            "ticks": "",
            "zerolinecolor": "white"
           }
          },
          "shapedefaults": {
           "line": {
            "color": "#2a3f5f"
           }
          },
          "ternary": {
           "aaxis": {
            "gridcolor": "white",
            "linecolor": "white",
            "ticks": ""
           },
           "baxis": {
            "gridcolor": "white",
            "linecolor": "white",
            "ticks": ""
           },
           "bgcolor": "#E5ECF6",
           "caxis": {
            "gridcolor": "white",
            "linecolor": "white",
            "ticks": ""
           }
          },
          "title": {
           "x": 0.05
          },
          "xaxis": {
           "automargin": true,
           "gridcolor": "white",
           "linecolor": "white",
           "ticks": "",
           "title": {
            "standoff": 15
           },
           "zerolinecolor": "white",
           "zerolinewidth": 2
          },
          "yaxis": {
           "automargin": true,
           "gridcolor": "white",
           "linecolor": "white",
           "ticks": "",
           "title": {
            "standoff": 15
           },
           "zerolinecolor": "white",
           "zerolinewidth": 2
          }
         }
        },
        "title": {
         "text": "<span style=\"font-size:22px; font-family:Times New Roman\">More Frequent Words in Spam Messages</span>"
        },
        "xaxis": {
         "categoryorder": "total descending",
         "title": {
          "text": "Words"
         }
        },
        "yaxis": {
         "title": {
          "text": "Number"
         }
        }
       }
      }
     },
     "metadata": {},
     "output_type": "display_data"
    }
   ],
   "source": [
    "# Assuming 'data' is your DataFrame and 'message_clean' is the column with text data\n",
    "# Count the most common words in non-spam messages\n",
    "count1 = Counter(\" \".join(data[data['target']=='spam'][\"message_clean\"]).split()).most_common(20)\n",
    "df1 = pd.DataFrame(count1, columns=[\"words in spam\", \"count\"])\n",
    "\n",
    "# Visualize in bar chart using Plotly\n",
    "fig = go.Figure()\n",
    "fig.add_trace(go.Bar(\n",
    "    x=df1[\"words in spam\"],\n",
    "    y=df1[\"count\"],\n",
    "    text=df1[\"count\"],\n",
    "    textposition='auto',\n",
    "    marker_color='#7f7f7f' \n",
    "))\n",
    "\n",
    "# Update layout for better visualization\n",
    "fig.update_layout(\n",
    "    title='<span style=\"font-size:22px; font-family:Times New Roman\">More Frequent Words in Spam Messages</span>',\n",
    "    xaxis_title=\"Words\",\n",
    "    yaxis_title=\"Number\",\n",
    "    xaxis={'categoryorder':'total descending'}  # this line orders the bars based on count\n",
    ")\n",
    "fig.show()"
   ]
  },
  {
   "cell_type": "markdown",
   "metadata": {},
   "source": [
    "Lemmatization"
   ]
  },
  {
   "cell_type": "code",
   "execution_count": 16,
   "metadata": {},
   "outputs": [
    {
     "name": "stdout",
     "output_type": "stream",
     "text": [
      "\u001b[2m\u001b[1m\u001b[32m\n",
      "DATA SUCCESSFULLY LEMMATIZED...\u001b[0m\n"
     ]
    },
    {
     "data": {
      "text/html": [
       "<div>\n",
       "<style scoped>\n",
       "    .dataframe tbody tr th:only-of-type {\n",
       "        vertical-align: middle;\n",
       "    }\n",
       "\n",
       "    .dataframe tbody tr th {\n",
       "        vertical-align: top;\n",
       "    }\n",
       "\n",
       "    .dataframe thead th {\n",
       "        text-align: right;\n",
       "    }\n",
       "</style>\n",
       "<table border=\"1\" class=\"dataframe\">\n",
       "  <thead>\n",
       "    <tr style=\"text-align: right;\">\n",
       "      <th></th>\n",
       "      <th>target</th>\n",
       "      <th>text</th>\n",
       "      <th>message_clean</th>\n",
       "      <th>message_len</th>\n",
       "    </tr>\n",
       "  </thead>\n",
       "  <tbody>\n",
       "    <tr>\n",
       "      <th>0</th>\n",
       "      <td>ham</td>\n",
       "      <td>Go until jurong point, crazy.. Available only in bugis n great world la e buffet... Cine there got amore wat...</td>\n",
       "      <td>go jurong point crazy available bugis n great world la e buffet cine get amore wat</td>\n",
       "      <td>16</td>\n",
       "    </tr>\n",
       "    <tr>\n",
       "      <th>1</th>\n",
       "      <td>ham</td>\n",
       "      <td>Ok lar... Joking wif u oni...</td>\n",
       "      <td>ok lar joke wif oni</td>\n",
       "      <td>5</td>\n",
       "    </tr>\n",
       "    <tr>\n",
       "      <th>2</th>\n",
       "      <td>spam</td>\n",
       "      <td>Free entry in 2 a wkly comp to win FA Cup final tkts 21st May 2005. Text FA to 87121 to receive entry question(std txt rate)T&amp;C's apply 08452810075over18's</td>\n",
       "      <td>free entry wkly comp win fa cup final tkts may text fa receive entry questionstd txt ratetcs apply</td>\n",
       "      <td>23</td>\n",
       "    </tr>\n",
       "    <tr>\n",
       "      <th>3</th>\n",
       "      <td>ham</td>\n",
       "      <td>U dun say so early hor... U c already then say...</td>\n",
       "      <td>dun say early hor already say</td>\n",
       "      <td>6</td>\n",
       "    </tr>\n",
       "    <tr>\n",
       "      <th>4</th>\n",
       "      <td>ham</td>\n",
       "      <td>Nah I don't think he goes to usf, he lives around here though</td>\n",
       "      <td>nah dont think go usf live around though</td>\n",
       "      <td>8</td>\n",
       "    </tr>\n",
       "  </tbody>\n",
       "</table>\n",
       "</div>"
      ],
      "text/plain": [
       "  target  \\\n",
       "0  ham     \n",
       "1  ham     \n",
       "2  spam    \n",
       "3  ham     \n",
       "4  ham     \n",
       "\n",
       "                                                                                                                                                          text  \\\n",
       "0  Go until jurong point, crazy.. Available only in bugis n great world la e buffet... Cine there got amore wat...                                               \n",
       "1  Ok lar... Joking wif u oni...                                                                                                                                 \n",
       "2  Free entry in 2 a wkly comp to win FA Cup final tkts 21st May 2005. Text FA to 87121 to receive entry question(std txt rate)T&C's apply 08452810075over18's   \n",
       "3  U dun say so early hor... U c already then say...                                                                                                             \n",
       "4  Nah I don't think he goes to usf, he lives around here though                                                                                                 \n",
       "\n",
       "                                                                                        message_clean  \\\n",
       "0  go jurong point crazy available bugis n great world la e buffet cine get amore wat                   \n",
       "1  ok lar joke wif oni                                                                                  \n",
       "2  free entry wkly comp win fa cup final tkts may text fa receive entry questionstd txt ratetcs apply   \n",
       "3  dun say early hor already say                                                                        \n",
       "4  nah dont think go usf live around though                                                             \n",
       "\n",
       "   message_len  \n",
       "0  16           \n",
       "1  5            \n",
       "2  23           \n",
       "3  6            \n",
       "4  8            "
      ]
     },
     "execution_count": 16,
     "metadata": {},
     "output_type": "execute_result"
    }
   ],
   "source": [
    "lemmatizer = WordNetLemmatizer()\n",
    "\n",
    "# Lemmatize string\n",
    "def lemmatize_word(text):\n",
    "    # Split text into words based on spaces\n",
    "    words = text.split()\n",
    "    # Lemmatize each word and assume 'v' (verb) as the default POS tag\n",
    "    lemmas = ' '.join([lemmatizer.lemmatize(word, pos='v') for word in words])\n",
    "    return lemmas\n",
    "\n",
    "# Assuming 'data' is your DataFrame and 'message_clean' is the column with text to lemmatize\n",
    "data[\"message_clean\"] = data[\"message_clean\"].apply(lemmatize_word)\n",
    "\n",
    "print(colored(\"\\nDATA SUCCESSFULLY LEMMATIZED...\", color=\"green\", attrs=[\"bold\", \"dark\"]))\n",
    "data.head()"
   ]
  },
  {
   "cell_type": "markdown",
   "metadata": {},
   "source": [
    "Vectorization"
   ]
  },
  {
   "cell_type": "code",
   "execution_count": 17,
   "metadata": {},
   "outputs": [
    {
     "data": {
      "text/html": [
       "<style>#sk-container-id-1 {color: black;}#sk-container-id-1 pre{padding: 0;}#sk-container-id-1 div.sk-toggleable {background-color: white;}#sk-container-id-1 label.sk-toggleable__label {cursor: pointer;display: block;width: 100%;margin-bottom: 0;padding: 0.3em;box-sizing: border-box;text-align: center;}#sk-container-id-1 label.sk-toggleable__label-arrow:before {content: \"▸\";float: left;margin-right: 0.25em;color: #696969;}#sk-container-id-1 label.sk-toggleable__label-arrow:hover:before {color: black;}#sk-container-id-1 div.sk-estimator:hover label.sk-toggleable__label-arrow:before {color: black;}#sk-container-id-1 div.sk-toggleable__content {max-height: 0;max-width: 0;overflow: hidden;text-align: left;background-color: #f0f8ff;}#sk-container-id-1 div.sk-toggleable__content pre {margin: 0.2em;color: black;border-radius: 0.25em;background-color: #f0f8ff;}#sk-container-id-1 input.sk-toggleable__control:checked~div.sk-toggleable__content {max-height: 200px;max-width: 100%;overflow: auto;}#sk-container-id-1 input.sk-toggleable__control:checked~label.sk-toggleable__label-arrow:before {content: \"▾\";}#sk-container-id-1 div.sk-estimator input.sk-toggleable__control:checked~label.sk-toggleable__label {background-color: #d4ebff;}#sk-container-id-1 div.sk-label input.sk-toggleable__control:checked~label.sk-toggleable__label {background-color: #d4ebff;}#sk-container-id-1 input.sk-hidden--visually {border: 0;clip: rect(1px 1px 1px 1px);clip: rect(1px, 1px, 1px, 1px);height: 1px;margin: -1px;overflow: hidden;padding: 0;position: absolute;width: 1px;}#sk-container-id-1 div.sk-estimator {font-family: monospace;background-color: #f0f8ff;border: 1px dotted black;border-radius: 0.25em;box-sizing: border-box;margin-bottom: 0.5em;}#sk-container-id-1 div.sk-estimator:hover {background-color: #d4ebff;}#sk-container-id-1 div.sk-parallel-item::after {content: \"\";width: 100%;border-bottom: 1px solid gray;flex-grow: 1;}#sk-container-id-1 div.sk-label:hover label.sk-toggleable__label {background-color: #d4ebff;}#sk-container-id-1 div.sk-serial::before {content: \"\";position: absolute;border-left: 1px solid gray;box-sizing: border-box;top: 0;bottom: 0;left: 50%;z-index: 0;}#sk-container-id-1 div.sk-serial {display: flex;flex-direction: column;align-items: center;background-color: white;padding-right: 0.2em;padding-left: 0.2em;position: relative;}#sk-container-id-1 div.sk-item {position: relative;z-index: 1;}#sk-container-id-1 div.sk-parallel {display: flex;align-items: stretch;justify-content: center;background-color: white;position: relative;}#sk-container-id-1 div.sk-item::before, #sk-container-id-1 div.sk-parallel-item::before {content: \"\";position: absolute;border-left: 1px solid gray;box-sizing: border-box;top: 0;bottom: 0;left: 50%;z-index: -1;}#sk-container-id-1 div.sk-parallel-item {display: flex;flex-direction: column;z-index: 1;position: relative;background-color: white;}#sk-container-id-1 div.sk-parallel-item:first-child::after {align-self: flex-end;width: 50%;}#sk-container-id-1 div.sk-parallel-item:last-child::after {align-self: flex-start;width: 50%;}#sk-container-id-1 div.sk-parallel-item:only-child::after {width: 0;}#sk-container-id-1 div.sk-dashed-wrapped {border: 1px dashed gray;margin: 0 0.4em 0.5em 0.4em;box-sizing: border-box;padding-bottom: 0.4em;background-color: white;}#sk-container-id-1 div.sk-label label {font-family: monospace;font-weight: bold;display: inline-block;line-height: 1.2em;}#sk-container-id-1 div.sk-label-container {text-align: center;}#sk-container-id-1 div.sk-container {/* jupyter's `normalize.less` sets `[hidden] { display: none; }` but bootstrap.min.css set `[hidden] { display: none !important; }` so we also need the `!important` here to be able to override the default hidden behavior on the sphinx rendered scikit-learn.org. See: https://github.com/scikit-learn/scikit-learn/issues/21755 */display: inline-block !important;position: relative;}#sk-container-id-1 div.sk-text-repr-fallback {display: none;}</style><div id=\"sk-container-id-1\" class=\"sk-top-container\"><div class=\"sk-text-repr-fallback\"><pre>CountVectorizer(analyzer=&#x27;word&#x27;, binary=False, decode_error=&#x27;strict&#x27;,\n",
       "                dtype=&lt;class &#x27;numpy.int64&#x27;&gt;, encoding=&#x27;utf-8&#x27;, input=&#x27;content&#x27;,\n",
       "                lowercase=True, max_df=0.95, max_features=None, min_df=0.01,\n",
       "                ngram_range=(1, 1), preprocessor=None, stop_words=None,\n",
       "                strip_accents=None, token_pattern=&#x27;(?u)\\\\b\\\\w\\\\w+\\\\b&#x27;,\n",
       "                tokenizer=None, vocabulary=None)</pre><b>In a Jupyter environment, please rerun this cell to show the HTML representation or trust the notebook. <br />On GitHub, the HTML representation is unable to render, please try loading this page with nbviewer.org.</b></div><div class=\"sk-container\" hidden><div class=\"sk-item\"><div class=\"sk-estimator sk-toggleable\"><input class=\"sk-toggleable__control sk-hidden--visually\" id=\"sk-estimator-id-1\" type=\"checkbox\" checked><label for=\"sk-estimator-id-1\" class=\"sk-toggleable__label sk-toggleable__label-arrow\">CountVectorizer</label><div class=\"sk-toggleable__content\"><pre>CountVectorizer(analyzer=&#x27;word&#x27;, binary=False, decode_error=&#x27;strict&#x27;,\n",
       "                dtype=&lt;class &#x27;numpy.int64&#x27;&gt;, encoding=&#x27;utf-8&#x27;, input=&#x27;content&#x27;,\n",
       "                lowercase=True, max_df=0.95, max_features=None, min_df=0.01,\n",
       "                ngram_range=(1, 1), preprocessor=None, stop_words=None,\n",
       "                strip_accents=None, token_pattern=&#x27;(?u)\\\\b\\\\w\\\\w+\\\\b&#x27;,\n",
       "                tokenizer=None, vocabulary=None)</pre></div></div></div></div></div>"
      ],
      "text/plain": [
       "CountVectorizer(analyzer='word', binary=False, decode_error='strict',\n",
       "                dtype=<class 'numpy.int64'>, encoding='utf-8', input='content',\n",
       "                lowercase=True, max_df=0.95, max_features=None, min_df=0.01,\n",
       "                ngram_range=(1, 1), preprocessor=None, stop_words=None,\n",
       "                strip_accents=None, token_pattern='(?u)\\\\b\\\\w\\\\w+\\\\b',\n",
       "                tokenizer=None, vocabulary=None)"
      ]
     },
     "execution_count": 17,
     "metadata": {},
     "output_type": "execute_result"
    }
   ],
   "source": [
    "vect = CountVectorizer(min_df=0.01, max_df=0.95)\n",
    "vect.fit(data['message_clean'])\n",
    "# .fit() method is used to learn the vocabulary of the text data.(understanding and mapping the structure)"
   ]
  },
  {
   "cell_type": "code",
   "execution_count": 18,
   "metadata": {},
   "outputs": [
    {
     "name": "stdout",
     "output_type": "stream",
     "text": [
      "\u001b[2m\u001b[1m\u001b[32m\n",
      "FEATURE NAME HAVE BEEN IDENTIFIED SUCCESSFULLY...\u001b[0m\n"
     ]
    },
    {
     "data": {
      "text/plain": [
       "array(['already', 'also', 'anything', 'around', 'ask', 'babe', 'back',\n",
       "       'buy', 'call', 'cant', 'care', 'cash', 'claim', 'come', 'contact',\n",
       "       'cos', 'could', 'da', 'day', 'dear', 'didnt', 'dont', 'end',\n",
       "       'even', 'every', 'feel', 'find', 'finish', 'first', 'free', 'get',\n",
       "       'give', 'go', 'gonna', 'good', 'great', 'guy', 'happy', 'hey',\n",
       "       'hi', 'home', 'hope', 'ill', 'ive', 'keep', 'know', 'last',\n",
       "       'later', 'leave', 'let', 'life', 'like', 'lol', 'look', 'lor',\n",
       "       'love', 'ltgt', 'make', 'mean', 'meet', 'message', 'miss',\n",
       "       'mobile', 'money', 'morning', 'msg', 'much', 'need', 'new', 'next',\n",
       "       'night', 'number', 'oh', 'ok', 'one', 'phone', 'pick', 'place',\n",
       "       'plan', 'please', 'pls', 'prize', 'really', 'reply', 'right',\n",
       "       'say', 'see', 'send', 'service', 'show', 'sleep', 'something',\n",
       "       'soon', 'sorry', 'start', 'still', 'stop', 'sure', 'take', 'talk',\n",
       "       'tell', 'text', 'thank', 'thats', 'thing', 'think', 'time',\n",
       "       'today', 'tomorrow', 'tonight', 'try', 'txt', 'ur', 'urgent', 'us',\n",
       "       'use', 'wait', 'wan', 'want', 'wat', 'watch', 'way', 'week',\n",
       "       'well', 'win', 'wish', 'wont', 'work', 'would', 'yeah', 'yes',\n",
       "       'youre'], dtype=object)"
      ]
     },
     "execution_count": 18,
     "metadata": {},
     "output_type": "execute_result"
    }
   ],
   "source": [
    "# examine the fitted vocabulary\n",
    "print(colored(\"\\nFEATURE NAME HAVE BEEN IDENTIFIED SUCCESSFULLY...\", color = \"green\", attrs = [\"bold\", \"dark\"]))\n",
    "vect.get_feature_names_out()\n",
    "# retrieves an array of all feature names (or words) that have been identified from the data after fitting the model."
   ]
  },
  {
   "cell_type": "code",
   "execution_count": 19,
   "metadata": {},
   "outputs": [
    {
     "name": "stdout",
     "output_type": "stream",
     "text": [
      "\u001b[2m\u001b[1m\u001b[32m\n",
      "SPARSE MATRIX...\u001b[0m\n",
      "  (0, 30)\t1\n",
      "  (0, 32)\t1\n",
      "  (0, 35)\t1\n",
      "  (0, 119)\t1\n",
      "  (1, 73)\t1\n",
      "  (2, 29)\t1\n",
      "  (2, 101)\t1\n",
      "  (2, 111)\t1\n",
      "  (2, 124)\t1\n",
      "  (3, 0)\t1\n",
      "  (3, 85)\t2\n",
      "  (4, 3)\t1\n",
      "  (4, 21)\t1\n",
      "  (4, 32)\t1\n",
      "  (4, 105)\t1\n",
      "  (5, 6)\t1\n",
      "  (5, 38)\t1\n",
      "  (5, 51)\t1\n",
      "  (5, 73)\t1\n",
      "  (5, 87)\t1\n",
      "  (5, 95)\t1\n",
      "  (6, 23)\t1\n",
      "  (6, 51)\t2\n",
      "  (8, 8)\t1\n",
      "  (8, 12)\t2\n",
      "  :\t:\n",
      "  (5161, 116)\t1\n",
      "  (5163, 8)\t1\n",
      "  (5163, 29)\t1\n",
      "  (5163, 30)\t1\n",
      "  (5163, 35)\t1\n",
      "  (5163, 80)\t1\n",
      "  (5163, 83)\t1\n",
      "  (5163, 101)\t1\n",
      "  (5164, 8)\t1\n",
      "  (5164, 12)\t1\n",
      "  (5164, 14)\t1\n",
      "  (5164, 81)\t1\n",
      "  (5164, 106)\t1\n",
      "  (5164, 110)\t1\n",
      "  (5165, 32)\t1\n",
      "  (5165, 40)\t1\n",
      "  (5167, 7)\t1\n",
      "  (5167, 29)\t1\n",
      "  (5167, 31)\t1\n",
      "  (5167, 36)\t1\n",
      "  (5167, 51)\t1\n",
      "  (5167, 69)\t1\n",
      "  (5167, 91)\t1\n",
      "  (5167, 114)\t1\n",
      "  (5167, 122)\t1\n"
     ]
    }
   ],
   "source": [
    "# transform training data into a 'document-term matrix','sparse matrix'\n",
    "#exp (0, 31) 0: means the first data entry which is (aa) 31: means for the word in the 32th vocabulary learned from the training data. 1: means it is repeated once\n",
    "simple_train_dtm = vect.transform(data['message_clean'])\n",
    "print(colored(\"\\nSPARSE MATRIX...\", color = \"green\", attrs = [\"bold\", \"dark\"]))\n",
    "print(simple_train_dtm) #sparse matrix(only store none zero matrix value)"
   ]
  },
  {
   "cell_type": "code",
   "execution_count": 20,
   "metadata": {},
   "outputs": [
    {
     "name": "stdout",
     "output_type": "stream",
     "text": [
      "\u001b[2m\u001b[1m\u001b[32m\n",
      "DENSE MATRIX...\u001b[0m\n"
     ]
    },
    {
     "data": {
      "text/plain": [
       "array([[0, 0, 0, ..., 0, 0, 0],\n",
       "       [0, 0, 0, ..., 0, 0, 0],\n",
       "       [0, 0, 0, ..., 0, 0, 0],\n",
       "       ...,\n",
       "       [0, 0, 0, ..., 0, 0, 0],\n",
       "       [0, 0, 0, ..., 0, 0, 0],\n",
       "       [0, 0, 0, ..., 0, 0, 0]], dtype=int64)"
      ]
     },
     "execution_count": 20,
     "metadata": {},
     "output_type": "execute_result"
    }
   ],
   "source": [
    "print(colored(\"\\nDENSE MATRIX...\", color = \"green\", attrs = [\"bold\", \"dark\"]))\n",
    "simple_train_dtm.toarray() #dense matrix (store 0 and non-zero (consider all element))\n",
    "# transforms the sparse format into a full numpy array that includes every possible position in the matrix, filled with zeros where no data was previously recorded in the sparse matrix.\n",
    "# the first col zero means the feature name \"already\" does not appear in the first document(any piece of written text that is treated as a single entity) bcs it is in the first array"
   ]
  },
  {
   "cell_type": "code",
   "execution_count": 21,
   "metadata": {},
   "outputs": [
    {
     "name": "stdout",
     "output_type": "stream",
     "text": [
      "\u001b[2m\u001b[1m\u001b[32m\n",
      "OVEREALL VISUALIZATION...\u001b[0m\n"
     ]
    },
    {
     "data": {
      "text/html": [
       "<div>\n",
       "<style scoped>\n",
       "    .dataframe tbody tr th:only-of-type {\n",
       "        vertical-align: middle;\n",
       "    }\n",
       "\n",
       "    .dataframe tbody tr th {\n",
       "        vertical-align: top;\n",
       "    }\n",
       "\n",
       "    .dataframe thead th {\n",
       "        text-align: right;\n",
       "    }\n",
       "</style>\n",
       "<table border=\"1\" class=\"dataframe\">\n",
       "  <thead>\n",
       "    <tr style=\"text-align: right;\">\n",
       "      <th></th>\n",
       "      <th>already</th>\n",
       "      <th>also</th>\n",
       "      <th>anything</th>\n",
       "      <th>around</th>\n",
       "      <th>ask</th>\n",
       "      <th>babe</th>\n",
       "      <th>back</th>\n",
       "      <th>buy</th>\n",
       "      <th>call</th>\n",
       "      <th>cant</th>\n",
       "      <th>...</th>\n",
       "      <th>week</th>\n",
       "      <th>well</th>\n",
       "      <th>win</th>\n",
       "      <th>wish</th>\n",
       "      <th>wont</th>\n",
       "      <th>work</th>\n",
       "      <th>would</th>\n",
       "      <th>yeah</th>\n",
       "      <th>yes</th>\n",
       "      <th>youre</th>\n",
       "    </tr>\n",
       "  </thead>\n",
       "  <tbody>\n",
       "    <tr>\n",
       "      <th>0</th>\n",
       "      <td>0</td>\n",
       "      <td>0</td>\n",
       "      <td>0</td>\n",
       "      <td>0</td>\n",
       "      <td>0</td>\n",
       "      <td>0</td>\n",
       "      <td>0</td>\n",
       "      <td>0</td>\n",
       "      <td>0</td>\n",
       "      <td>0</td>\n",
       "      <td>...</td>\n",
       "      <td>0</td>\n",
       "      <td>0</td>\n",
       "      <td>0</td>\n",
       "      <td>0</td>\n",
       "      <td>0</td>\n",
       "      <td>0</td>\n",
       "      <td>0</td>\n",
       "      <td>0</td>\n",
       "      <td>0</td>\n",
       "      <td>0</td>\n",
       "    </tr>\n",
       "    <tr>\n",
       "      <th>1</th>\n",
       "      <td>0</td>\n",
       "      <td>0</td>\n",
       "      <td>0</td>\n",
       "      <td>0</td>\n",
       "      <td>0</td>\n",
       "      <td>0</td>\n",
       "      <td>0</td>\n",
       "      <td>0</td>\n",
       "      <td>0</td>\n",
       "      <td>0</td>\n",
       "      <td>...</td>\n",
       "      <td>0</td>\n",
       "      <td>0</td>\n",
       "      <td>0</td>\n",
       "      <td>0</td>\n",
       "      <td>0</td>\n",
       "      <td>0</td>\n",
       "      <td>0</td>\n",
       "      <td>0</td>\n",
       "      <td>0</td>\n",
       "      <td>0</td>\n",
       "    </tr>\n",
       "    <tr>\n",
       "      <th>2</th>\n",
       "      <td>0</td>\n",
       "      <td>0</td>\n",
       "      <td>0</td>\n",
       "      <td>0</td>\n",
       "      <td>0</td>\n",
       "      <td>0</td>\n",
       "      <td>0</td>\n",
       "      <td>0</td>\n",
       "      <td>0</td>\n",
       "      <td>0</td>\n",
       "      <td>...</td>\n",
       "      <td>0</td>\n",
       "      <td>0</td>\n",
       "      <td>1</td>\n",
       "      <td>0</td>\n",
       "      <td>0</td>\n",
       "      <td>0</td>\n",
       "      <td>0</td>\n",
       "      <td>0</td>\n",
       "      <td>0</td>\n",
       "      <td>0</td>\n",
       "    </tr>\n",
       "    <tr>\n",
       "      <th>3</th>\n",
       "      <td>1</td>\n",
       "      <td>0</td>\n",
       "      <td>0</td>\n",
       "      <td>0</td>\n",
       "      <td>0</td>\n",
       "      <td>0</td>\n",
       "      <td>0</td>\n",
       "      <td>0</td>\n",
       "      <td>0</td>\n",
       "      <td>0</td>\n",
       "      <td>...</td>\n",
       "      <td>0</td>\n",
       "      <td>0</td>\n",
       "      <td>0</td>\n",
       "      <td>0</td>\n",
       "      <td>0</td>\n",
       "      <td>0</td>\n",
       "      <td>0</td>\n",
       "      <td>0</td>\n",
       "      <td>0</td>\n",
       "      <td>0</td>\n",
       "    </tr>\n",
       "    <tr>\n",
       "      <th>4</th>\n",
       "      <td>0</td>\n",
       "      <td>0</td>\n",
       "      <td>0</td>\n",
       "      <td>1</td>\n",
       "      <td>0</td>\n",
       "      <td>0</td>\n",
       "      <td>0</td>\n",
       "      <td>0</td>\n",
       "      <td>0</td>\n",
       "      <td>0</td>\n",
       "      <td>...</td>\n",
       "      <td>0</td>\n",
       "      <td>0</td>\n",
       "      <td>0</td>\n",
       "      <td>0</td>\n",
       "      <td>0</td>\n",
       "      <td>0</td>\n",
       "      <td>0</td>\n",
       "      <td>0</td>\n",
       "      <td>0</td>\n",
       "      <td>0</td>\n",
       "    </tr>\n",
       "    <tr>\n",
       "      <th>...</th>\n",
       "      <td>...</td>\n",
       "      <td>...</td>\n",
       "      <td>...</td>\n",
       "      <td>...</td>\n",
       "      <td>...</td>\n",
       "      <td>...</td>\n",
       "      <td>...</td>\n",
       "      <td>...</td>\n",
       "      <td>...</td>\n",
       "      <td>...</td>\n",
       "      <td>...</td>\n",
       "      <td>...</td>\n",
       "      <td>...</td>\n",
       "      <td>...</td>\n",
       "      <td>...</td>\n",
       "      <td>...</td>\n",
       "      <td>...</td>\n",
       "      <td>...</td>\n",
       "      <td>...</td>\n",
       "      <td>...</td>\n",
       "      <td>...</td>\n",
       "    </tr>\n",
       "    <tr>\n",
       "      <th>5164</th>\n",
       "      <td>0</td>\n",
       "      <td>0</td>\n",
       "      <td>0</td>\n",
       "      <td>0</td>\n",
       "      <td>0</td>\n",
       "      <td>0</td>\n",
       "      <td>0</td>\n",
       "      <td>0</td>\n",
       "      <td>1</td>\n",
       "      <td>0</td>\n",
       "      <td>...</td>\n",
       "      <td>0</td>\n",
       "      <td>0</td>\n",
       "      <td>0</td>\n",
       "      <td>0</td>\n",
       "      <td>0</td>\n",
       "      <td>0</td>\n",
       "      <td>0</td>\n",
       "      <td>0</td>\n",
       "      <td>0</td>\n",
       "      <td>0</td>\n",
       "    </tr>\n",
       "    <tr>\n",
       "      <th>5165</th>\n",
       "      <td>0</td>\n",
       "      <td>0</td>\n",
       "      <td>0</td>\n",
       "      <td>0</td>\n",
       "      <td>0</td>\n",
       "      <td>0</td>\n",
       "      <td>0</td>\n",
       "      <td>0</td>\n",
       "      <td>0</td>\n",
       "      <td>0</td>\n",
       "      <td>...</td>\n",
       "      <td>0</td>\n",
       "      <td>0</td>\n",
       "      <td>0</td>\n",
       "      <td>0</td>\n",
       "      <td>0</td>\n",
       "      <td>0</td>\n",
       "      <td>0</td>\n",
       "      <td>0</td>\n",
       "      <td>0</td>\n",
       "      <td>0</td>\n",
       "    </tr>\n",
       "    <tr>\n",
       "      <th>5166</th>\n",
       "      <td>0</td>\n",
       "      <td>0</td>\n",
       "      <td>0</td>\n",
       "      <td>0</td>\n",
       "      <td>0</td>\n",
       "      <td>0</td>\n",
       "      <td>0</td>\n",
       "      <td>0</td>\n",
       "      <td>0</td>\n",
       "      <td>0</td>\n",
       "      <td>...</td>\n",
       "      <td>0</td>\n",
       "      <td>0</td>\n",
       "      <td>0</td>\n",
       "      <td>0</td>\n",
       "      <td>0</td>\n",
       "      <td>0</td>\n",
       "      <td>0</td>\n",
       "      <td>0</td>\n",
       "      <td>0</td>\n",
       "      <td>0</td>\n",
       "    </tr>\n",
       "    <tr>\n",
       "      <th>5167</th>\n",
       "      <td>0</td>\n",
       "      <td>0</td>\n",
       "      <td>0</td>\n",
       "      <td>0</td>\n",
       "      <td>0</td>\n",
       "      <td>0</td>\n",
       "      <td>0</td>\n",
       "      <td>1</td>\n",
       "      <td>0</td>\n",
       "      <td>0</td>\n",
       "      <td>...</td>\n",
       "      <td>1</td>\n",
       "      <td>0</td>\n",
       "      <td>0</td>\n",
       "      <td>0</td>\n",
       "      <td>0</td>\n",
       "      <td>0</td>\n",
       "      <td>0</td>\n",
       "      <td>0</td>\n",
       "      <td>0</td>\n",
       "      <td>0</td>\n",
       "    </tr>\n",
       "    <tr>\n",
       "      <th>5168</th>\n",
       "      <td>0</td>\n",
       "      <td>0</td>\n",
       "      <td>0</td>\n",
       "      <td>0</td>\n",
       "      <td>0</td>\n",
       "      <td>0</td>\n",
       "      <td>0</td>\n",
       "      <td>0</td>\n",
       "      <td>0</td>\n",
       "      <td>0</td>\n",
       "      <td>...</td>\n",
       "      <td>0</td>\n",
       "      <td>0</td>\n",
       "      <td>0</td>\n",
       "      <td>0</td>\n",
       "      <td>0</td>\n",
       "      <td>0</td>\n",
       "      <td>0</td>\n",
       "      <td>0</td>\n",
       "      <td>0</td>\n",
       "      <td>0</td>\n",
       "    </tr>\n",
       "  </tbody>\n",
       "</table>\n",
       "<p>5169 rows × 132 columns</p>\n",
       "</div>"
      ],
      "text/plain": [
       "      already  also  anything  around  ask  babe  back  buy  call  cant  ...  \\\n",
       "0     0        0     0         0       0    0     0     0    0     0     ...   \n",
       "1     0        0     0         0       0    0     0     0    0     0     ...   \n",
       "2     0        0     0         0       0    0     0     0    0     0     ...   \n",
       "3     1        0     0         0       0    0     0     0    0     0     ...   \n",
       "4     0        0     0         1       0    0     0     0    0     0     ...   \n",
       "...  ..       ..    ..        ..      ..   ..    ..    ..   ..    ..     ...   \n",
       "5164  0        0     0         0       0    0     0     0    1     0     ...   \n",
       "5165  0        0     0         0       0    0     0     0    0     0     ...   \n",
       "5166  0        0     0         0       0    0     0     0    0     0     ...   \n",
       "5167  0        0     0         0       0    0     0     1    0     0     ...   \n",
       "5168  0        0     0         0       0    0     0     0    0     0     ...   \n",
       "\n",
       "      week  well  win  wish  wont  work  would  yeah  yes  youre  \n",
       "0     0     0     0    0     0     0     0      0     0    0      \n",
       "1     0     0     0    0     0     0     0      0     0    0      \n",
       "2     0     0     1    0     0     0     0      0     0    0      \n",
       "3     0     0     0    0     0     0     0      0     0    0      \n",
       "4     0     0     0    0     0     0     0      0     0    0      \n",
       "...  ..    ..    ..   ..    ..    ..    ..     ..    ..   ..      \n",
       "5164  0     0     0    0     0     0     0      0     0    0      \n",
       "5165  0     0     0    0     0     0     0      0     0    0      \n",
       "5166  0     0     0    0     0     0     0      0     0    0      \n",
       "5167  1     0     0    0     0     0     0      0     0    0      \n",
       "5168  0     0     0    0     0     0     0      0     0    0      \n",
       "\n",
       "[5169 rows x 132 columns]"
      ]
     },
     "execution_count": 21,
     "metadata": {},
     "output_type": "execute_result"
    }
   ],
   "source": [
    "HTML(\"\"\"\n",
    "<style>\n",
    "h1,h2,h3 {\n",
    "\tmargin: 1em 0 0.5em 0;\n",
    "\tfont-weight: 600;\n",
    "\tfont-family: 'Titillium Web', sans-serif;\n",
    "\tposition: relative;  \n",
    "\tfont-size: 36px;\n",
    "\tline-height: 40px;\n",
    "\tpadding: 15px 15px 15px 2.5%;\n",
    "\tcolor: #1E8449;\n",
    "\tbox-shadow: \n",
    "\t\tinset 0 0 0 1px rgba(246,38,100, 1), \n",
    "\t\tinset 0 0 5px rgba(246,3,100, 1),\n",
    "\t\tinset -285px 0 35px #D5F5E3;\n",
    "\tborder-radius: 0 10px 0 15px;\n",
    "\tbackground: #fff\n",
    "    \n",
    "}\n",
    "</style>\n",
    "\"\"\")\n",
    "# constructs a DataFrame from the dense matrix. The columns are the vocabulary words extracted and learned from the data.\n",
    "# pd.DataFrame(matrix, columns=columns)\n",
    "print(colored(\"\\nOVEREALL VISUALIZATION...\", color = \"green\", attrs = [\"bold\", \"dark\"]))\n",
    "pd.DataFrame(simple_train_dtm.toarray(), columns=vect.get_feature_names_out())"
   ]
  },
  {
   "cell_type": "markdown",
   "metadata": {},
   "source": [
    "Target Encoding"
   ]
  },
  {
   "cell_type": "code",
   "execution_count": 22,
   "metadata": {},
   "outputs": [
    {
     "name": "stdout",
     "output_type": "stream",
     "text": [
      "\u001b[2m\u001b[1m\u001b[32m\n",
      "TARGET VARIABLE ENCODED SUCCESSFULLY (1 = spam, 0 = ham) ...\u001b[0m\n"
     ]
    },
    {
     "data": {
      "text/html": [
       "<div>\n",
       "<style scoped>\n",
       "    .dataframe tbody tr th:only-of-type {\n",
       "        vertical-align: middle;\n",
       "    }\n",
       "\n",
       "    .dataframe tbody tr th {\n",
       "        vertical-align: top;\n",
       "    }\n",
       "\n",
       "    .dataframe thead th {\n",
       "        text-align: right;\n",
       "    }\n",
       "</style>\n",
       "<table border=\"1\" class=\"dataframe\">\n",
       "  <thead>\n",
       "    <tr style=\"text-align: right;\">\n",
       "      <th></th>\n",
       "      <th>target</th>\n",
       "      <th>text</th>\n",
       "      <th>message_clean</th>\n",
       "      <th>message_len</th>\n",
       "      <th>target_encoded</th>\n",
       "    </tr>\n",
       "  </thead>\n",
       "  <tbody>\n",
       "    <tr>\n",
       "      <th>0</th>\n",
       "      <td>ham</td>\n",
       "      <td>Go until jurong point, crazy.. Available only in bugis n great world la e buffet... Cine there got amore wat...</td>\n",
       "      <td>go jurong point crazy available bugis n great world la e buffet cine get amore wat</td>\n",
       "      <td>16</td>\n",
       "      <td>0</td>\n",
       "    </tr>\n",
       "    <tr>\n",
       "      <th>1</th>\n",
       "      <td>ham</td>\n",
       "      <td>Ok lar... Joking wif u oni...</td>\n",
       "      <td>ok lar joke wif oni</td>\n",
       "      <td>5</td>\n",
       "      <td>0</td>\n",
       "    </tr>\n",
       "    <tr>\n",
       "      <th>2</th>\n",
       "      <td>spam</td>\n",
       "      <td>Free entry in 2 a wkly comp to win FA Cup final tkts 21st May 2005. Text FA to 87121 to receive entry question(std txt rate)T&amp;C's apply 08452810075over18's</td>\n",
       "      <td>free entry wkly comp win fa cup final tkts may text fa receive entry questionstd txt ratetcs apply</td>\n",
       "      <td>23</td>\n",
       "      <td>1</td>\n",
       "    </tr>\n",
       "    <tr>\n",
       "      <th>3</th>\n",
       "      <td>ham</td>\n",
       "      <td>U dun say so early hor... U c already then say...</td>\n",
       "      <td>dun say early hor already say</td>\n",
       "      <td>6</td>\n",
       "      <td>0</td>\n",
       "    </tr>\n",
       "    <tr>\n",
       "      <th>4</th>\n",
       "      <td>ham</td>\n",
       "      <td>Nah I don't think he goes to usf, he lives around here though</td>\n",
       "      <td>nah dont think go usf live around though</td>\n",
       "      <td>8</td>\n",
       "      <td>0</td>\n",
       "    </tr>\n",
       "  </tbody>\n",
       "</table>\n",
       "</div>"
      ],
      "text/plain": [
       "  target  \\\n",
       "0  ham     \n",
       "1  ham     \n",
       "2  spam    \n",
       "3  ham     \n",
       "4  ham     \n",
       "\n",
       "                                                                                                                                                          text  \\\n",
       "0  Go until jurong point, crazy.. Available only in bugis n great world la e buffet... Cine there got amore wat...                                               \n",
       "1  Ok lar... Joking wif u oni...                                                                                                                                 \n",
       "2  Free entry in 2 a wkly comp to win FA Cup final tkts 21st May 2005. Text FA to 87121 to receive entry question(std txt rate)T&C's apply 08452810075over18's   \n",
       "3  U dun say so early hor... U c already then say...                                                                                                             \n",
       "4  Nah I don't think he goes to usf, he lives around here though                                                                                                 \n",
       "\n",
       "                                                                                        message_clean  \\\n",
       "0  go jurong point crazy available bugis n great world la e buffet cine get amore wat                   \n",
       "1  ok lar joke wif oni                                                                                  \n",
       "2  free entry wkly comp win fa cup final tkts may text fa receive entry questionstd txt ratetcs apply   \n",
       "3  dun say early hor already say                                                                        \n",
       "4  nah dont think go usf live around though                                                             \n",
       "\n",
       "   message_len  target_encoded  \n",
       "0  16           0               \n",
       "1  5            0               \n",
       "2  23           1               \n",
       "3  6            0               \n",
       "4  8            0               "
      ]
     },
     "execution_count": 22,
     "metadata": {},
     "output_type": "execute_result"
    }
   ],
   "source": [
    "#Encode the target column to spam = 1, ham = 0\n",
    "le = LabelEncoder()\n",
    "le.fit(data['target'])\n",
    "\n",
    "data['target_encoded'] = le.transform(data['target'])\n",
    "print(colored(\"\\nTARGET VARIABLE ENCODED SUCCESSFULLY (1 = spam, 0 = ham) ...\", color = \"green\", attrs = [\"bold\", \"dark\"]))\n",
    "data.head()"
   ]
  },
  {
   "cell_type": "markdown",
   "metadata": {},
   "source": [
    "Data Preparation"
   ]
  },
  {
   "cell_type": "code",
   "execution_count": 23,
   "metadata": {},
   "outputs": [
    {
     "name": "stdout",
     "output_type": "stream",
     "text": [
      "[(4135, 132), (1034, 132)]\n"
     ]
    }
   ],
   "source": [
    "#Setting values for labels and feature as y and X(we already did X in vectorizing...)\n",
    "x = simple_train_dtm        #X put sparse matrix bcs more memory efficient (no zero value)\n",
    "y = data['target_encoded']\n",
    "# Splitting the testing and training sets\n",
    "X_train, X_test, y_train, y_test = train_test_split(x, y, test_size=0.2, random_state=42)\n",
    "print([np.shape(X_train), np.shape(X_test)])    #(4135, 134) means X_train have 4135 rows and 134 col, (1034, 134) means X_TEST 1034 rows and 134 columns"
   ]
  },
  {
   "cell_type": "markdown",
   "metadata": {},
   "source": [
    "Model Training"
   ]
  },
  {
   "cell_type": "code",
   "execution_count": 24,
   "metadata": {},
   "outputs": [
    {
     "data": {
      "text/html": [
       "<style>#sk-container-id-2 {color: black;}#sk-container-id-2 pre{padding: 0;}#sk-container-id-2 div.sk-toggleable {background-color: white;}#sk-container-id-2 label.sk-toggleable__label {cursor: pointer;display: block;width: 100%;margin-bottom: 0;padding: 0.3em;box-sizing: border-box;text-align: center;}#sk-container-id-2 label.sk-toggleable__label-arrow:before {content: \"▸\";float: left;margin-right: 0.25em;color: #696969;}#sk-container-id-2 label.sk-toggleable__label-arrow:hover:before {color: black;}#sk-container-id-2 div.sk-estimator:hover label.sk-toggleable__label-arrow:before {color: black;}#sk-container-id-2 div.sk-toggleable__content {max-height: 0;max-width: 0;overflow: hidden;text-align: left;background-color: #f0f8ff;}#sk-container-id-2 div.sk-toggleable__content pre {margin: 0.2em;color: black;border-radius: 0.25em;background-color: #f0f8ff;}#sk-container-id-2 input.sk-toggleable__control:checked~div.sk-toggleable__content {max-height: 200px;max-width: 100%;overflow: auto;}#sk-container-id-2 input.sk-toggleable__control:checked~label.sk-toggleable__label-arrow:before {content: \"▾\";}#sk-container-id-2 div.sk-estimator input.sk-toggleable__control:checked~label.sk-toggleable__label {background-color: #d4ebff;}#sk-container-id-2 div.sk-label input.sk-toggleable__control:checked~label.sk-toggleable__label {background-color: #d4ebff;}#sk-container-id-2 input.sk-hidden--visually {border: 0;clip: rect(1px 1px 1px 1px);clip: rect(1px, 1px, 1px, 1px);height: 1px;margin: -1px;overflow: hidden;padding: 0;position: absolute;width: 1px;}#sk-container-id-2 div.sk-estimator {font-family: monospace;background-color: #f0f8ff;border: 1px dotted black;border-radius: 0.25em;box-sizing: border-box;margin-bottom: 0.5em;}#sk-container-id-2 div.sk-estimator:hover {background-color: #d4ebff;}#sk-container-id-2 div.sk-parallel-item::after {content: \"\";width: 100%;border-bottom: 1px solid gray;flex-grow: 1;}#sk-container-id-2 div.sk-label:hover label.sk-toggleable__label {background-color: #d4ebff;}#sk-container-id-2 div.sk-serial::before {content: \"\";position: absolute;border-left: 1px solid gray;box-sizing: border-box;top: 0;bottom: 0;left: 50%;z-index: 0;}#sk-container-id-2 div.sk-serial {display: flex;flex-direction: column;align-items: center;background-color: white;padding-right: 0.2em;padding-left: 0.2em;position: relative;}#sk-container-id-2 div.sk-item {position: relative;z-index: 1;}#sk-container-id-2 div.sk-parallel {display: flex;align-items: stretch;justify-content: center;background-color: white;position: relative;}#sk-container-id-2 div.sk-item::before, #sk-container-id-2 div.sk-parallel-item::before {content: \"\";position: absolute;border-left: 1px solid gray;box-sizing: border-box;top: 0;bottom: 0;left: 50%;z-index: -1;}#sk-container-id-2 div.sk-parallel-item {display: flex;flex-direction: column;z-index: 1;position: relative;background-color: white;}#sk-container-id-2 div.sk-parallel-item:first-child::after {align-self: flex-end;width: 50%;}#sk-container-id-2 div.sk-parallel-item:last-child::after {align-self: flex-start;width: 50%;}#sk-container-id-2 div.sk-parallel-item:only-child::after {width: 0;}#sk-container-id-2 div.sk-dashed-wrapped {border: 1px dashed gray;margin: 0 0.4em 0.5em 0.4em;box-sizing: border-box;padding-bottom: 0.4em;background-color: white;}#sk-container-id-2 div.sk-label label {font-family: monospace;font-weight: bold;display: inline-block;line-height: 1.2em;}#sk-container-id-2 div.sk-label-container {text-align: center;}#sk-container-id-2 div.sk-container {/* jupyter's `normalize.less` sets `[hidden] { display: none; }` but bootstrap.min.css set `[hidden] { display: none !important; }` so we also need the `!important` here to be able to override the default hidden behavior on the sphinx rendered scikit-learn.org. See: https://github.com/scikit-learn/scikit-learn/issues/21755 */display: inline-block !important;position: relative;}#sk-container-id-2 div.sk-text-repr-fallback {display: none;}</style><div id=\"sk-container-id-2\" class=\"sk-top-container\"><div class=\"sk-text-repr-fallback\"><pre>LinearSVC(C=1.0, class_weight=None, dual=&#x27;warn&#x27;, fit_intercept=True,\n",
       "          intercept_scaling=1, loss=&#x27;squared_hinge&#x27;, max_iter=1000,\n",
       "          multi_class=&#x27;ovr&#x27;, penalty=&#x27;l2&#x27;, random_state=None, tol=0.0001,\n",
       "          verbose=0)</pre><b>In a Jupyter environment, please rerun this cell to show the HTML representation or trust the notebook. <br />On GitHub, the HTML representation is unable to render, please try loading this page with nbviewer.org.</b></div><div class=\"sk-container\" hidden><div class=\"sk-item\"><div class=\"sk-estimator sk-toggleable\"><input class=\"sk-toggleable__control sk-hidden--visually\" id=\"sk-estimator-id-2\" type=\"checkbox\" checked><label for=\"sk-estimator-id-2\" class=\"sk-toggleable__label sk-toggleable__label-arrow\">LinearSVC</label><div class=\"sk-toggleable__content\"><pre>LinearSVC(C=1.0, class_weight=None, dual=&#x27;warn&#x27;, fit_intercept=True,\n",
       "          intercept_scaling=1, loss=&#x27;squared_hinge&#x27;, max_iter=1000,\n",
       "          multi_class=&#x27;ovr&#x27;, penalty=&#x27;l2&#x27;, random_state=None, tol=0.0001,\n",
       "          verbose=0)</pre></div></div></div></div></div>"
      ],
      "text/plain": [
       "LinearSVC(C=1.0, class_weight=None, dual='warn', fit_intercept=True,\n",
       "          intercept_scaling=1, loss='squared_hinge', max_iter=1000,\n",
       "          multi_class='ovr', penalty='l2', random_state=None, tol=0.0001,\n",
       "          verbose=0)"
      ]
     },
     "execution_count": 24,
     "metadata": {},
     "output_type": "execute_result"
    }
   ],
   "source": [
    "# instantiate a Linear SVM model\n",
    "svm = LinearSVC()\n",
    "# train the model \n",
    "svm.fit(X_train, y_train)"
   ]
  },
  {
   "cell_type": "markdown",
   "metadata": {},
   "source": [
    "Model Testing"
   ]
  },
  {
   "cell_type": "code",
   "execution_count": 25,
   "metadata": {},
   "outputs": [],
   "source": [
    "y_train_pred = svm.predict(X_train)\n",
    "y_test_pred = svm.predict(X_test)"
   ]
  },
  {
   "cell_type": "markdown",
   "metadata": {},
   "source": [
    "Model Evaluation"
   ]
  },
  {
   "cell_type": "code",
   "execution_count": 26,
   "metadata": {},
   "outputs": [
    {
     "data": {
      "image/png": "[encoded data removed]",
      "text/plain": [
       "<Figure size 640x480 with 1 Axes>"
      ]
     },
     "metadata": {},
     "output_type": "display_data"
    }
   ],
   "source": [
    "#CHECK WHETHER OVER FIT\n",
    "# Define the function to plot learning curves\n",
    "def plot_learning_curves(model, X, y, title):\n",
    "    # learning_curve function evaluates the model's performance. The cv=10 parameter means it uses 10-fold cross-validation. \n",
    "    # scoring='accuracy' sets the metric for evaluation to accuracy. train_sizes=np.linspace(0.1, 1.0, 10) generates ten evenly \n",
    "    # spaced training set sizes from 10% to 100% of the full training dataset.\n",
    "    train_sizes, train_scores, test_scores = learning_curve( \n",
    "        model, X, y, cv=10, scoring='accuracy', train_sizes=np.linspace(0.1, 1.0, 10))\n",
    "    \n",
    "    # Calculate the mean and standard deviation for both the training scores and the test (validation) scores \n",
    "    # across the cross-validation folds for each training set size.\n",
    "    train_mean = np.mean(train_scores, axis=1)\n",
    "    train_std = np.std(train_scores, axis=1)\n",
    "    test_mean = np.mean(test_scores, axis=1)\n",
    "    test_std = np.std(test_scores, axis=1)\n",
    "\n",
    "    # plots the mean training scores against the training sizes, marking each point with a circle ('o').\n",
    "    plt.plot(train_sizes, train_mean, color='blue', marker='o', markersize=5, label='Training accuracy')\n",
    "    # fills the area between the mean plus standard deviation and the mean minus standard deviation for the training scores, \n",
    "    # providing a visual representation of the variability of the training scores\n",
    "    plt.fill_between(train_sizes, train_mean + train_std, train_mean - train_std, alpha=0.15, color='blue')\n",
    "\n",
    "\n",
    "    # plots the mean validation scores against the training sizes with a dashed line ('--'), marking each point with a square ('s')\n",
    "    plt.plot(train_sizes, test_mean, color='green', linestyle='--', marker='s', markersize=5, label='Validation accuracy')\n",
    "    # fills the area between the mean plus standard deviation and the mean minus standard deviation for the validation scores, \n",
    "    # showing the variability in the validation scores.\n",
    "    plt.fill_between(train_sizes, test_mean + test_std, test_mean - test_std, alpha=0.15, color='green')\n",
    "\n",
    "    plt.title(title)\n",
    "    plt.xlabel('Number of training samples')\n",
    "    plt.ylabel('Accuracy')\n",
    "    plt.grid()\n",
    "    plt.legend(loc='lower right')\n",
    "    plt.ylim([0.8, 1.01])  # Adjust the y-axis limits as needed\n",
    "    plt.show()\n",
    "\n",
    "# Plot the learning curves\n",
    "plot_learning_curves(svm, X_train, y_train, \"Learning Curves (Linear Support Vector Machine)\")\n",
    "\n",
    "#EXPLANATION\n",
    "#If training accuracy is much higher than validation accuracy means overfit\n",
    "#For our scenario both training and validation score is high and doesnt have a huge gap(closely tgt, small but consistent \n",
    "# gap between the training and validation accuracy) means it is performing well"
   ]
  },
  {
   "cell_type": "code",
   "execution_count": 27,
   "metadata": {},
   "outputs": [
    {
     "data": {
      "text/html": [
       "<style type=\"text/css\">\n",
       "#T_2492a th {\n",
       "  background-color: #e0ecf8;\n",
       "  font-size: 12pt;\n",
       "  text-align: center;\n",
       "  border: 1px solid black;\n",
       "  color: #696969;\n",
       "}\n",
       "#T_2492a td {\n",
       "  border: 1px solid black;\n",
       "}\n",
       "#T_2492a_row0_col0, #T_2492a_row0_col1, #T_2492a_row0_col2, #T_2492a_row0_col3 {\n",
       "  background-color: #ffffff;\n",
       "  color: #000000;\n",
       "  text-align: center;\n",
       "}\n",
       "</style>\n",
       "<table id=\"T_2492a\">\n",
       "  <thead>\n",
       "    <tr>\n",
       "      <th class=\"blank level0\" >&nbsp;</th>\n",
       "      <th id=\"T_2492a_level0_col0\" class=\"col_heading level0 col0\" >Train Accuracy</th>\n",
       "      <th id=\"T_2492a_level0_col1\" class=\"col_heading level0 col1\" >Test Accuracy</th>\n",
       "      <th id=\"T_2492a_level0_col2\" class=\"col_heading level0 col2\" >Test Precision</th>\n",
       "      <th id=\"T_2492a_level0_col3\" class=\"col_heading level0 col3\" >Test Recall</th>\n",
       "    </tr>\n",
       "  </thead>\n",
       "  <tbody>\n",
       "    <tr>\n",
       "      <th id=\"T_2492a_level0_row0\" class=\"row_heading level0 row0\" >0</th>\n",
       "      <td id=\"T_2492a_row0_col0\" class=\"data row0 col0\" >0.9695</td>\n",
       "      <td id=\"T_2492a_row0_col1\" class=\"data row0 col1\" >0.9574</td>\n",
       "      <td id=\"T_2492a_row0_col2\" class=\"data row0 col2\" >0.9040</td>\n",
       "      <td id=\"T_2492a_row0_col3\" class=\"data row0 col3\" >0.7793</td>\n",
       "    </tr>\n",
       "  </tbody>\n",
       "</table>\n"
      ],
      "text/plain": [
       "<pandas.io.formats.style.Styler at 0x1b48f8cb760>"
      ]
     },
     "execution_count": 27,
     "metadata": {},
     "output_type": "execute_result"
    }
   ],
   "source": [
    "# Calculate accuracy, recall (actual positive instances that were correctly predicted (return relavant result)), and precision (predicted positive instances that were actually positive (Quality return meaningful stuff))\n",
    "train_accuracy = accuracy_score(y_train, y_train_pred)\n",
    "test_accuracy = accuracy_score(y_test, y_test_pred)\n",
    "test_recall = recall_score(y_test, y_test_pred)\n",
    "test_precision = precision_score(y_test, y_test_pred)\n",
    "\n",
    "# Format metrics to four decimal places before creating DataFrame\n",
    "train_accuracy = float(f\"{train_accuracy:.4f}\")\n",
    "test_accuracy = float(f\"{test_accuracy:.4f}\")\n",
    "test_recall = float(f\"{test_recall:.4f}\")\n",
    "test_precision = float(f\"{test_precision:.4f}\")\n",
    "\n",
    "# Creates pandas DataFrame.\n",
    "matrix = np.matrix(np.c_[train_accuracy, test_accuracy, test_precision, test_recall])\n",
    "\n",
    "models = pd.DataFrame(data = matrix, columns = \n",
    "             ['Train Accuracy', 'Test Accuracy', 'Test Precision', 'Test Recall'])\n",
    "\n",
    "# Styling\n",
    "header_style = {\n",
    "    'selector': 'th',\n",
    "    'props': [('background-color', '#e0ecf8'), ('font-size', '12pt'), ('text-align', 'center'), ('border', '1px solid black'), ('color', '#696969')]\n",
    "}\n",
    "cell_style = {\n",
    "    'selector': 'td',\n",
    "    'props': [('border', '1px solid black')]\n",
    "}\n",
    "styles = [header_style, cell_style]\n",
    "\n",
    "models_styled = models.style.format('{:.4f}') \\\n",
    "                         .background_gradient(cmap='Greys') \\\n",
    "                         .set_table_styles(styles) \\\n",
    "                         .set_properties(**{'text-align': 'center'})\n",
    "\n",
    "# Display styled DataFrame\n",
    "models_styled\n"
   ]
  },
  {
   "cell_type": "code",
   "execution_count": 28,
   "metadata": {},
   "outputs": [
    {
     "data": {
      "image/png": "[encoded data removed]",
      "text/plain": [
       "<Figure size 600x400 with 1 Axes>"
      ]
     },
     "metadata": {},
     "output_type": "display_data"
    }
   ],
   "source": [
    "# Compute confusion matrix\n",
    "m_confusion_test = metrics.confusion_matrix(y_test, svm.predict(X_test))\n",
    "\n",
    "# Plot confusion matrix\n",
    "plt.figure(figsize=(6, 4))\n",
    "sns.heatmap(m_confusion_test, annot=True, fmt=\"d\", cmap=\"Blues\", cbar=False,\n",
    "            xticklabels=[\"Predicted human\", \"Predicted spam\"],\n",
    "            yticklabels=[\"Actual human\", \"Actual spam\"])\n",
    "plt.xlabel(\"Predicted Labels\")\n",
    "plt.ylabel(\"Actual Labels\")\n",
    "plt.title(\"Confusion Matrix\")\n",
    "plt.show()"
   ]
  },
  {
   "cell_type": "code",
   "execution_count": 29,
   "metadata": {},
   "outputs": [
    {
     "data": {
      "text/html": [
       "<style type=\"text/css\">\n",
       "#T_21ebb th {\n",
       "  background-color: #e0ecf8;\n",
       "  font-size: 12pt;\n",
       "  text-align: center;\n",
       "  border: 1px solid black;\n",
       "  color: #696969;\n",
       "}\n",
       "#T_21ebb td {\n",
       "  border: 1px solid black;\n",
       "}\n",
       "#T_21ebb_row0_col0 {\n",
       "  background-color: #ffffff;\n",
       "  color: #000000;\n",
       "  text-align: center;\n",
       "}\n",
       "</style>\n",
       "<table id=\"T_21ebb\">\n",
       "  <thead>\n",
       "    <tr>\n",
       "      <th class=\"blank level0\" >&nbsp;</th>\n",
       "      <th id=\"T_21ebb_level0_col0\" class=\"col_heading level0 col0\" >False Positive Rate (%)</th>\n",
       "    </tr>\n",
       "  </thead>\n",
       "  <tbody>\n",
       "    <tr>\n",
       "      <th id=\"T_21ebb_level0_row0\" class=\"row_heading level0 row0\" >0</th>\n",
       "      <td id=\"T_21ebb_row0_col0\" class=\"data row0 col0\" >1.1605</td>\n",
       "    </tr>\n",
       "  </tbody>\n",
       "</table>\n"
      ],
      "text/plain": [
       "<pandas.io.formats.style.Styler at 0x1b494ec81c0>"
      ]
     },
     "execution_count": 29,
     "metadata": {},
     "output_type": "execute_result"
    }
   ],
   "source": [
    "# Calculate the total number of predictions\n",
    "total_predictions = np.sum(m_confusion_test)\n",
    "\n",
    "# Identify the false positives count (Predicted as spam but actually human)\n",
    "false_positives = m_confusion_test[0, 1]\n",
    "\n",
    "# Calculate the percentage of false positives\n",
    "false_positive_percentage = (false_positives / total_predictions) * 100\n",
    "\n",
    "# Creates pandas DataFrame.\n",
    "matrix = np.matrix(np.c_[false_positive_percentage])\n",
    "models = pd.DataFrame(data = matrix, columns = \n",
    "             ['False Positive Rate (%)'])\n",
    "\n",
    "models_styled = models.style.format('{:.4f}') \\\n",
    "                             .background_gradient(cmap='Greys') \\\n",
    "                             .set_table_styles(styles) \\\n",
    "                             .set_properties(**{'text-align': 'center'})\n",
    "# Display styled DataFrame\n",
    "models_styled\n"
   ]
  }
 ],
 "metadata": {
  "kernelspec": {
   "display_name": "Python 3",
   "language": "python",
   "name": "python3"
  },
  "language_info": {
   "codemirror_mode": {
    "name": "ipython",
    "version": 3
   },
   "file_extension": ".py",
   "mimetype": "text/x-python",
   "name": "python",
   "nbconvert_exporter": "python",
   "pygments_lexer": "ipython3",
   "version": "3.8.0"
  }
 },
 "nbformat": 4,
 "nbformat_minor": 2
}
